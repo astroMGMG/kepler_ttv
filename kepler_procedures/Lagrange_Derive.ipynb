{
 "metadata": {
  "language": "Julia",
  "name": ""
 },
 "nbformat": 3,
 "nbformat_minor": 0,
 "worksheets": [
  {
   "cells": [
    {
     "cell_type": "code",
     "collapsed": false,
     "input": [
      "function lagrange_deriv(time::Array,flux::Array)\n",
      "    @assert (length(time)=length(flux))\n",
      "    \n",
      "    for i in 2:(length(flux)-1)\n",
      "        y0 =flux(i-1) \n",
      "        y1 =flux(i)\n",
      "        y2 =flux(i+1)\n",
      "        x0 =time(i-1)\n",
      "        x1 =time(i)\n",
      "        x2 =time(i+1)\n",
      "        x01 = x0-x1\n",
      "        x02 = x0-x2\n",
      "        x12 = x1-x2\n",
      "        dy = y0*x12/(x01*x02) + y1(1/x12-1/x01) - y2*x01/(x02*x12)\n",
      "    end\n",
      "    return dy \n",
      "end\n",
      "\n",
      "        "
     ],
     "language": "python",
     "metadata": {},
     "outputs": []
    }
   ],
   "metadata": {}
  }
 ]
}