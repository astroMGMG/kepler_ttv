{
 "metadata": {
  "language": "Julia",
  "name": "",
  "signature": "sha256:065881f89c86acf6c186cb0778c1615647b70f9c7767f6e625c930c0997974be"
 },
 "nbformat": 3,
 "nbformat_minor": 0,
 "worksheets": [
  {
   "cells": [
    {
     "cell_type": "code",
     "collapsed": false,
     "input": [
      "include(\"client_init.jl\")"
     ],
     "language": "python",
     "metadata": {},
     "outputs": [
      {
       "output_type": "stream",
       "stream": "stderr",
       "text": [
        "INFO: Loading help data..."
       ]
      },
      {
       "output_type": "stream",
       "stream": "stderr",
       "text": [
        "\n"
       ]
      },
      {
       "metadata": {},
       "output_type": "pyout",
       "prompt_number": 1,
       "text": [
        "get_good_lightcurve_quarters (generic function with 1 method)"
       ]
      }
     ],
     "prompt_number": 1
    },
    {
     "cell_type": "code",
     "collapsed": false,
     "input": [
      "blah=client_init()"
     ],
     "language": "python",
     "metadata": {},
     "outputs": [
      {
       "ename": "LoadError",
       "evalue": "PyError (PyImport_ImportModule) <class 'ImportError'>\nImportError(\"No module named 'urllib2'\",)\n  File \"/usr/lib/python3.4/site-packages/kplr/__init__.py\", line 6, in <module>\n    from .api import API, KOI, Planet, Star, LightCurve, TargetPixelFile\n  File \"/usr/lib/python3.4/site-packages/kplr/api.py\", line 15, in <module>\n    import urllib2\n\nwhile loading In[2], in expression starting on line 1",
       "output_type": "pyerr",
       "traceback": [
        "PyError (PyImport_ImportModule) <class 'ImportError'>\nImportError(\"No module named 'urllib2'\",)\n  File \"/usr/lib/python3.4/site-packages/kplr/__init__.py\", line 6, in <module>\n    from .api import API, KOI, Planet, Star, LightCurve, TargetPixelFile\n  File \"/usr/lib/python3.4/site-packages/kplr/api.py\", line 15, in <module>\n    import urllib2\n\nwhile loading In[2], in expression starting on line 1",
        " in pyerr_check at /home/mark/.julia/v0.3/PyCall/src/exception.jl:58",
        " in pyimport at /home/mark/.julia/v0.3/PyCall/src/PyCall.jl:85",
        " in client_init at /home/mark/Dropbox/School/2014_1Spring/ASTRO_585/kepler_ttv/kepler_procedures/client_init.jl:723"
       ]
      }
     ],
     "prompt_number": 2
    },
    {
     "cell_type": "code",
     "collapsed": false,
     "input": [],
     "language": "python",
     "metadata": {},
     "outputs": []
    }
   ],
   "metadata": {}
  }
 ]
}