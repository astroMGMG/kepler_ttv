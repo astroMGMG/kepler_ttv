{
 "metadata": {
  "language": "Julia",
  "name": "",
  "signature": "sha256:61e8ce5215d56df71ddb6893bbe6a7dc63862070873d15cb6255b8d746c533fc"
 },
 "nbformat": 3,
 "nbformat_minor": 0,
 "worksheets": [
  {
   "cells": [
    {
     "cell_type": "markdown",
     "metadata": {},
     "source": [
      "#Automated Kepler Procedures for Downloading and Detrending Lightcurves"
     ]
    },
    {
     "cell_type": "markdown",
     "metadata": {},
     "source": [
      "##What is this code doing?##\n",
      "This project seeks to automate the process of retrieving data for Kepler Objects of Interest (koi) and detrending them so that the transits can be analyzed and studied.  Detrending is the process of removing long variations in the lightcurves which are caused by either systematic effects (instrumental), stellar activity or from background sources."
     ]
    },
    {
     "cell_type": "markdown",
     "metadata": {},
     "source": [
      "##Setup##\n",
      "Will need to see the README.md file in the kepler procedures directory for setting up the required packages and includes a short description of some of the more important files and procedures."
     ]
    },
    {
     "cell_type": "markdown",
     "metadata": {},
     "source": [
      "##Running tests##\n",
      "Will need to be in \"kepler_procedures\" folder to run tests (and the rest of this code).\n",
      "\n",
      "We perform a series of tests (see \"run_tests.jl\" for more details). It currently performs three tests: one large regression test (test 1) and two unit tests (test 2 and 3). Test 1 will probably print out a long list of \"Exceeded maximum number of iterations\". This is produced from the \"Optim\" package and can safely be ignored."
     ]
    },
    {
     "cell_type": "code",
     "collapsed": false,
     "input": [
      "include(\"run_tests.jl\")"
     ],
     "language": "python",
     "metadata": {},
     "outputs": []
    },
    {
     "cell_type": "markdown",
     "metadata": {},
     "source": [
      "#Working on a Sample Set\n",
      "##Import the necessary functions\n",
      "We need to include the \"koi_launcher.jl\". This includes the all the necessary package imports and function definitions."
     ]
    },
    {
     "cell_type": "code",
     "collapsed": false,
     "input": [
      "include(\"koi_launcher.jl\")"
     ],
     "language": "python",
     "metadata": {},
     "outputs": []
    },
    {
     "cell_type": "markdown",
     "metadata": {},
     "source": [
      "##Running the code\n",
      "Next we can call \"koi_launcher\" which will retrieve the data for the kepler objects of interest (koi) that are specified in \"koi_list.csv\".  We set plotFlag=\"make_plots\" so that we can compare the untrended data to the trended data and we turn off the testing procedures."
     ]
    },
    {
     "cell_type": "code",
     "collapsed": false,
     "input": [
      "koi_launcher(\"koi_list.csv\",\"no_tests\",\"make_plot\")"
     ],
     "language": "python",
     "metadata": {},
     "outputs": []
    },
    {
     "cell_type": "markdown",
     "metadata": {},
     "source": [
      "##Future Work\n",
      "Currently this code only performs in a serial fashion. Parallel techniques that are being considered are to perform the detrending in parallel and to parse out lightcurves to different nodes. Since the detrending only requires the information for pieces of the lightcurve, there would not need to be any communication."
     ]
    }
   ],
   "metadata": {}
  }
 ]
}