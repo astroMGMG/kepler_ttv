{
 "metadata": {
  "language": "Julia",
  "name": "",
  "signature": "sha256:4b65babfa6bba293abcca0152198252c4c7ba511df04bcf52834aeb7e9cd196f"
 },
 "nbformat": 3,
 "nbformat_minor": 0,
 "worksheets": [
  {
   "cells": [
    {
     "cell_type": "markdown",
     "metadata": {},
     "source": [
      "##Code Snippets\n",
      "Useful for distributed arrays and using `fetch` and `map` and `@spawnat`"
     ]
    },
    {
     "cell_type": "code",
     "collapsed": false,
     "input": [
      "include(\"../set_procs.jl\")"
     ],
     "language": "python",
     "metadata": {},
     "outputs": [
      {
       "metadata": {},
       "output_type": "pyout",
       "prompt_number": 1,
       "text": [
        "set_procs (generic function with 1 method)"
       ]
      }
     ],
     "prompt_number": 1
    },
    {
     "cell_type": "code",
     "collapsed": false,
     "input": [
      "da = @parallel [2i for i = 1:100];\n",
      "a = [2i for i = 1:100];"
     ],
     "language": "python",
     "metadata": {},
     "outputs": [],
     "prompt_number": 7
    },
    {
     "cell_type": "code",
     "collapsed": false,
     "input": [
      "@everywhere function local_test!(da::Array{Int64,1})\n",
      "    da=da.+1.;\n",
      "end"
     ],
     "language": "python",
     "metadata": {},
     "outputs": [],
     "prompt_number": 25
    },
    {
     "cell_type": "code",
     "collapsed": false,
     "input": [
      "test = map(fetch,{ (@spawnat p local_test!(localpart(da))) for p in procs(da) })"
     ],
     "language": "python",
     "metadata": {},
     "outputs": [
      {
       "metadata": {},
       "output_type": "pyout",
       "prompt_number": 32,
       "text": [
        "4-element Array{Any,1}:\n",
        " [3.0,5.0,7.0,9.0,11.0,13.0,15.0,17.0,19.0,21.0  \u2026  33.0,35.0,37.0,39.0,41.0,43.0,45.0,47.0,49.0,51.0]                        \n",
        " [53.0,55.0,57.0,59.0,61.0,63.0,65.0,67.0,69.0,71.0  \u2026  83.0,85.0,87.0,89.0,91.0,93.0,95.0,97.0,99.0,101.0]                   \n",
        " [103.0,105.0,107.0,109.0,111.0,113.0,115.0,117.0,119.0,121.0  \u2026  133.0,135.0,137.0,139.0,141.0,143.0,145.0,147.0,149.0,151.0]\n",
        " [153.0,155.0,157.0,159.0,161.0,163.0,165.0,167.0,169.0,171.0  \u2026  183.0,185.0,187.0,189.0,191.0,193.0,195.0,197.0,199.0,201.0]"
       ]
      }
     ],
     "prompt_number": 32
    },
    {
     "cell_type": "code",
     "collapsed": false,
     "input": [
      "fetch(@spawnat 3 da[3])"
     ],
     "language": "python",
     "metadata": {},
     "outputs": [
      {
       "metadata": {},
       "output_type": "pyout",
       "prompt_number": 21,
       "text": [
        "6"
       ]
      }
     ],
     "prompt_number": 21
    },
    {
     "cell_type": "code",
     "collapsed": false,
     "input": [
      "map(fetch, { (@spawnat p sum(localpart(da))) for p=procs(da) })"
     ],
     "language": "python",
     "metadata": {},
     "outputs": [
      {
       "metadata": {},
       "output_type": "pyout",
       "prompt_number": 22,
       "text": [
        "4-element Array{Any,1}:\n",
        "  650\n",
        " 1900\n",
        " 3150\n",
        " 4400"
       ]
      }
     ],
     "prompt_number": 22
    },
    {
     "cell_type": "code",
     "collapsed": false,
     "input": [
      "fetch(@spawnat 4 localpart(da))"
     ],
     "language": "python",
     "metadata": {},
     "outputs": [
      {
       "metadata": {},
       "output_type": "pyout",
       "prompt_number": 30,
       "text": [
        "25-element Array{Int64,1}:\n",
        " 102\n",
        " 104\n",
        " 106\n",
        " 108\n",
        " 110\n",
        " 112\n",
        " 114\n",
        " 116\n",
        " 118\n",
        " 120\n",
        " 122\n",
        " 124\n",
        " 126\n",
        " 128\n",
        " 130\n",
        " 132\n",
        " 134\n",
        " 136\n",
        " 138\n",
        " 140\n",
        " 142\n",
        " 144\n",
        " 146\n",
        " 148\n",
        " 150"
       ]
      }
     ],
     "prompt_number": 30
    },
    {
     "cell_type": "code",
     "collapsed": false,
     "input": [
      "function par_sum(A,numprocs::Int64)\n",
      "    set_procs(numprocs);\n",
      "    @time sum( map(fetch, { (@spawnat p sum(localpart(A))) for p=procs(A)}))\n",
      "end"
     ],
     "language": "python",
     "metadata": {},
     "outputs": [
      {
       "metadata": {},
       "output_type": "pyout",
       "prompt_number": 63,
       "text": [
        "par_sum (generic function with 2 methods)"
       ]
      }
     ],
     "prompt_number": 63
    },
    {
     "cell_type": "code",
     "collapsed": false,
     "input": [
      "function par_sleep(numprocs::Int64)\n",
      "    set_procs(numprocs);\n",
      "    @time map(fetch, { (@spawnat p sleep(1)) for p=workers() })\n",
      "end"
     ],
     "language": "python",
     "metadata": {},
     "outputs": [
      {
       "metadata": {},
       "output_type": "pyout",
       "prompt_number": 71,
       "text": [
        "par_sleep (generic function with 1 method)"
       ]
      }
     ],
     "prompt_number": 71
    },
    {
     "cell_type": "code",
     "collapsed": false,
     "input": [
      "par_sleep(8)"
     ],
     "language": "python",
     "metadata": {},
     "outputs": [
      {
       "output_type": "stream",
       "stream": "stdout",
       "text": [
        "WARNING: Number of processes unchanged!\n"
       ]
      },
      {
       "output_type": "stream",
       "stream": "stdout",
       "text": [
        "Using 8"
       ]
      },
      {
       "output_type": "stream",
       "stream": "stdout",
       "text": [
        " processes\n"
       ]
      },
      {
       "output_type": "stream",
       "stream": "stdout",
       "text": [
        "elapsed time: 1"
       ]
      },
      {
       "output_type": "stream",
       "stream": "stdout",
       "text": [
        ".133284642 seconds (72900 bytes allocated)\n"
       ]
      },
      {
       "metadata": {},
       "output_type": "pyout",
       "prompt_number": 72,
       "text": [
        "7-element Array{Any,1}:\n",
        " nothing\n",
        " nothing\n",
        " nothing\n",
        " nothing\n",
        " nothing\n",
        " nothing\n",
        " nothing"
       ]
      }
     ],
     "prompt_number": 72
    },
    {
     "cell_type": "code",
     "collapsed": false,
     "input": [
      "@time sleep(1)"
     ],
     "language": "python",
     "metadata": {},
     "outputs": [
      {
       "output_type": "stream",
       "stream": "stdout",
       "text": [
        "elapsed time: 1"
       ]
      },
      {
       "output_type": "stream",
       "stream": "stdout",
       "text": [
        ".015635836 seconds (68628 bytes allocated)\n"
       ]
      }
     ],
     "prompt_number": 66
    },
    {
     "cell_type": "code",
     "collapsed": false,
     "input": [
      "fetch(@spawnat 1 localpart(blah))"
     ],
     "language": "python",
     "metadata": {},
     "outputs": [
      {
       "metadata": {},
       "output_type": "pyout",
       "prompt_number": 43,
       "text": [
        "0-element Array{Int64,1}"
       ]
      }
     ],
     "prompt_number": 43
    },
    {
     "cell_type": "code",
     "collapsed": false,
     "input": [
      "fetch(@spawnat 8 localpart(blah))"
     ],
     "language": "python",
     "metadata": {},
     "outputs": [
      {
       "metadata": {},
       "output_type": "pyout",
       "prompt_number": 45,
       "text": [
        "14-element Array{Int64,1}:\n",
        " 174\n",
        " 176\n",
        " 178\n",
        " 180\n",
        " 182\n",
        " 184\n",
        " 186\n",
        " 188\n",
        " 190\n",
        " 192\n",
        " 194\n",
        " 196\n",
        " 198\n",
        " 200"
       ]
      }
     ],
     "prompt_number": 45
    },
    {
     "cell_type": "code",
     "collapsed": false,
     "input": [
      "#set_procs(4);\n",
      "da = @parallel [2i for i = 1:16];\n",
      "print(fetch(@spawnat 2 localpart(da)))\n",
      "print(fetch(@spawnat 3 localpart(da)))\n",
      "print(fetch(@spawnat 4 localpart(da)))"
     ],
     "language": "python",
     "metadata": {},
     "outputs": [
      {
       "output_type": "stream",
       "stream": "stdout",
       "text": [
        "[2"
       ]
      },
      {
       "output_type": "stream",
       "stream": "stdout",
       "text": [
        ",4,6,8,10][12,14,16,18,20,22][24,26,28,30,32]"
       ]
      }
     ],
     "prompt_number": 26
    },
    {
     "cell_type": "code",
     "collapsed": false,
     "input": [
      "include(\"../par_launcher.jl\")\n",
      "par_launcher(8)"
     ],
     "language": "python",
     "metadata": {},
     "outputs": [
      {
       "output_type": "stream",
       "stream": "stdout",
       "text": [
        "Using 8"
       ]
      },
      {
       "output_type": "stream",
       "stream": "stdout",
       "text": [
        " processes\n"
       ]
      },
      {
       "output_type": "stream",
       "stream": "stdout",
       "text": [
        "\tFrom worker 2:\tExceeded maximum number of iterations\n"
       ]
      },
      {
       "output_type": "stream",
       "stream": "stdout",
       "text": [
        "\tFrom worker 3:\tExceeded maximum number of iterations\n",
        "\tFrom worker 4:\tExceeded maximum number of iterations\n",
        "\tFrom worker 2:\tExceeded maximum number of iterations\n"
       ]
      },
      {
       "output_type": "stream",
       "stream": "stdout",
       "text": [
        "\tFrom worker 3:\tExceeded maximum number of iterations\n",
        "\tFrom worker 4:\tExceeded maximum number of iterations\n",
        "\tFrom worker 2:\tExceeded maximum number of iterations\n"
       ]
      },
      {
       "output_type": "stream",
       "stream": "stdout",
       "text": [
        "\tFrom worker 3:\tExceeded maximum number of iterations\n",
        "\tFrom worker 4:\tExceeded maximum number of iterations\n",
        "\tFrom worker 2:\tExceeded maximum number of iterations\n"
       ]
      },
      {
       "output_type": "stream",
       "stream": "stdout",
       "text": [
        "\tFrom worker 3:\tExceeded maximum number of iterations\n",
        "\tFrom worker 4:\tExceeded maximum number of iterations\n",
        "\tFrom worker 2:\tExceeded maximum number of iterations\n",
        "\tFrom worker 3:\tExceeded maximum number of iterations\n"
       ]
      },
      {
       "output_type": "stream",
       "stream": "stdout",
       "text": [
        "\tFrom worker 4:\tExceeded maximum number of iterations\n",
        "\tFrom worker 2:\tExceeded maximum number of iterations\n",
        "\tFrom worker 3:\tExceeded maximum number of iterations\n",
        "\tFrom worker 4:\tExceeded maximum number of iterations\n"
       ]
      },
      {
       "output_type": "stream",
       "stream": "stdout",
       "text": [
        "\tFrom worker 2:\tExceeded maximum number of iterations\n",
        "\tFrom worker 3:\tExceeded maximum number of iterations\n",
        "\tFrom worker 4:\tExceeded maximum number of iterations\n"
       ]
      },
      {
       "output_type": "stream",
       "stream": "stdout",
       "text": [
        "\tFrom worker 2:\tExceeded maximum number of iterations\n",
        "\tFrom worker 3:\tExceeded maximum number of iterations\n",
        "\tFrom worker 4:\tExceeded maximum number of iterations\n"
       ]
      },
      {
       "output_type": "stream",
       "stream": "stdout",
       "text": [
        "\tFrom worker 2:\tExceeded maximum number of iterations\n",
        "\tFrom worker 3:\tExceeded maximum number of iterations\n",
        "\tFrom worker 4:\tExceeded maximum number of iterations\n"
       ]
      },
      {
       "output_type": "stream",
       "stream": "stdout",
       "text": [
        "\tFrom worker 2:\tExceeded maximum number of iterations\n",
        "\tFrom worker 3:\tExceeded maximum number of iterations\n",
        "\tFrom worker 4:\tExceeded maximum number of iterations\n"
       ]
      },
      {
       "output_type": "stream",
       "stream": "stdout",
       "text": [
        "\tFrom worker 2:\tExceeded maximum number of iterations\n",
        "\tFrom worker 4:\tExceeded maximum number of iterations\n",
        "\tFrom worker 3:\tExceeded maximum number of iterations\n",
        "\tFrom worker 4:\tExceeded maximum number of iterations\n",
        "\tFrom worker 2:\tExceeded maximum number of iterations\n"
       ]
      },
      {
       "output_type": "stream",
       "stream": "stdout",
       "text": [
        "\tFrom worker 3:\tExceeded maximum number of iterations\n",
        "\tFrom worker 4:\tExceeded maximum number of iterations\n",
        "\tFrom worker 2:\tExceeded maximum number of iterations\n"
       ]
      },
      {
       "output_type": "stream",
       "stream": "stdout",
       "text": [
        "\tFrom worker 3:\tExceeded maximum number of iterations\n",
        "\tFrom worker 4:\tExceeded maximum number of iterations\n",
        "\tFrom worker 2:\tExceeded maximum number of iterations\n",
        "\tFrom worker 3:\tExceeded maximum number of iterations\n"
       ]
      },
      {
       "output_type": "stream",
       "stream": "stdout",
       "text": [
        "\tFrom worker 4:\tExceeded maximum number of iterations\n",
        "\tFrom worker 2:\tExceeded maximum number of iterations\n",
        "\tFrom worker 3:\tExceeded maximum number of iterations\n"
       ]
      },
      {
       "output_type": "stream",
       "stream": "stdout",
       "text": [
        "\tFrom worker 4:\tExceeded maximum number of iterations\n",
        "\tFrom worker 2:\tExceeded maximum number of iterations\n",
        "\tFrom worker 3:\tExceeded maximum number of iterations\n",
        "\tFrom worker 4:\tExceeded maximum number of iterations\n"
       ]
      },
      {
       "output_type": "stream",
       "stream": "stdout",
       "text": [
        "\tFrom worker 3:\tExceeded maximum number of iterations\n",
        "\tFrom worker 2:\tExceeded maximum number of iterations\n",
        "\tFrom worker 4:\tExceeded maximum number of iterations\n"
       ]
      },
      {
       "output_type": "stream",
       "stream": "stdout",
       "text": [
        "\tFrom worker 3:\tExceeded maximum number of iterations\n",
        "\tFrom worker 2:\tExceeded maximum number of iterations\n",
        "\tFrom worker 4:\tExceeded maximum number of iterations\n"
       ]
      },
      {
       "output_type": "stream",
       "stream": "stdout",
       "text": [
        "\tFrom worker 2:\tExceeded maximum number of iterations\n",
        "\tFrom worker 3:\tExceeded maximum number of iterations\n",
        "\tFrom worker 4:\tExceeded maximum number of iterations\n",
        "\tFrom worker 2:\tExceeded maximum number of iterations\n"
       ]
      },
      {
       "output_type": "stream",
       "stream": "stdout",
       "text": [
        "\tFrom worker 3:\tExceeded maximum number of iterations\n",
        "\tFrom worker 4:\tExceeded maximum number of iterations\n",
        "\tFrom worker 2:\tExceeded maximum number of iterations\n"
       ]
      },
      {
       "output_type": "stream",
       "stream": "stdout",
       "text": [
        "\tFrom worker 3:\tExceeded maximum number of iterations\n",
        "\tFrom worker 4:\tExceeded maximum number of iterations\n",
        "\tFrom worker 2:\tExceeded maximum number of iterations\n",
        "\tFrom worker 3:\tExceeded maximum number of iterations\n"
       ]
      },
      {
       "output_type": "stream",
       "stream": "stdout",
       "text": [
        "\tFrom worker 4:\tExceeded maximum number of iterations\n",
        "\tFrom worker 2:\tExceeded maximum number of iterations\n",
        "\tFrom worker 3:\tExceeded maximum number of iterations\n"
       ]
      },
      {
       "output_type": "stream",
       "stream": "stdout",
       "text": [
        "\tFrom worker 4:\tExceeded maximum number of iterations\n",
        "\tFrom worker 2:\tExceeded maximum number of iterations\n",
        "\tFrom worker 3:\tExceeded maximum number of iterations\n"
       ]
      },
      {
       "output_type": "stream",
       "stream": "stdout",
       "text": [
        "\tFrom worker 4:\tExceeded maximum number of iterations\n",
        "\tFrom worker 3:\tExceeded maximum number of iterations\n",
        "\tFrom worker 2:\tExceeded maximum number of iterations\n",
        "\tFrom worker 4:\tExceeded maximum number of iterations\n"
       ]
      },
      {
       "output_type": "stream",
       "stream": "stdout",
       "text": [
        "\tFrom worker 3:\tExceeded maximum number of iterations\n",
        "\tFrom worker 2:\tExceeded maximum number of iterations\n",
        "\tFrom worker 4:\tExceeded maximum number of iterations\n"
       ]
      },
      {
       "output_type": "stream",
       "stream": "stdout",
       "text": [
        "\tFrom worker 3:\tExceeded maximum number of iterations\n",
        "\tFrom worker 4:\tExceeded maximum number of iterations\n",
        "\tFrom worker 2:\tExceeded maximum number of iterations\n"
       ]
      },
      {
       "output_type": "stream",
       "stream": "stdout",
       "text": [
        "\tFrom worker 3:\tExceeded maximum number of iterations\n",
        "\tFrom worker 4:\tExceeded maximum number of iterations\n",
        "\tFrom worker 2:\tExceeded maximum number of iterations\n"
       ]
      },
      {
       "output_type": "stream",
       "stream": "stdout",
       "text": [
        "\tFrom worker 3:\tExceeded maximum number of iterations\n",
        "\tFrom worker 4:\tExceeded maximum number of iterations\n",
        "\tFrom worker 2:\tExceeded maximum number of iterations\n",
        "\tFrom worker 3:\tExceeded maximum number of iterations\n"
       ]
      },
      {
       "output_type": "stream",
       "stream": "stdout",
       "text": [
        "\tFrom worker 2:\tExceeded maximum number of iterations\n",
        "\tFrom worker 4:\tExceeded maximum number of iterations\n"
       ]
      },
      {
       "output_type": "stream",
       "stream": "stdout",
       "text": [
        "\tFrom worker 3:\tExceeded maximum number of iterations\n",
        "\tFrom worker 2:\tExceeded maximum number of iterations\n"
       ]
      },
      {
       "output_type": "stream",
       "stream": "stdout",
       "text": [
        "\tFrom worker 8:\tExceeded maximum number of iterations\n"
       ]
      },
      {
       "output_type": "stream",
       "stream": "stdout",
       "text": [
        "\tFrom worker 8:\tExceeded maximum number of iterations\n"
       ]
      },
      {
       "output_type": "stream",
       "stream": "stdout",
       "text": [
        "\tFrom worker 8:\tExceeded maximum number of iterations\n"
       ]
      },
      {
       "output_type": "stream",
       "stream": "stdout",
       "text": [
        "\tFrom worker 5:\tExceeded maximum number of iterations\n",
        "\tFrom worker 8:\tExceeded maximum number of iterations\n",
        "\tFrom worker 6:\tExceeded maximum number of iterations\n",
        "\tFrom worker 8:\tExceeded maximum number of iterations\n"
       ]
      },
      {
       "output_type": "stream",
       "stream": "stdout",
       "text": [
        "\tFrom worker 5:\tExceeded maximum number of iterations\n",
        "\tFrom worker 8:\tExceeded maximum number of iterations\n",
        "\tFrom worker 6:\tExceeded maximum number of iterations\n",
        "\tFrom worker 5:\tExceeded maximum number of iterations\n"
       ]
      },
      {
       "output_type": "stream",
       "stream": "stdout",
       "text": [
        "\tFrom worker 8:\tExceeded maximum number of iterations\n",
        "\tFrom worker 6:\tExceeded maximum number of iterations\n",
        "\tFrom worker 5:\tExceeded maximum number of iterations\n",
        "\tFrom worker 8:\tExceeded maximum number of iterations\n"
       ]
      },
      {
       "output_type": "stream",
       "stream": "stdout",
       "text": [
        "\tFrom worker 6:\tExceeded maximum number of iterations\n",
        "\tFrom worker 5:\tExceeded maximum number of iterations\n",
        "\tFrom worker 8:\tExceeded maximum number of iterations\n",
        "\tFrom worker 5:\tExceeded maximum number of iterations\n"
       ]
      },
      {
       "output_type": "stream",
       "stream": "stdout",
       "text": [
        "\tFrom worker 6:\tExceeded maximum number of iterations\n",
        "\tFrom worker 8:\tExceeded maximum number of iterations\n",
        "\tFrom worker 5:\tExceeded maximum number of iterations\n",
        "\tFrom worker 8:\tExceeded maximum number of iterations\n",
        "\tFrom worker 7:\tExceeded maximum number of iterations\n",
        "\tFrom worker 6:\tExceeded maximum number of iterations\n"
       ]
      },
      {
       "output_type": "stream",
       "stream": "stdout",
       "text": [
        "\tFrom worker 5:\tExceeded maximum number of iterations\n",
        "\tFrom worker 6:\tExceeded maximum number of iterations\n",
        "\tFrom worker 8:\tExceeded maximum number of iterations\n",
        "\tFrom worker 5:\tExceeded maximum number of iterations\n"
       ]
      },
      {
       "output_type": "stream",
       "stream": "stdout",
       "text": [
        "\tFrom worker 7:\tExceeded maximum number of iterations\n",
        "\tFrom worker 6:\tExceeded maximum number of iterations\n",
        "\tFrom worker 8:\tExceeded maximum number of iterations\n",
        "\tFrom worker 7:\tExceeded maximum number of iterations\n",
        "\tFrom worker 5:\tExceeded maximum number of iterations\n"
       ]
      },
      {
       "output_type": "stream",
       "stream": "stdout",
       "text": [
        "\tFrom worker 6:\tExceeded maximum number of iterations\n",
        "\tFrom worker 7:\tExceeded maximum number of iterations\n",
        "\tFrom worker 8:\tExceeded maximum number of iterations\n",
        "\tFrom worker 6:\tExceeded maximum number of iterations\n",
        "\tFrom worker 5:\tExceeded maximum number of iterations\n"
       ]
      },
      {
       "output_type": "stream",
       "stream": "stdout",
       "text": [
        "\tFrom worker 7:\tExceeded maximum number of iterations\n",
        "\tFrom worker 6:\tExceeded maximum number of iterations\n",
        "\tFrom worker 8:\tExceeded maximum number of iterations\n",
        "\tFrom worker 7:\tExceeded maximum number of iterations\n",
        "\tFrom worker 5:\tExceeded maximum number of iterations\n"
       ]
      },
      {
       "output_type": "stream",
       "stream": "stdout",
       "text": [
        "\tFrom worker 6:\tExceeded maximum number of iterations\n",
        "\tFrom worker 8:\tExceeded maximum number of iterations\n",
        "\tFrom worker 7:\tExceeded maximum number of iterations\n",
        "\tFrom worker 5:\tExceeded maximum number of iterations\n"
       ]
      },
      {
       "output_type": "stream",
       "stream": "stdout",
       "text": [
        "\tFrom worker 6:\tExceeded maximum number of iterations\n",
        "\tFrom worker 7:\tExceeded maximum number of iterations\n",
        "\tFrom worker 8:\tExceeded maximum number of iterations\n",
        "\tFrom worker 6:\tExceeded maximum number of iterations\n",
        "\tFrom worker 5:\tExceeded maximum number of iterations\n",
        "\tFrom worker 8:\tExceeded maximum number of iterations\n",
        "\tFrom worker 7:\tExceeded maximum number of iterations\n"
       ]
      },
      {
       "output_type": "stream",
       "stream": "stdout",
       "text": [
        "\tFrom worker 6:\tExceeded maximum number of iterations\n",
        "\tFrom worker 7:\tExceeded maximum number of iterations\n",
        "\tFrom worker 5:\tExceeded maximum number of iterations\n",
        "\tFrom worker 8:\tExceeded maximum number of iterations\n"
       ]
      },
      {
       "output_type": "stream",
       "stream": "stdout",
       "text": [
        "\tFrom worker 6:\tExceeded maximum number of iterations\n",
        "\tFrom worker 7:\tExceeded maximum number of iterations\n",
        "\tFrom worker 8:\tExceeded maximum number of iterations\n",
        "\tFrom worker 5:\tExceeded maximum number of iterations\n",
        "\tFrom worker 6:\tExceeded maximum number of iterations\n",
        "\tFrom worker 7:\tExceeded maximum number of iterations\n"
       ]
      },
      {
       "output_type": "stream",
       "stream": "stdout",
       "text": [
        "\tFrom worker 5:\tExceeded maximum number of iterations\n",
        "\tFrom worker 6:\tExceeded maximum number of iterations\n",
        "\tFrom worker 8:\tExceeded maximum number of iterations\n",
        "\tFrom worker 7:\tExceeded maximum number of iterations\n"
       ]
      },
      {
       "output_type": "stream",
       "stream": "stdout",
       "text": [
        "\tFrom worker 5:\tExceeded maximum number of iterations\n",
        "\tFrom worker 6:\tExceeded maximum number of iterations\n",
        "\tFrom worker 7:\tExceeded maximum number of iterations\n",
        "\tFrom worker 8:\tExceeded maximum number of iterations\n",
        "\tFrom worker 6:\tExceeded maximum number of iterations\n",
        "\tFrom worker 7:\tExceeded maximum number of iterations\n"
       ]
      },
      {
       "output_type": "stream",
       "stream": "stdout",
       "text": [
        "\tFrom worker 5:\tExceeded maximum number of iterations\n",
        "\tFrom worker 8:\tExceeded maximum number of iterations\n",
        "\tFrom worker 6:\tExceeded maximum number of iterations\n",
        "\tFrom worker 7:\tExceeded maximum number of iterations\n"
       ]
      },
      {
       "output_type": "stream",
       "stream": "stdout",
       "text": [
        "\tFrom worker 5:\tExceeded maximum number of iterations\n",
        "\tFrom worker 6:\tExceeded maximum number of iterations\n",
        "\tFrom worker 7:\tExceeded maximum number of iterations\n",
        "\tFrom worker 8:\tExceeded maximum number of iterations\n",
        "\tFrom worker 6:\tExceeded maximum number of iterations\n",
        "\tFrom worker 5:\tExceeded maximum number of iterations\n"
       ]
      },
      {
       "output_type": "stream",
       "stream": "stdout",
       "text": [
        "\tFrom worker 7:\tExceeded maximum number of iterations\n",
        "\tFrom worker 7:\tExceeded maximum number of iterations\n",
        "\tFrom worker 8:\tExceeded maximum number of iterations\n",
        "\tFrom worker 6:\tExceeded maximum number of iterations\n",
        "\tFrom worker 7:\tExceeded maximum number of iterations\n",
        "\tFrom worker 5:\tExceeded maximum number of iterations\n"
       ]
      },
      {
       "output_type": "stream",
       "stream": "stdout",
       "text": [
        "\tFrom worker 8:\tExceeded maximum number of iterations\n",
        "\tFrom worker 6:\tExceeded maximum number of iterations\n",
        "\tFrom worker 7:\tExceeded maximum number of iterations\n",
        "\tFrom worker 5:\tExceeded maximum number of iterations\n",
        "\tFrom worker 6:\tExceeded maximum number of iterations\n"
       ]
      },
      {
       "output_type": "stream",
       "stream": "stdout",
       "text": [
        "\tFrom worker 8:\tExceeded maximum number of iterations\n",
        "\tFrom worker 7:\tExceeded maximum number of iterations\n",
        "\tFrom worker 6:\tExceeded maximum number of iterations\n",
        "\tFrom worker 5:\tExceeded maximum number of iterations\n",
        "\tFrom worker 7:\tExceeded maximum number of iterations\n"
       ]
      },
      {
       "output_type": "stream",
       "stream": "stdout",
       "text": [
        "\tFrom worker 8:\tExceeded maximum number of iterations\n",
        "\tFrom worker 6:\tExceeded maximum number of iterations\n",
        "\tFrom worker 7:\tExceeded maximum number of iterations\n",
        "\tFrom worker 5:\tExceeded maximum number of iterations\n",
        "\tFrom worker 6:\tExceeded maximum number of iterations\n",
        "\tFrom worker 8:\tExceeded maximum number of iterations\n"
       ]
      },
      {
       "output_type": "stream",
       "stream": "stdout",
       "text": [
        "\tFrom worker 7:\tExceeded maximum number of iterations\n",
        "\tFrom worker 6:\tExceeded maximum number of iterations\n",
        "\tFrom worker 5:\tExceeded maximum number of iterations\n",
        "\tFrom worker 7:\tExceeded maximum number of iterations\n",
        "\tFrom worker 8:\tExceeded maximum number of iterations\n"
       ]
      },
      {
       "output_type": "stream",
       "stream": "stdout",
       "text": [
        "\tFrom worker 6:\tExceeded maximum number of iterations\n",
        "\tFrom worker 7:\tExceeded maximum number of iterations\n",
        "\tFrom worker 5:\tExceeded maximum number of iterations\n"
       ]
      },
      {
       "output_type": "stream",
       "stream": "stdout",
       "text": [
        "\tFrom worker 7:\tExceeded maximum number of iterations\n",
        "\tFrom worker 8:\tExceeded maximum number of iterations\n",
        "\tFrom worker 5:\tExceeded maximum number of iterations\n",
        "\tFrom worker 7:\tExceeded maximum number of iterations\n"
       ]
      },
      {
       "output_type": "stream",
       "stream": "stdout",
       "text": [
        "\tFrom worker 5:\tExceeded maximum number of iterations\n",
        "\tFrom worker 7:\tExceeded maximum number of iterations\n",
        "\tFrom worker 5:\tExceeded maximum number of iterations\n"
       ]
      },
      {
       "output_type": "stream",
       "stream": "stdout",
       "text": [
        "\tFrom worker 7:\tExceeded maximum number of iterations\n",
        "\tFrom worker 5:\tExceeded maximum number of iterations\n"
       ]
      },
      {
       "output_type": "stream",
       "stream": "stdout",
       "text": [
        "elapsed time: 10"
       ]
      },
      {
       "output_type": "stream",
       "stream": "stdout",
       "text": [
        ".08923329 seconds (4719640 bytes allocated)\n"
       ]
      },
      {
       "metadata": {},
       "output_type": "pyout",
       "prompt_number": 4,
       "text": [
        "([131.512,131.532,131.553,131.573,131.594,131.614,131.634,131.655,131.675,131.696  \u2026  1590.82,1590.84,1590.86,1590.88,1590.9,1590.92,1590.94,1590.96,1590.98,1591.0],[1.00143,1.00007,0.999663,1.00047,1.00036,0.999666,1.00078,0.998655,1.00092,1.00093  \u2026  0.998397,0.99949,0.999174,0.999585,1.00013,0.999294,0.998351,0.998336,0.997913,0.99812])"
       ]
      }
     ],
     "prompt_number": 4
    },
    {
     "cell_type": "code",
     "collapsed": false,
     "input": [
      "using PyPlot"
     ],
     "language": "python",
     "metadata": {},
     "outputs": []
    }
   ],
   "metadata": {}
  }
 ]
}