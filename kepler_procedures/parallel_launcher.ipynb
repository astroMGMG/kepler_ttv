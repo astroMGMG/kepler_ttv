{
 "metadata": {
  "language": "Julia",
  "name": "",
  "signature": "sha256:223bc5f237c4677a55613d686369da1dc8d9350d78981e30c0524ed5cae8e923"
 },
 "nbformat": 3,
 "nbformat_minor": 0,
 "worksheets": [
  {
   "cells": [
    {
     "cell_type": "code",
     "collapsed": false,
     "input": [
      "include(\"par_launcher.jl\")"
     ],
     "language": "python",
     "metadata": {},
     "outputs": [
      {
       "output_type": "stream",
       "stream": "stderr",
       "text": [
        "INFO: Loading help data..."
       ]
      },
      {
       "output_type": "stream",
       "stream": "stderr",
       "text": [
        "\n"
       ]
      },
      {
       "metadata": {},
       "output_type": "pyout",
       "prompt_number": 1,
       "text": [
        "par_launcher (generic function with 2 methods)"
       ]
      }
     ],
     "prompt_number": 1
    },
    {
     "cell_type": "code",
     "collapsed": false,
     "input": [
      "par_launcher(8,\"make_plot\")"
     ],
     "language": "python",
     "metadata": {},
     "outputs": [
      {
       "output_type": "stream",
       "stream": "stdout",
       "text": [
        "Using 8"
       ]
      },
      {
       "output_type": "stream",
       "stream": "stdout",
       "text": [
        " processes\n"
       ]
      },
      {
       "output_type": "stream",
       "stream": "stdout",
       "text": [
        "\tFrom worker 5:\tExceeded maximum number of iterations\n"
       ]
      },
      {
       "output_type": "stream",
       "stream": "stdout",
       "text": [
        "\tFrom worker 5:\tExceeded maximum number of iterations\n"
       ]
      },
      {
       "output_type": "stream",
       "stream": "stdout",
       "text": [
        "\tFrom worker 5:\tExceeded maximum number of iterations\n"
       ]
      },
      {
       "output_type": "stream",
       "stream": "stdout",
       "text": [
        "\tFrom worker 5:\tExceeded maximum number of iterations\n"
       ]
      },
      {
       "output_type": "stream",
       "stream": "stdout",
       "text": [
        "\tFrom worker 5:\tExceeded maximum number of iterations\n"
       ]
      },
      {
       "output_type": "stream",
       "stream": "stdout",
       "text": [
        "\tFrom worker 5:\tExceeded maximum number of iterations\n",
        "\tFrom worker 2:\tExceeded maximum number of iterations\n",
        "\tFrom worker 5:\tExceeded maximum number of iterations\n"
       ]
      },
      {
       "output_type": "stream",
       "stream": "stdout",
       "text": [
        "\tFrom worker 5:\tExceeded maximum number of iterations\n",
        "\tFrom worker 2:\tExceeded maximum number of iterations\n"
       ]
      },
      {
       "output_type": "stream",
       "stream": "stdout",
       "text": [
        "\tFrom worker 2:\tExceeded maximum number of iterations\n",
        "\tFrom worker 5:\tExceeded maximum number of iterations\n"
       ]
      },
      {
       "output_type": "stream",
       "stream": "stdout",
       "text": [
        "\tFrom worker 2:\tExceeded maximum number of iterations\n",
        "\tFrom worker 5:\tExceeded maximum number of iterations\n",
        "\tFrom worker 2:\tExceeded maximum number of iterations\n"
       ]
      },
      {
       "output_type": "stream",
       "stream": "stdout",
       "text": [
        "\tFrom worker 5:\tExceeded maximum number of iterations\n",
        "\tFrom worker 2:\tExceeded maximum number of iterations\n"
       ]
      },
      {
       "output_type": "stream",
       "stream": "stdout",
       "text": [
        "\tFrom worker 5:\tExceeded maximum number of iterations\n",
        "\tFrom worker 8:\tExceeded maximum number of iterations\n",
        "\tFrom worker 2:\tExceeded maximum number of iterations\n"
       ]
      },
      {
       "output_type": "stream",
       "stream": "stdout",
       "text": [
        "\tFrom worker 5:\tExceeded maximum number of iterations\n",
        "\tFrom worker 2:\tExceeded maximum number of iterations\n",
        "\tFrom worker 8:\tExceeded maximum number of iterations\n",
        "\tFrom worker 2:\tExceeded maximum number of iterations\n",
        "\tFrom worker 5:\tExceeded maximum number of iterations\n"
       ]
      },
      {
       "output_type": "stream",
       "stream": "stdout",
       "text": [
        "\tFrom worker 2:\tExceeded maximum number of iterations\n",
        "\tFrom worker 8:\tExceeded maximum number of iterations\n",
        "\tFrom worker 5:\tExceeded maximum number of iterations\n"
       ]
      },
      {
       "output_type": "stream",
       "stream": "stdout",
       "text": [
        "\tFrom worker 2:\tExceeded maximum number of iterations\n",
        "\tFrom worker 8:\tExceeded maximum number of iterations\n",
        "\tFrom worker 5:\tExceeded maximum number of iterations\n"
       ]
      },
      {
       "output_type": "stream",
       "stream": "stdout",
       "text": [
        "\tFrom worker 2:\tExceeded maximum number of iterations\n",
        "\tFrom worker 8:\tExceeded maximum number of iterations\n",
        "\tFrom worker 5:\tExceeded maximum number of iterations\n",
        "\tFrom worker 2:\tExceeded maximum number of iterations\n"
       ]
      },
      {
       "output_type": "stream",
       "stream": "stdout",
       "text": [
        "\tFrom worker 2:\tExceeded maximum number of iterations\n",
        "\tFrom worker 8:\tExceeded maximum number of iterations\n",
        "\tFrom worker 5:\tExceeded maximum number of iterations\n",
        "\tFrom worker 2:\tExceeded maximum number of iterations\n"
       ]
      },
      {
       "output_type": "stream",
       "stream": "stdout",
       "text": [
        "\tFrom worker 8:\tExceeded maximum number of iterations\n",
        "\tFrom worker 5:\tExceeded maximum number of iterations\n",
        "\tFrom worker 2:\tExceeded maximum number of iterations\n",
        "\tFrom worker 8:\tExceeded maximum number of iterations\n"
       ]
      },
      {
       "output_type": "stream",
       "stream": "stdout",
       "text": [
        "\tFrom worker 6:\tExceeded maximum number of iterations\n",
        "\tFrom worker 5:\tExceeded maximum number of iterations\n",
        "\tFrom worker 2:\tExceeded maximum number of iterations\n",
        "\tFrom worker 8:\tExceeded maximum number of iterations\n",
        "\tFrom worker 3:\tExceeded maximum number of iterations\n"
       ]
      },
      {
       "output_type": "stream",
       "stream": "stdout",
       "text": [
        "\tFrom worker 5:\tExceeded maximum number of iterations\n",
        "\tFrom worker 2:\tExceeded maximum number of iterations\n",
        "\tFrom worker 8:\tExceeded maximum number of iterations\n"
       ]
      },
      {
       "output_type": "stream",
       "stream": "stdout",
       "text": [
        "\tFrom worker 6:\tExceeded maximum number of iterations\n",
        "\tFrom worker 7:\tExceeded maximum number of iterations\n",
        "\tFrom worker 2:\tExceeded maximum number of iterations\n",
        "\tFrom worker 5:\tExceeded maximum number of iterations\n",
        "\tFrom worker 3:\tExceeded maximum number of iterations\n",
        "\tFrom worker 8:\tExceeded maximum number of iterations\n"
       ]
      },
      {
       "output_type": "stream",
       "stream": "stdout",
       "text": [
        "\tFrom worker 6:\tExceeded maximum number of iterations\n",
        "\tFrom worker 2:\tExceeded maximum number of iterations\n",
        "\tFrom worker 5:\tExceeded maximum number of iterations\n",
        "\tFrom worker 4:\tExceeded maximum number of iterations\n"
       ]
      },
      {
       "output_type": "stream",
       "stream": "stdout",
       "text": [
        "\tFrom worker 3:\tExceeded maximum number of iterations\n",
        "\tFrom worker 8:\tExceeded maximum number of iterations\n",
        "\tFrom worker 6:\tExceeded maximum number of iterations\n",
        "\tFrom worker 7:\tExceeded maximum number of iterations\n",
        "\tFrom worker 2:\tExceeded maximum number of iterations\n",
        "\tFrom worker 5:\tExceeded maximum number of iterations\n"
       ]
      },
      {
       "output_type": "stream",
       "stream": "stdout",
       "text": [
        "\tFrom worker 8:\tExceeded maximum number of iterations\n",
        "\tFrom worker 3:\tExceeded maximum number of iterations\n",
        "\tFrom worker 6:\tExceeded maximum number of iterations\n",
        "\tFrom worker 2:\tExceeded maximum number of iterations\n",
        "\tFrom worker 7:\tExceeded maximum number of iterations\n",
        "\tFrom worker 5:\tExceeded maximum number of iterations\n"
       ]
      },
      {
       "output_type": "stream",
       "stream": "stdout",
       "text": [
        "\tFrom worker 4:\tExceeded maximum number of iterations\n",
        "\tFrom worker 8:\tExceeded maximum number of iterations\n",
        "\tFrom worker 3:\tExceeded maximum number of iterations\n",
        "\tFrom worker 8:\tExceeded maximum number of iterations\n",
        "\tFrom worker 6:\tExceeded maximum number of iterations\n",
        "\tFrom worker 2:\tExceeded maximum number of iterations\n",
        "\tFrom worker 7:\tExceeded maximum number of iterations\n"
       ]
      },
      {
       "output_type": "stream",
       "stream": "stdout",
       "text": [
        "\tFrom worker 5:\tExceeded maximum number of iterations\n",
        "\tFrom worker 4:\tExceeded maximum number of iterations\n",
        "\tFrom worker 2:\tExceeded maximum number of iterations\n",
        "\tFrom worker 8:\tExceeded maximum number of iterations\n",
        "\tFrom worker 6:\tExceeded maximum number of iterations\n",
        "\tFrom worker 3:\tExceeded maximum number of iterations\n"
       ]
      },
      {
       "output_type": "stream",
       "stream": "stdout",
       "text": [
        "\tFrom worker 7:\tExceeded maximum number of iterations\n",
        "\tFrom worker 5:\tExceeded maximum number of iterations\n",
        "\tFrom worker 4:\tExceeded maximum number of iterations\n",
        "\tFrom worker 2:\tExceeded maximum number of iterations\n"
       ]
      },
      {
       "output_type": "stream",
       "stream": "stdout",
       "text": [
        "\tFrom worker 8:\tExceeded maximum number of iterations\n",
        "\tFrom worker 6:\tExceeded maximum number of iterations\n",
        "\tFrom worker 3:\tExceeded maximum number of iterations\n",
        "\tFrom worker 7:\tExceeded maximum number of iterations\n",
        "\tFrom worker 5:\tExceeded maximum number of iterations\n"
       ]
      },
      {
       "output_type": "stream",
       "stream": "stdout",
       "text": [
        "\tFrom worker 4:\tExceeded maximum number of iterations\n",
        "\tFrom worker 2:\tExceeded maximum number of iterations\n",
        "\tFrom worker 8:\tExceeded maximum number of iterations\n",
        "\tFrom worker 6:\tExceeded maximum number of iterations\n",
        "\tFrom worker 3:\tExceeded maximum number of iterations\n",
        "\tFrom worker 7:\tExceeded maximum number of iterations\n",
        "\tFrom worker 5:\tExceeded maximum number of iterations\n"
       ]
      },
      {
       "output_type": "stream",
       "stream": "stdout",
       "text": [
        "\tFrom worker 2:\tExceeded maximum number of iterations\n",
        "\tFrom worker 4:\tExceeded maximum number of iterations\n",
        "\tFrom worker 8:\tExceeded maximum number of iterations\n",
        "\tFrom worker 6:\tExceeded maximum number of iterations\n",
        "\tFrom worker 3:\tExceeded maximum number of iterations\n"
       ]
      },
      {
       "output_type": "stream",
       "stream": "stdout",
       "text": [
        "\tFrom worker 7:\tExceeded maximum number of iterations\n",
        "\tFrom worker 5:\tExceeded maximum number of iterations\n",
        "\tFrom worker 2:\tExceeded maximum number of iterations\n",
        "\tFrom worker 8:\tExceeded maximum number of iterations\n",
        "\tFrom worker 6:\tExceeded maximum number of iterations\n",
        "\tFrom worker 4:\tExceeded maximum number of iterations\n"
       ]
      },
      {
       "output_type": "stream",
       "stream": "stdout",
       "text": [
        "\tFrom worker 3:\tExceeded maximum number of iterations\n",
        "\tFrom worker 7:\tExceeded maximum number of iterations\n",
        "\tFrom worker 2:\tExceeded maximum number of iterations\n",
        "\tFrom worker 8:\tExceeded maximum number of iterations\n",
        "\tFrom worker 5:\tExceeded maximum number of iterations\n",
        "\tFrom worker 6:\tExceeded maximum number of iterations\n"
       ]
      },
      {
       "output_type": "stream",
       "stream": "stdout",
       "text": [
        "\tFrom worker 4:\tExceeded maximum number of iterations\n",
        "\tFrom worker 3:\tExceeded maximum number of iterations\n",
        "\tFrom worker 2:\tExceeded maximum number of iterations\n",
        "\tFrom worker 7:\tExceeded maximum number of iterations\n",
        "\tFrom worker 8:\tExceeded maximum number of iterations\n",
        "\tFrom worker 6:\tExceeded maximum number of iterations\n"
       ]
      },
      {
       "output_type": "stream",
       "stream": "stdout",
       "text": [
        "\tFrom worker 4:\tExceeded maximum number of iterations\n",
        "\tFrom worker 3:\tExceeded maximum number of iterations\n",
        "\tFrom worker 7:\tExceeded maximum number of iterations\n",
        "\tFrom worker 8:\tExceeded maximum number of iterations\n"
       ]
      },
      {
       "output_type": "stream",
       "stream": "stdout",
       "text": [
        "\tFrom worker 6:\tExceeded maximum number of iterations\n",
        "\tFrom worker 4:\tExceeded maximum number of iterations\n",
        "\tFrom worker 3:\tExceeded maximum number of iterations\n",
        "\tFrom worker 2:\tExceeded maximum number of iterations\n",
        "\tFrom worker 7:\tExceeded maximum number of iterations\n",
        "\tFrom worker 8:\tExceeded maximum number of iterations\n"
       ]
      },
      {
       "output_type": "stream",
       "stream": "stdout",
       "text": [
        "\tFrom worker 6:\tExceeded maximum number of iterations\n",
        "\tFrom worker 4:\tExceeded maximum number of iterations\n",
        "\tFrom worker 6:\tExceeded maximum number of iterations\n",
        "\tFrom worker 3:\tExceeded maximum number of iterations\n"
       ]
      },
      {
       "output_type": "stream",
       "stream": "stdout",
       "text": [
        "\tFrom worker 8:\tExceeded maximum number of iterations\n",
        "\tFrom worker 7:\tExceeded maximum number of iterations\n",
        "\tFrom worker 6:\tExceeded maximum number of iterations\n",
        "\tFrom worker 4:\tExceeded maximum number of iterations\n",
        "\tFrom worker 3:\tExceeded maximum number of iterations\n",
        "\tFrom worker 8:\tExceeded maximum number of iterations\n",
        "\tFrom worker 7:\tExceeded maximum number of iterations\n"
       ]
      },
      {
       "output_type": "stream",
       "stream": "stdout",
       "text": [
        "\tFrom worker 6:\tExceeded maximum number of iterations\n",
        "\tFrom worker 4:\tExceeded maximum number of iterations\n",
        "\tFrom worker 4:\tExceeded maximum number of iterations\n",
        "\tFrom worker 3:\tExceeded maximum number of iterations\n",
        "\tFrom worker 8:\tExceeded maximum number of iterations\n",
        "\tFrom worker 7:\tExceeded maximum number of iterations\n"
       ]
      },
      {
       "output_type": "stream",
       "stream": "stdout",
       "text": [
        "\tFrom worker 6:\tExceeded maximum number of iterations\n",
        "\tFrom worker 8:\tExceeded maximum number of iterations\n",
        "\tFrom worker 4:\tExceeded maximum number of iterations\n",
        "\tFrom worker 3:\tExceeded maximum number of iterations\n",
        "\tFrom worker 7:\tExceeded maximum number of iterations\n",
        "\tFrom worker 8:\tExceeded maximum number of iterations\n"
       ]
      },
      {
       "output_type": "stream",
       "stream": "stdout",
       "text": [
        "\tFrom worker 7:\tExceeded maximum number of iterations\n",
        "\tFrom worker 4:\tExceeded maximum number of iterations\n",
        "\tFrom worker 6:\tExceeded maximum number of iterations\n",
        "\tFrom worker 3:\tExceeded maximum number of iterations\n",
        "\tFrom worker 6:\tExceeded maximum number of iterations\n",
        "\tFrom worker 8:\tExceeded maximum number of iterations\n",
        "\tFrom worker 4:\tExceeded maximum number of iterations\n"
       ]
      },
      {
       "output_type": "stream",
       "stream": "stdout",
       "text": [
        "\tFrom worker 7:\tExceeded maximum number of iterations\n",
        "\tFrom worker 3:\tExceeded maximum number of iterations\n",
        "\tFrom worker 6:\tExceeded maximum number of iterations\n",
        "\tFrom worker 4:\tExceeded maximum number of iterations\n"
       ]
      },
      {
       "output_type": "stream",
       "stream": "stdout",
       "text": [
        "\tFrom worker 7:\tExceeded maximum number of iterations\n",
        "\tFrom worker 6:\tExceeded maximum number of iterations\n",
        "\tFrom worker 3:\tExceeded maximum number of iterations\n",
        "\tFrom worker 4:\tExceeded maximum number of iterations\n",
        "\tFrom worker 8:\tExceeded maximum number of iterations\n"
       ]
      },
      {
       "output_type": "stream",
       "stream": "stdout",
       "text": [
        "\tFrom worker 7:\tExceeded maximum number of iterations\n",
        "\tFrom worker 4:\tExceeded maximum number of iterations\n",
        "\tFrom worker 6:\tExceeded maximum number of iterations\n",
        "\tFrom worker 3:\tExceeded maximum number of iterations\n",
        "\tFrom worker 7:\tExceeded maximum number of iterations\n"
       ]
      },
      {
       "output_type": "stream",
       "stream": "stdout",
       "text": [
        "\tFrom worker 4:\tExceeded maximum number of iterations\n",
        "\tFrom worker 6:\tExceeded maximum number of iterations\n",
        "\tFrom worker 3:\tExceeded maximum number of iterations\n",
        "\tFrom worker 7:\tExceeded maximum number of iterations\n",
        "\tFrom worker 4:\tExceeded maximum number of iterations\n"
       ]
      },
      {
       "output_type": "stream",
       "stream": "stdout",
       "text": [
        "\tFrom worker 6:\tExceeded maximum number of iterations\n",
        "\tFrom worker 4:\tExceeded maximum number of iterations\n",
        "\tFrom worker 3:\tExceeded maximum number of iterations\n",
        "\tFrom worker 7:\tExceeded maximum number of iterations\n"
       ]
      },
      {
       "output_type": "stream",
       "stream": "stdout",
       "text": [
        "\tFrom worker 6:\tExceeded maximum number of iterations\n",
        "\tFrom worker 4:\tExceeded maximum number of iterations\n",
        "\tFrom worker 7:\tExceeded maximum number of iterations\n",
        "\tFrom worker 3:\tExceeded maximum number of iterations\n",
        "\tFrom worker 4:\tExceeded maximum number of iterations\n"
       ]
      },
      {
       "output_type": "stream",
       "stream": "stdout",
       "text": [
        "\tFrom worker 6:\tExceeded maximum number of iterations\n",
        "\tFrom worker 7:\tExceeded maximum number of iterations\n",
        "\tFrom worker 3:\tExceeded maximum number of iterations\n",
        "\tFrom worker 4:\tExceeded maximum number of iterations\n",
        "\tFrom worker 6:\tExceeded maximum number of iterations\n"
       ]
      },
      {
       "output_type": "stream",
       "stream": "stdout",
       "text": [
        "\tFrom worker 7:\tExceeded maximum number of iterations\n",
        "\tFrom worker 4:\tExceeded maximum number of iterations\n",
        "\tFrom worker 3:\tExceeded maximum number of iterations\n",
        "\tFrom worker 6:\tExceeded maximum number of iterations\n"
       ]
      },
      {
       "output_type": "stream",
       "stream": "stdout",
       "text": [
        "\tFrom worker 4:\tExceeded maximum number of iterations\n",
        "\tFrom worker 7:\tExceeded maximum number of iterations\n",
        "\tFrom worker 3:\tExceeded maximum number of iterations\n",
        "\tFrom worker 4:\tExceeded maximum number of iterations\n"
       ]
      },
      {
       "output_type": "stream",
       "stream": "stdout",
       "text": [
        "\tFrom worker 7:\tExceeded maximum number of iterations\n",
        "\tFrom worker 4:\tExceeded maximum number of iterations\n",
        "\tFrom worker 3:\tExceeded maximum number of iterations\n",
        "\tFrom worker 6:\tExceeded maximum number of iterations\n",
        "\tFrom worker 7:\tExceeded maximum number of iterations\n"
       ]
      },
      {
       "output_type": "stream",
       "stream": "stdout",
       "text": [
        "\tFrom worker 3:\tExceeded maximum number of iterations\n",
        "\tFrom worker 4:\tExceeded maximum number of iterations\n",
        "\tFrom worker 7:\tExceeded maximum number of iterations\n",
        "\tFrom worker 3:\tExceeded maximum number of iterations\n"
       ]
      },
      {
       "output_type": "stream",
       "stream": "stdout",
       "text": [
        "\tFrom worker 3:\tExceeded maximum number of iterations\n",
        "\tFrom worker 7:\tExceeded maximum number of iterations\n"
       ]
      },
      {
       "output_type": "stream",
       "stream": "stdout",
       "text": [
        "elapsed time: 13"
       ]
      },
      {
       "output_type": "stream",
       "stream": "stdout",
       "text": [
        ".918484324 seconds (13426528 bytes allocated)\n"
       ]
      },
      {
       "metadata": {},
       "output_type": "display_data",
       "png": "[encoded data removed]",
       "text": [
        "Figure(PyObject <matplotlib.figure.Figure object at 0x7f9d40f543c8>)"
       ]
      },
      {
       "metadata": {},
       "output_type": "pyout",
       "prompt_number": 2,
       "text": [
        "1-element Array{Any,1}:\n",
        " PyObject <matplotlib.lines.Line2D object at 0x7f9d57064a90>"
       ]
      }
     ],
     "prompt_number": 2
    }
   ],
   "metadata": {}
  }
 ]
}