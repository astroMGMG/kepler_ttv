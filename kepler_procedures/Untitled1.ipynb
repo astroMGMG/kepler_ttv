{
 "metadata": {
  "language": "Julia",
  "name": "",
  "signature": "sha256:4ccdc79ddf42c26b6a348b142414a2581e276db239677cddb72950fe876ed612"
 },
 "nbformat": 3,
 "nbformat_minor": 0,
 "worksheets": [
  {
   "cells": [
    {
     "cell_type": "code",
     "collapsed": false,
     "input": [],
     "language": "python",
     "metadata": {},
     "outputs": []
    },
    {
     "cell_type": "heading",
     "level": 1,
     "metadata": {},
     "source": [
      "A Place for the project title?"
     ]
    },
    {
     "cell_type": "heading",
     "level": 1,
     "metadata": {},
     "source": [
      "Where Should they look for directions?"
     ]
    },
    {
     "cell_type": "heading",
     "level": 1,
     "metadata": {},
     "source": [
      "Setup"
     ]
    },
    {
     "cell_type": "markdown",
     "metadata": {},
     "source": [
      "Will need to see the README.md file in the kepler procedures directory for setting up the required packages."
     ]
    },
    {
     "cell_type": "heading",
     "level": 1,
     "metadata": {},
     "source": [
      "Running tests"
     ]
    },
    {
     "cell_type": "markdown",
     "metadata": {},
     "source": [
      "include(\"run_tests.jl\")"
     ]
    },
    {
     "cell_type": "markdown",
     "metadata": {},
     "source": [
      "##Sample Set##\n",
      "We need to include the \"koi_launcher.jl\" file which essentially drives the "
     ]
    },
    {
     "cell_type": "code",
     "collapsed": false,
     "input": [
      "include(\"koi_launcher.jl\")"
     ],
     "language": "python",
     "metadata": {},
     "outputs": []
    },
    {
     "cell_type": "code",
     "collapsed": false,
     "input": [
      "koi_launcher(\"koi_list.csv\")"
     ],
     "language": "python",
     "metadata": {},
     "outputs": []
    }
   ],
   "metadata": {}
  }
 ]
}