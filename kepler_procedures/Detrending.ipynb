{
 "metadata": {
  "language": "Julia",
  "name": ""
 },
 "nbformat": 3,
 "nbformat_minor": 0,
 "worksheets": [
  {
   "cells": [
    {
     "cell_type": "code",
     "collapsed": false,
     "input": [
      "include(\"rw_functions.jl\");"
     ],
     "language": "python",
     "metadata": {},
     "outputs": []
    },
    {
     "cell_type": "code",
     "collapsed": false,
     "input": [
      "read_data=read_lightcurve_ascii(\"lc_95201.csv\")\n",
      "time=read_data[:,1];\n",
      "flux=read_data[:,2];\n",
      "orig_time=time;\n",
      "orig_flux=flux;"
     ],
     "language": "python",
     "metadata": {},
     "outputs": []
    },
    {
     "cell_type": "code",
     "collapsed": false,
     "input": [
      "len=length(time);\n",
      "indices=linspace(1,len,len);\n",
      "segment_length=convert(Uint32,round(sqrt(len)));\n",
      "print(segment_length)"
     ],
     "language": "python",
     "metadata": {},
     "outputs": [
      {
       "output_type": "stream",
       "stream": "stdout",
       "text": [
        "228"
       ]
      }
     ],
     "prompt_number": 1
    },
    {
     "cell_type": "code",
     "collapsed": false,
     "input": [
      "start_indices=1:segment_length:(len-(len%segment_length));\n",
      "#print(start_indices)\n",
      "print(length(start_indices))"
     ],
     "language": "python",
     "metadata": {},
     "outputs": [
      {
       "output_type": "stream",
       "stream": "stdout",
       "text": [
        "227"
       ]
      }
     ],
     "prompt_number": 2
    },
    {
     "cell_type": "code",
     "collapsed": false,
     "input": [
      "println(len)\n",
      "println(indices[len])"
     ],
     "language": "python",
     "metadata": {},
     "outputs": [
      {
       "output_type": "stream",
       "stream": "stdout",
       "text": [
        "51777\n",
        "51777.0\n"
       ]
      }
     ],
     "prompt_number": 3
    },
    {
     "cell_type": "code",
     "collapsed": false,
     "input": [
      "num_segments=length(start_indices);\n",
      "\n",
      "#get the segment indices\n",
      "for i=1:num_segments-1\n",
      "    #println(i)\n",
      "    #start index\n",
      "    sind=start_indices[i];\n",
      "    #end index\n",
      "    eind=start_indices[i+1]-1;\n",
      "    seg_ind=sind:1:eind;\n",
      "    #print(seg_ind)\n",
      "    \n",
      "    #===begin detrending the lightcurve===\n",
      "    #obtain a moving mean\n",
      "    moving_mean=mean(flux[seg_ind]);\n",
      "    println(moving_mean)\n",
      "    \n",
      "    #apply the detrending\n",
      "    flux[seg_ind]=flux[seg_ind]./moving_mean;\n",
      "    \n",
      "end\n",
      "#do final segment\n",
      "seg_ind=start_indices[end]:1:len;\n",
      "#print(seg_ind)\n",
      "\n",
      "#===still need to do the last segment\n",
      "#obtain a moving mean\n",
      "moving_mean=mean(flux[seg_ind]);\n",
      "    \n",
      "#apply the detrending\n",
      "flux[seg_ind]=flux[seg_ind]./moving_mean;"
     ],
     "language": "python",
     "metadata": {},
     "outputs": [
      {
       "output_type": "stream",
       "stream": "stdout",
       "text": [
        "1.0"
       ]
      },
      {
       "output_type": "stream",
       "stream": "stdout",
       "text": [
        "\n",
        "1.0000000000000002\n",
        "1.0000000000000002\n",
        "0.9999999999999998\n",
        "0.9999999999999999\n",
        "1.0000000000000002\n",
        "1.0000000000000002\n",
        "0.9999999999999998\n",
        "1.0\n",
        "1.0000000000000007\n",
        "0.9999999999999999\n",
        "1.0000000000000002\n",
        "0.9999999999999998\n",
        "1.0\n",
        "1.0000000000000002\n",
        "1.0\n",
        "1.0\n",
        "1.0\n",
        "1.0000000000000002\n",
        "1.0000000000000002\n",
        "1.0000000000000002\n",
        "0.9999999999999999\n",
        "1.0\n",
        "1.0\n",
        "1.0\n",
        "0.9999999999999998\n",
        "0.9999999999999998\n",
        "1.0\n",
        "1.0000000000000002\n",
        "1.0000000000000002\n",
        "1.0000000000000002\n",
        "0.9999999999999999\n",
        "1.0\n",
        "0.9999999999999998\n",
        "1.0\n",
        "1.0000000000000002\n",
        "1.0000000000000002\n",
        "0.9999999999999998\n",
        "1.0\n",
        "1.0\n",
        "1.0\n",
        "1.0\n",
        "0.9999999999999999\n",
        "0.9999999999999998\n",
        "1.0\n",
        "0.9999999999999999\n",
        "0.9999999999999999\n",
        "0.9999999999999999\n",
        "1.0000000000000002\n",
        "0.9999999999999999\n",
        "1.0\n",
        "0.9999999999999998\n",
        "1.0\n",
        "1.0\n",
        "1.0000000000000002\n",
        "1.0000000000000002\n",
        "0.9999999999999998\n",
        "0.9999999999999999\n",
        "1.0000000000000002\n",
        "0.9999999999999998\n",
        "1.0000000000000002\n",
        "1.0\n",
        "1.0\n",
        "0.9999999999999999\n",
        "1.0\n",
        "1.0\n",
        "1.0000000000000002\n",
        "1.0\n",
        "1.0000000000000004\n",
        "0.9999999999999998\n",
        "1.0\n",
        "1.0\n",
        "1.0000000000000002\n",
        "1.0000000000000002\n",
        "0.9999999999999998\n",
        "1.0\n",
        "1.0000000000000002\n",
        "0.9999999999999999\n",
        "1.0\n",
        "1.0000000000000002\n",
        "1.0\n",
        "1.0\n",
        "0.9999999999999999\n",
        "0.9999999999999999\n",
        "1.0\n",
        "1.0000000000000002\n",
        "1.0000000000000002\n",
        "1.0\n",
        "1.0000000000000002\n",
        "1.0000000000000004\n",
        "0.9999999999999999\n",
        "1.0000000000000002\n",
        "1.0000000000000002\n",
        "1.0\n",
        "1.0\n",
        "1.0000000000000002\n",
        "1.0\n",
        "1.0\n",
        "1.0000000000000002\n",
        "0.9999999999999999\n",
        "1.0000000000000004\n",
        "1.0\n",
        "1.0000000000000002\n",
        "1.0\n",
        "1.0000000000000002\n",
        "1.0000000000000002\n",
        "1.0000000000000002\n",
        "0.9999999999999997\n",
        "1.0\n",
        "1.0000000000000002\n",
        "1.0\n",
        "0.9999999999999999\n",
        "1.0\n",
        "1.0\n",
        "1.0\n",
        "0.9999999999999999\n",
        "0.9999999999999999\n",
        "0.9999999999999999\n",
        "1.0000000000000002\n",
        "1.0\n",
        "1.0\n",
        "1.0000000000000002\n",
        "1.0\n",
        "1.0000000000000002\n",
        "1.0000000000000002\n",
        "1.0000000000000002\n",
        "1.0\n",
        "1.0000000000000002\n",
        "0.9999999999999999\n",
        "1.0\n",
        "0.9999999999999999\n",
        "1.0000000000000004\n",
        "1.0\n",
        "1.0000000000000002\n",
        "0.9999999999999999\n",
        "0.9999999999999999\n",
        "0.9999999999999997\n",
        "1.0000000000000002\n",
        "1.0\n",
        "1.0\n",
        "1.0000000000000002\n",
        "0.9999999999999998\n",
        "1.0\n",
        "0.9999999999999999\n",
        "1.0000000000000002\n",
        "1.0000000000000002\n",
        "0.9999999999999999\n",
        "0.9999999999999998\n",
        "1.0000000000000002\n",
        "0.9999999999999998\n",
        "1.0\n",
        "1.0000000000000002\n",
        "1.0\n",
        "0.9999999999999998\n",
        "1.0\n",
        "0.9999999999999999\n",
        "0.9999999999999997\n",
        "1.0\n",
        "1.0\n",
        "1.0\n",
        "1.0\n",
        "1.0000000000000002\n",
        "0.9999999999999997\n",
        "1.0\n",
        "1.0000000000000002\n",
        "1.0000000000000002\n",
        "1.0000000000000002\n",
        "1.0000000000000002\n",
        "0.9999999999999999\n",
        "1.0\n",
        "1.0\n",
        "1.0000000000000002\n",
        "0.9999999999999999\n",
        "1.0\n",
        "1.0\n",
        "0.9999999999999998\n",
        "0.9999999999999998\n",
        "1.0000000000000002\n",
        "1.0000000000000002\n",
        "0.9999999999999998\n",
        "1.0\n",
        "1.0000000000000002\n",
        "0.9999999999999998\n",
        "0.9999999999999999\n",
        "1.0\n",
        "1.0\n",
        "1.0000000000000002\n",
        "1.0\n",
        "1.0000000000000004\n",
        "1.0\n",
        "0.9999999999999999\n",
        "1.0\n",
        "1.0\n",
        "1.0000000000000004\n",
        "1.0000000000000002\n",
        "1.0\n",
        "1.0000000000000002\n",
        "0.9999999999999999\n",
        "1.0\n",
        "0.9999999999999998\n",
        "0.9999999999999999\n",
        "1.0\n",
        "1.0\n",
        "0.9999999999999999\n",
        "1.0\n",
        "0.9999999999999999\n",
        "0.9999999999999998\n",
        "0.9999999999999999\n",
        "0.9999999999999999\n",
        "1.0000000000000002\n",
        "1.0000000000000002\n",
        "1.0000000000000002\n",
        "1.0000000000000002\n",
        "0.9999999999999998\n",
        "0.9999999999999998\n",
        "1.0000000000000002\n",
        "0.9999999999999999\n",
        "1.0\n",
        "1.0000000000000004\n",
        "1.0\n",
        "1.0\n",
        "0.9999999999999998\n",
        "1.0\n",
        "1.0000000000000002\n",
        "0.9999999999999999\n",
        "0.9999999999999999\n"
       ]
      }
     ],
     "prompt_number": 6
    },
    {
     "cell_type": "code",
     "collapsed": false,
     "input": [
      "using PyPlot;"
     ],
     "language": "python",
     "metadata": {},
     "outputs": [
      {
       "output_type": "stream",
       "stream": "stdout",
       "text": [
        "Loading help data...\n"
       ]
      }
     ],
     "prompt_number": 3
    },
    {
     "cell_type": "code",
     "collapsed": false,
     "input": [
      "blah=ones(len);"
     ],
     "language": "python",
     "metadata": {},
     "outputs": [],
     "prompt_number": 3
    },
    {
     "cell_type": "code",
     "collapsed": false,
     "input": [
      "plot(orig_time,orig_flux)\n",
      "plot(time,flux)\n",
      "plt.ylim(0.99,1.01);"
     ],
     "language": "python",
     "metadata": {},
     "outputs": [
      {
       "metadata": {},
       "output_type": "display_data",
       "png": "[encoded data removed]",
       "text": [
        "Figure(PyObject <matplotlib.figure.Figure object at 0x80bf690>)"
       ]
      }
     ],
     "prompt_number": 3
    },
    {
     "cell_type": "code",
     "collapsed": false,
     "input": [
      "resid=orig_flux-flux"
     ],
     "language": "python",
     "metadata": {},
     "outputs": [
      {
       "metadata": {},
       "output_type": "pyout",
       "prompt_number": 4,
       "text": [
        "51777-element Array{Float64,1}:\n",
        " 0.0\n",
        " 0.0\n",
        " 0.0\n",
        " 0.0\n",
        " 0.0\n",
        " 0.0\n",
        " 0.0\n",
        " 0.0\n",
        " 0.0\n",
        " 0.0\n",
        " 0.0\n",
        " 0.0\n",
        " 0.0\n",
        " \u22ee  \n",
        " 0.0\n",
        " 0.0\n",
        " 0.0\n",
        " 0.0\n",
        " 0.0\n",
        " 0.0\n",
        " 0.0\n",
        " 0.0\n",
        " 0.0\n",
        " 0.0\n",
        " 0.0\n",
        " 0.0"
       ]
      }
     ],
     "prompt_number": 4
    },
    {
     "cell_type": "code",
     "collapsed": false,
     "input": [
      "test1=[1,2,3];\n",
      "test2=[4,1,2];"
     ],
     "language": "python",
     "metadata": {},
     "outputs": [],
     "prompt_number": 4
    },
    {
     "cell_type": "code",
     "collapsed": false,
     "input": [
      "test1-test2"
     ],
     "language": "python",
     "metadata": {},
     "outputs": [
      {
       "metadata": {},
       "output_type": "pyout",
       "prompt_number": 5,
       "text": [
        "3-element Array{Int64,1}:\n",
        " -3\n",
        "  1\n",
        "  1"
       ]
      }
     ],
     "prompt_number": 5
    },
    {
     "cell_type": "code",
     "collapsed": false,
     "input": [],
     "language": "python",
     "metadata": {},
     "outputs": [],
     "prompt_number": 6
    }
   ],
   "metadata": {}
  }
 ]
}