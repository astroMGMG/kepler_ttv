{
 "metadata": {
  "language": "Julia",
  "name": "",
  "signature": "sha256:dafad9d587e9e479e6b1dff172570a108e4a09cf1a165dcf411e5846d778fd8d"
 },
 "nbformat": 3,
 "nbformat_minor": 0,
 "worksheets": [
  {
   "cells": [
    {
     "cell_type": "code",
     "collapsed": false,
     "input": [
      "include(\"client_init.jl\")"
     ],
     "language": "python",
     "metadata": {},
     "outputs": [
      {
       "metadata": {},
       "output_type": "pyout",
       "prompt_number": 4,
       "text": [
        "get_good_lightcurve_quarters (generic function with 1 method)"
       ]
      }
     ],
     "prompt_number": 4
    },
    {
     "cell_type": "code",
     "collapsed": false,
     "input": [
      "blah=client_init()"
     ],
     "language": "python",
     "metadata": {},
     "outputs": [
      {
       "ename": "LoadError",
       "evalue": "PyError (PyImport_ImportModule) <class 'ImportError'>\nImportError(\"No module named 'pyfits'\",)\n\nwhile loading In[6], in expression starting on line 1",
       "output_type": "pyerr",
       "traceback": [
        "PyError (PyImport_ImportModule) <class 'ImportError'>\nImportError(\"No module named 'pyfits'\",)\n\nwhile loading In[6], in expression starting on line 1",
        " in pyerr_check at /home/mark/.julia/v0.3/PyCall/src/exception.jl:58",
        " in pyimport at /home/mark/.julia/v0.3/PyCall/src/PyCall.jl:85",
        " in client_init at /home/mark/Dropbox/School/2014_1Spring/ASTRO_585/kepler_ttv/kepler_procedures/client_init.jl:723"
       ]
      }
     ],
     "prompt_number": 6
    },
    {
     "cell_type": "code",
     "collapsed": false,
     "input": [],
     "language": "python",
     "metadata": {},
     "outputs": []
    }
   ],
   "metadata": {}
  }
 ]
}