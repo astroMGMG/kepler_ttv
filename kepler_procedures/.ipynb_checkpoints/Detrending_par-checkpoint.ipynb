{
 "metadata": {
  "language": "Julia",
  "name": "",
  "signature": "sha256:992c2bcb39ff8d5694d5519df189ac1ef109cbf1e8899e5bcad1b6d8873f321a"
 },
 "nbformat": 3,
 "nbformat_minor": 0,
 "worksheets": [
  {
   "cells": [
    {
     "cell_type": "code",
     "collapsed": false,
     "input": [
      "function setprocs(desired_nprocs::Int64)\n",
      "    current_nprocs=nprocs();\n",
      "    proc_ids=procs();\n",
      "    len_procs=length(proc_ids);\n",
      "    if (current_nprocs < desired_nprocs)\n",
      "        addprocs(desired_nprocs-current_nprocs);\n",
      "    elseif (current_nprocs > desired_nprocs)\n",
      "        for i=0:current_nprocs-desired_nprocs-1\n",
      "            rmprocs(proc_ids[len_procs-i]);\n",
      "        end\n",
      "    end\n",
      "end"
     ],
     "language": "python",
     "metadata": {},
     "outputs": [
      {
       "metadata": {},
       "output_type": "pyout",
       "prompt_number": 18,
       "text": [
        "setprocs (generic function with 1 method)"
       ]
      }
     ],
     "prompt_number": 18
    },
    {
     "cell_type": "code",
     "collapsed": false,
     "input": [],
     "language": "python",
     "metadata": {},
     "outputs": []
    },
    {
     "cell_type": "code",
     "collapsed": false,
     "input": [
      "@everywhere using Optim;\n",
      "using PyPlot;\n",
      "@everywhere include(\"segment_detrend.jl\");\n",
      "@everywhere include(\"rw_functions.jl\");\n",
      "@everywhere include(\"get_seg_inds.jl\");\n",
      "@everywhere include(\"detrend_models.jl\");"
     ],
     "language": "python",
     "metadata": {},
     "outputs": [
      {
       "output_type": "stream",
       "stream": "stderr",
       "text": [
        "INFO: Loading help data..."
       ]
      },
      {
       "output_type": "stream",
       "stream": "stderr",
       "text": [
        "\n"
       ]
      },
      {
       "output_type": "stream",
       "stream": "stderr",
       "text": [
        "INFO: "
       ]
      },
      {
       "output_type": "stream",
       "stream": "stderr",
       "text": [
        "INFO: "
       ]
      },
      {
       "output_type": "stream",
       "stream": "stderr",
       "text": [
        "INFO: Loading help data...\n",
        "Loading help data...\n"
       ]
      },
      {
       "output_type": "stream",
       "stream": "stderr",
       "text": [
        "Loading help data...\n"
       ]
      }
     ],
     "prompt_number": 2
    },
    {
     "cell_type": "code",
     "collapsed": false,
     "input": [
      "read_data=read_lightcurve_ascii(\"lc_95201.csv\")\n",
      "time=read_data[:,1];\n",
      "flux=read_data[:,2];\n",
      "orig_flux=deepcopy(flux);"
     ],
     "language": "python",
     "metadata": {},
     "outputs": [],
     "prompt_number": 2
    },
    {
     "cell_type": "code",
     "collapsed": false,
     "input": [
      "seg_inds=get_seg_inds(time);\n",
      "num_seg=size(seg_inds)[1];\n",
      "\n",
      "tic();\n",
      "@sync begin \n",
      "    @parallel for i = 1:num_seg\n",
      "        seg_ind=seg_inds[i,:];\n",
      "\n",
      "        segment_detrend!(seg_ind,time,flux);\n",
      "        #@printf(\"i=%d, myid()=%d\\n\",i,myid())\n",
      "    end\n",
      "end\n",
      "toc();"
     ],
     "language": "python",
     "metadata": {},
     "outputs": [
      {
       "output_type": "stream",
       "stream": "stderr",
       "text": [
        "WARNING: WARNING: "
       ]
      },
      {
       "output_type": "stream",
       "stream": "stderr",
       "text": [
        "x::Number + A::Array is deprecated, use x .+ A instead.x::Number + A::Array is deprecated, use x .+ A instead.WARNING: x::Number + A::Array is deprecated, use x .+ A instead."
       ]
      },
      {
       "output_type": "stream",
       "stream": "stderr",
       "text": [
        "\n",
        "\n",
        " in  in + at deprecated.jl:+ at deprecated.jl:26\n",
        " in cubicmodel at /home/mark/Dropbox/School/2014_1Spring/ASTRO_585/kepler_ttv/kepler_procedures/detrend_models.jl:8\n",
        " in f at /home/mark/.julia/v0.3/Optim/src/curve_fit.jl:10\n",
        " in levenberg_marquardt at /home/mark/.julia/v0.3/Optim/src/levenberg_marquardt.jl:34\n",
        " in curve_fit at /home/mark/.julia/v0.3/Optim/src/curve_fit.jl:15\n",
        " in segment_detrend! at /home/mark/Dropbox/School/2014_1Spring/ASTRO_585/kepler_ttv/kepler_procedures/segment_detrend.jl:27\n",
        " in anonymous at no file:9\n",
        " in anonymous at multi.jl:1225\n",
        " in anonymous at multi.jl:26817\n",
        "\n",
        " in  in cubicmodelrun_work_thunk at /home/mark/Dropbox/School/2014_1Spring/ASTRO_585/kepler_ttv/kepler_procedures/detrend_models.jl at :multi.jl8:\n",
        " in 590f at /home/mark/.julia/v0.3/Optim/src/curve_fit.jl:\n",
        "10\n",
        " in  in levenberg_marquardtrun_work_thunk at /home/mark/.julia/v0.3/Optim/src/levenberg_marquardt.jl at :34multi.jl:\n",
        " in curve_fit at /home/mark/.julia/v0.3/Optim/src/curve_fit.jl599:15\n",
        "\n",
        " in  in segment_detrend! at anonymous/home/mark/Dropbox/School/2014_1Spring/ASTRO_585/kepler_ttv/kepler_procedures/segment_detrend.jl: at 27task.jl\n",
        ": in anonymous6 at no file:\n",
        "9\n",
        " in anonymous at multi.jl:1225\n",
        " in anonymous at multi.jl:817\n",
        " in run_work_thunk at multi.jl:590\n",
        " in run_work_thunk at multi.jl:599\n",
        " in anonymous at task.jl:6\n",
        "\n",
        " in + at deprecated.jl:26\n",
        " in cubicmodel at /home/mark/Dropbox/School/2014_1Spring/ASTRO_585/kepler_ttv/kepler_procedures/detrend_models.jl:8\n",
        " in f at /home/mark/.julia/v0.3/Optim/src/curve_fit.jl:10\n",
        " in levenberg_marquardt at /home/mark/.julia/v0.3/Optim/src/levenberg_marquardt.jl:34\n",
        " in curve_fit at /home/mark/.julia/v0.3/Optim/src/curve_fit.jl:15\n",
        " in segment_detrend! at /home/mark/Dropbox/School/2014_1Spring/ASTRO_585/kepler_ttv/kepler_procedures/segment_detrend.jl:27\n",
        " in anonymous at no file:9\n",
        " in anonymous at multi.jl:1225\n",
        " in anonymous at multi.jl:817\n",
        " in run_work_thunk at multi.jl:590\n",
        " in run_work_thunk at multi.jl:599\n",
        " in anonymous at task.jl:6\n"
       ]
      },
      {
       "output_type": "stream",
       "stream": "stdout",
       "text": [
        "\tFrom worker 3:\tExceeded maximum number of iterations\n"
       ]
      },
      {
       "output_type": "stream",
       "stream": "stdout",
       "text": [
        "\tFrom worker 2:\tExceeded maximum number of iterations\n",
        "\tFrom worker 4:\tExceeded maximum number of iterations\n"
       ]
      },
      {
       "output_type": "stream",
       "stream": "stdout",
       "text": [
        "\tFrom worker 2:\tExceeded maximum number of iterations\n"
       ]
      },
      {
       "output_type": "stream",
       "stream": "stdout",
       "text": [
        "\tFrom worker 4:\tExceeded maximum number of iterations\n",
        "\tFrom worker 3:\tExceeded maximum number of iterations\n"
       ]
      },
      {
       "output_type": "stream",
       "stream": "stdout",
       "text": [
        "\tFrom worker 2:\tExceeded maximum number of iterations\n"
       ]
      },
      {
       "output_type": "stream",
       "stream": "stdout",
       "text": [
        "\tFrom worker 4:\tExceeded maximum number of iterations\n"
       ]
      },
      {
       "output_type": "stream",
       "stream": "stdout",
       "text": [
        "\tFrom worker 3:\tExceeded maximum number of iterations\n"
       ]
      },
      {
       "output_type": "stream",
       "stream": "stdout",
       "text": [
        "\tFrom worker 2:\tExceeded maximum number of iterations\n"
       ]
      },
      {
       "output_type": "stream",
       "stream": "stdout",
       "text": [
        "\tFrom worker 4:\tExceeded maximum number of iterations\n"
       ]
      },
      {
       "output_type": "stream",
       "stream": "stdout",
       "text": [
        "\tFrom worker 3:\tExceeded maximum number of iterations\n"
       ]
      },
      {
       "output_type": "stream",
       "stream": "stdout",
       "text": [
        "\tFrom worker 2:\tExceeded maximum number of iterations\n"
       ]
      },
      {
       "output_type": "stream",
       "stream": "stdout",
       "text": [
        "\tFrom worker 4:\tExceeded maximum number of iterations\n"
       ]
      },
      {
       "output_type": "stream",
       "stream": "stdout",
       "text": [
        "\tFrom worker 3:\tExceeded maximum number of iterations\n"
       ]
      },
      {
       "output_type": "stream",
       "stream": "stdout",
       "text": [
        "\tFrom worker 2:\tExceeded maximum number of iterations\n"
       ]
      },
      {
       "output_type": "stream",
       "stream": "stdout",
       "text": [
        "\tFrom worker 4:\tExceeded maximum number of iterations\n"
       ]
      },
      {
       "output_type": "stream",
       "stream": "stdout",
       "text": [
        "\tFrom worker 3:\tExceeded maximum number of iterations\n"
       ]
      },
      {
       "output_type": "stream",
       "stream": "stdout",
       "text": [
        "\tFrom worker 2:\tExceeded maximum number of iterations\n"
       ]
      },
      {
       "output_type": "stream",
       "stream": "stdout",
       "text": [
        "\tFrom worker 4:\tExceeded maximum number of iterations\n"
       ]
      },
      {
       "output_type": "stream",
       "stream": "stdout",
       "text": [
        "\tFrom worker 3:\tExceeded maximum number of iterations\n"
       ]
      },
      {
       "output_type": "stream",
       "stream": "stdout",
       "text": [
        "\tFrom worker 2:\tExceeded maximum number of iterations\n"
       ]
      },
      {
       "output_type": "stream",
       "stream": "stdout",
       "text": [
        "\tFrom worker 4:\tExceeded maximum number of iterations\n"
       ]
      },
      {
       "output_type": "stream",
       "stream": "stdout",
       "text": [
        "\tFrom worker 3:\tExceeded maximum number of iterations\n"
       ]
      },
      {
       "output_type": "stream",
       "stream": "stdout",
       "text": [
        "\tFrom worker 2:\tExceeded maximum number of iterations\n"
       ]
      },
      {
       "output_type": "stream",
       "stream": "stdout",
       "text": [
        "\tFrom worker 4:\tExceeded maximum number of iterations\n"
       ]
      },
      {
       "output_type": "stream",
       "stream": "stdout",
       "text": [
        "\tFrom worker 3:\tExceeded maximum number of iterations\n"
       ]
      },
      {
       "output_type": "stream",
       "stream": "stdout",
       "text": [
        "\tFrom worker 2:\tExceeded maximum number of iterations\n"
       ]
      },
      {
       "output_type": "stream",
       "stream": "stdout",
       "text": [
        "\tFrom worker 4:\tExceeded maximum number of iterations\n"
       ]
      },
      {
       "output_type": "stream",
       "stream": "stdout",
       "text": [
        "\tFrom worker 3:\tExceeded maximum number of iterations\n"
       ]
      },
      {
       "output_type": "stream",
       "stream": "stdout",
       "text": [
        "\tFrom worker 2:\tExceeded maximum number of iterations\n"
       ]
      },
      {
       "output_type": "stream",
       "stream": "stdout",
       "text": [
        "\tFrom worker 4:\tExceeded maximum number of iterations\n"
       ]
      },
      {
       "output_type": "stream",
       "stream": "stdout",
       "text": [
        "\tFrom worker 3:\tExceeded maximum number of iterations\n"
       ]
      },
      {
       "output_type": "stream",
       "stream": "stdout",
       "text": [
        "\tFrom worker 2:\tExceeded maximum number of iterations\n"
       ]
      },
      {
       "output_type": "stream",
       "stream": "stdout",
       "text": [
        "\tFrom worker 4:\tExceeded maximum number of iterations\n"
       ]
      },
      {
       "output_type": "stream",
       "stream": "stdout",
       "text": [
        "\tFrom worker 3:\tExceeded maximum number of iterations\n"
       ]
      },
      {
       "output_type": "stream",
       "stream": "stdout",
       "text": [
        "\tFrom worker 2:\tExceeded maximum number of iterations\n"
       ]
      },
      {
       "output_type": "stream",
       "stream": "stdout",
       "text": [
        "\tFrom worker 4:\tExceeded maximum number of iterations\n"
       ]
      },
      {
       "output_type": "stream",
       "stream": "stdout",
       "text": [
        "\tFrom worker 3:\tExceeded maximum number of iterations\n"
       ]
      },
      {
       "output_type": "stream",
       "stream": "stdout",
       "text": [
        "\tFrom worker 2:\tExceeded maximum number of iterations\n"
       ]
      },
      {
       "output_type": "stream",
       "stream": "stdout",
       "text": [
        "\tFrom worker 4:\tExceeded maximum number of iterations\n"
       ]
      },
      {
       "output_type": "stream",
       "stream": "stdout",
       "text": [
        "\tFrom worker 3:\tExceeded maximum number of iterations\n"
       ]
      },
      {
       "output_type": "stream",
       "stream": "stdout",
       "text": [
        "\tFrom worker 2:\tExceeded maximum number of iterations\n"
       ]
      },
      {
       "output_type": "stream",
       "stream": "stdout",
       "text": [
        "\tFrom worker 4:\tExceeded maximum number of iterations\n"
       ]
      },
      {
       "output_type": "stream",
       "stream": "stdout",
       "text": [
        "\tFrom worker 3:\tExceeded maximum number of iterations\n"
       ]
      },
      {
       "output_type": "stream",
       "stream": "stdout",
       "text": [
        "\tFrom worker 2:\tExceeded maximum number of iterations\n"
       ]
      },
      {
       "output_type": "stream",
       "stream": "stdout",
       "text": [
        "\tFrom worker 4:\tExceeded maximum number of iterations\n"
       ]
      },
      {
       "output_type": "stream",
       "stream": "stdout",
       "text": [
        "\tFrom worker 3:\tExceeded maximum number of iterations\n"
       ]
      },
      {
       "output_type": "stream",
       "stream": "stdout",
       "text": [
        "\tFrom worker 2:\tExceeded maximum number of iterations\n"
       ]
      },
      {
       "output_type": "stream",
       "stream": "stdout",
       "text": [
        "\tFrom worker 4:\tExceeded maximum number of iterations\n"
       ]
      },
      {
       "output_type": "stream",
       "stream": "stdout",
       "text": [
        "\tFrom worker 3:\tExceeded maximum number of iterations\n"
       ]
      },
      {
       "output_type": "stream",
       "stream": "stdout",
       "text": [
        "\tFrom worker 2:\tExceeded maximum number of iterations\n"
       ]
      },
      {
       "output_type": "stream",
       "stream": "stdout",
       "text": [
        "\tFrom worker 4:\tExceeded maximum number of iterations\n"
       ]
      },
      {
       "output_type": "stream",
       "stream": "stdout",
       "text": [
        "\tFrom worker 3:\tExceeded maximum number of iterations\n"
       ]
      },
      {
       "output_type": "stream",
       "stream": "stdout",
       "text": [
        "\tFrom worker 2:\tExceeded maximum number of iterations\n"
       ]
      },
      {
       "output_type": "stream",
       "stream": "stdout",
       "text": [
        "\tFrom worker 4:\tExceeded maximum number of iterations\n"
       ]
      },
      {
       "output_type": "stream",
       "stream": "stdout",
       "text": [
        "\tFrom worker 3:\tExceeded maximum number of iterations\n"
       ]
      },
      {
       "output_type": "stream",
       "stream": "stdout",
       "text": [
        "\tFrom worker 2:\tExceeded maximum number of iterations\n"
       ]
      },
      {
       "output_type": "stream",
       "stream": "stdout",
       "text": [
        "\tFrom worker 4:\tExceeded maximum number of iterations\n"
       ]
      },
      {
       "output_type": "stream",
       "stream": "stdout",
       "text": [
        "\tFrom worker 3:\tExceeded maximum number of iterations\n"
       ]
      },
      {
       "output_type": "stream",
       "stream": "stdout",
       "text": [
        "\tFrom worker 2:\tExceeded maximum number of iterations\n"
       ]
      },
      {
       "output_type": "stream",
       "stream": "stdout",
       "text": [
        "\tFrom worker 4:\tExceeded maximum number of iterations\n"
       ]
      },
      {
       "output_type": "stream",
       "stream": "stdout",
       "text": [
        "\tFrom worker 3:\tExceeded maximum number of iterations\n"
       ]
      },
      {
       "output_type": "stream",
       "stream": "stdout",
       "text": [
        "\tFrom worker 2:\tExceeded maximum number of iterations\n"
       ]
      },
      {
       "output_type": "stream",
       "stream": "stdout",
       "text": [
        "\tFrom worker 4:\tExceeded maximum number of iterations\n"
       ]
      },
      {
       "output_type": "stream",
       "stream": "stdout",
       "text": [
        "\tFrom worker 3:\tExceeded maximum number of iterations\n"
       ]
      },
      {
       "output_type": "stream",
       "stream": "stdout",
       "text": [
        "\tFrom worker 2:\tExceeded maximum number of iterations\n"
       ]
      },
      {
       "output_type": "stream",
       "stream": "stdout",
       "text": [
        "\tFrom worker 4:\tExceeded maximum number of iterations\n"
       ]
      },
      {
       "output_type": "stream",
       "stream": "stdout",
       "text": [
        "\tFrom worker 3:\tExceeded maximum number of iterations\n"
       ]
      },
      {
       "output_type": "stream",
       "stream": "stdout",
       "text": [
        "\tFrom worker 2:\tExceeded maximum number of iterations\n"
       ]
      },
      {
       "output_type": "stream",
       "stream": "stdout",
       "text": [
        "\tFrom worker 4:\tExceeded maximum number of iterations\n"
       ]
      },
      {
       "output_type": "stream",
       "stream": "stdout",
       "text": [
        "\tFrom worker 3:\tExceeded maximum number of iterations\n"
       ]
      },
      {
       "output_type": "stream",
       "stream": "stdout",
       "text": [
        "\tFrom worker 2:\tExceeded maximum number of iterations\n",
        "\tFrom worker 4:\tExceeded maximum number of iterations\n"
       ]
      },
      {
       "output_type": "stream",
       "stream": "stdout",
       "text": [
        "\tFrom worker 2:\tExceeded maximum number of iterations\n"
       ]
      },
      {
       "output_type": "stream",
       "stream": "stdout",
       "text": [
        "\tFrom worker 3:\tExceeded maximum number of iterations\n",
        "\tFrom worker 4:\tExceeded maximum number of iterations\n"
       ]
      },
      {
       "output_type": "stream",
       "stream": "stdout",
       "text": [
        "\tFrom worker 2:\tExceeded maximum number of iterations\n"
       ]
      },
      {
       "output_type": "stream",
       "stream": "stdout",
       "text": [
        "\tFrom worker 4:\tExceeded maximum number of iterations\n",
        "\tFrom worker 3:\tExceeded maximum number of iterations\n"
       ]
      },
      {
       "output_type": "stream",
       "stream": "stdout",
       "text": [
        "\tFrom worker 2:\tExceeded maximum number of iterations\n"
       ]
      },
      {
       "output_type": "stream",
       "stream": "stdout",
       "text": [
        "\tFrom worker 4:\tExceeded maximum number of iterations\n"
       ]
      },
      {
       "output_type": "stream",
       "stream": "stdout",
       "text": [
        "\tFrom worker 3:\tExceeded maximum number of iterations\n"
       ]
      },
      {
       "output_type": "stream",
       "stream": "stdout",
       "text": [
        "\tFrom worker 2:\tExceeded maximum number of iterations\n"
       ]
      },
      {
       "output_type": "stream",
       "stream": "stdout",
       "text": [
        "\tFrom worker 4:\tExceeded maximum number of iterations\n"
       ]
      },
      {
       "output_type": "stream",
       "stream": "stdout",
       "text": [
        "\tFrom worker 3:\tExceeded maximum number of iterations\n"
       ]
      },
      {
       "output_type": "stream",
       "stream": "stdout",
       "text": [
        "\tFrom worker 2:\tExceeded maximum number of iterations\n"
       ]
      },
      {
       "output_type": "stream",
       "stream": "stdout",
       "text": [
        "\tFrom worker 4:\tExceeded maximum number of iterations\n"
       ]
      },
      {
       "output_type": "stream",
       "stream": "stdout",
       "text": [
        "\tFrom worker 3:\tExceeded maximum number of iterations\n"
       ]
      },
      {
       "output_type": "stream",
       "stream": "stdout",
       "text": [
        "\tFrom worker 2:\tExceeded maximum number of iterations\n"
       ]
      },
      {
       "output_type": "stream",
       "stream": "stdout",
       "text": [
        "\tFrom worker 4:\tExceeded maximum number of iterations\n"
       ]
      },
      {
       "output_type": "stream",
       "stream": "stdout",
       "text": [
        "\tFrom worker 3:\tExceeded maximum number of iterations\n"
       ]
      },
      {
       "output_type": "stream",
       "stream": "stdout",
       "text": [
        "\tFrom worker 2:\tExceeded maximum number of iterations\n"
       ]
      },
      {
       "output_type": "stream",
       "stream": "stdout",
       "text": [
        "\tFrom worker 4:\tExceeded maximum number of iterations\n"
       ]
      },
      {
       "output_type": "stream",
       "stream": "stdout",
       "text": [
        "\tFrom worker 3:\tExceeded maximum number of iterations\n"
       ]
      },
      {
       "output_type": "stream",
       "stream": "stdout",
       "text": [
        "\tFrom worker 2:\tExceeded maximum number of iterations\n"
       ]
      },
      {
       "output_type": "stream",
       "stream": "stdout",
       "text": [
        "\tFrom worker 4:\tExceeded maximum number of iterations\n"
       ]
      },
      {
       "output_type": "stream",
       "stream": "stdout",
       "text": [
        "\tFrom worker 3:\tExceeded maximum number of iterations\n"
       ]
      },
      {
       "output_type": "stream",
       "stream": "stdout",
       "text": [
        "\tFrom worker 2:\tExceeded maximum number of iterations\n"
       ]
      },
      {
       "output_type": "stream",
       "stream": "stdout",
       "text": [
        "\tFrom worker 4:\tExceeded maximum number of iterations\n"
       ]
      },
      {
       "output_type": "stream",
       "stream": "stdout",
       "text": [
        "\tFrom worker 3:\tExceeded maximum number of iterations\n"
       ]
      },
      {
       "output_type": "stream",
       "stream": "stdout",
       "text": [
        "\tFrom worker 2:\tExceeded maximum number of iterations\n"
       ]
      },
      {
       "output_type": "stream",
       "stream": "stdout",
       "text": [
        "\tFrom worker 4:\tExceeded maximum number of iterations\n"
       ]
      },
      {
       "output_type": "stream",
       "stream": "stdout",
       "text": [
        "\tFrom worker 3:\tExceeded maximum number of iterations\n"
       ]
      },
      {
       "output_type": "stream",
       "stream": "stdout",
       "text": [
        "\tFrom worker 2:\tExceeded maximum number of iterations\n"
       ]
      },
      {
       "output_type": "stream",
       "stream": "stdout",
       "text": [
        "\tFrom worker 4:\tExceeded maximum number of iterations\n"
       ]
      },
      {
       "output_type": "stream",
       "stream": "stdout",
       "text": [
        "\tFrom worker 3:\tExceeded maximum number of iterations\n"
       ]
      },
      {
       "output_type": "stream",
       "stream": "stdout",
       "text": [
        "\tFrom worker 2:\tExceeded maximum number of iterations\n"
       ]
      },
      {
       "output_type": "stream",
       "stream": "stdout",
       "text": [
        "\tFrom worker 4:\tExceeded maximum number of iterations\n"
       ]
      },
      {
       "output_type": "stream",
       "stream": "stdout",
       "text": [
        "\tFrom worker 3:\tExceeded maximum number of iterations\n"
       ]
      },
      {
       "output_type": "stream",
       "stream": "stdout",
       "text": [
        "\tFrom worker 2:\tExceeded maximum number of iterations\n"
       ]
      },
      {
       "output_type": "stream",
       "stream": "stdout",
       "text": [
        "\tFrom worker 4:\tExceeded maximum number of iterations\n"
       ]
      },
      {
       "output_type": "stream",
       "stream": "stdout",
       "text": [
        "\tFrom worker 3:\tExceeded maximum number of iterations\n"
       ]
      },
      {
       "output_type": "stream",
       "stream": "stdout",
       "text": [
        "\tFrom worker 2:\tExceeded maximum number of iterations\n"
       ]
      },
      {
       "output_type": "stream",
       "stream": "stdout",
       "text": [
        "\tFrom worker 4:\tExceeded maximum number of iterations\n"
       ]
      },
      {
       "output_type": "stream",
       "stream": "stdout",
       "text": [
        "\tFrom worker 3:\tExceeded maximum number of iterations\n"
       ]
      },
      {
       "output_type": "stream",
       "stream": "stdout",
       "text": [
        "\tFrom worker 2:\tExceeded maximum number of iterations\n"
       ]
      },
      {
       "output_type": "stream",
       "stream": "stdout",
       "text": [
        "\tFrom worker 4:\tExceeded maximum number of iterations\n"
       ]
      },
      {
       "output_type": "stream",
       "stream": "stdout",
       "text": [
        "\tFrom worker 3:\tExceeded maximum number of iterations\n"
       ]
      },
      {
       "output_type": "stream",
       "stream": "stdout",
       "text": [
        "\tFrom worker 2:\tExceeded maximum number of iterations\n"
       ]
      },
      {
       "output_type": "stream",
       "stream": "stdout",
       "text": [
        "\tFrom worker 4:\tExceeded maximum number of iterations\n"
       ]
      },
      {
       "output_type": "stream",
       "stream": "stdout",
       "text": [
        "\tFrom worker 3:\tExceeded maximum number of iterations\n"
       ]
      },
      {
       "output_type": "stream",
       "stream": "stdout",
       "text": [
        "\tFrom worker 2:\tExceeded maximum number of iterations\n"
       ]
      },
      {
       "output_type": "stream",
       "stream": "stdout",
       "text": [
        "\tFrom worker 4:\tExceeded maximum number of iterations\n"
       ]
      },
      {
       "output_type": "stream",
       "stream": "stdout",
       "text": [
        "\tFrom worker 3:\tExceeded maximum number of iterations\n"
       ]
      },
      {
       "output_type": "stream",
       "stream": "stdout",
       "text": [
        "\tFrom worker 2:\tExceeded maximum number of iterations\n"
       ]
      },
      {
       "output_type": "stream",
       "stream": "stdout",
       "text": [
        "\tFrom worker 4:\tExceeded maximum number of iterations\n"
       ]
      },
      {
       "output_type": "stream",
       "stream": "stdout",
       "text": [
        "\tFrom worker 3:\tExceeded maximum number of iterations\n"
       ]
      },
      {
       "output_type": "stream",
       "stream": "stdout",
       "text": [
        "\tFrom worker 2:\tExceeded maximum number of iterations\n"
       ]
      },
      {
       "output_type": "stream",
       "stream": "stdout",
       "text": [
        "\tFrom worker 4:\tExceeded maximum number of iterations\n"
       ]
      },
      {
       "output_type": "stream",
       "stream": "stdout",
       "text": [
        "\tFrom worker 3:\tExceeded maximum number of iterations\n"
       ]
      },
      {
       "output_type": "stream",
       "stream": "stdout",
       "text": [
        "\tFrom worker 2:\tExceeded maximum number of iterations\n"
       ]
      },
      {
       "output_type": "stream",
       "stream": "stdout",
       "text": [
        "\tFrom worker 4:\tExceeded maximum number of iterations\n"
       ]
      },
      {
       "output_type": "stream",
       "stream": "stdout",
       "text": [
        "\tFrom worker 3:\tExceeded maximum number of iterations\n"
       ]
      },
      {
       "output_type": "stream",
       "stream": "stdout",
       "text": [
        "\tFrom worker 2:\tExceeded maximum number of iterations\n"
       ]
      },
      {
       "output_type": "stream",
       "stream": "stdout",
       "text": [
        "\tFrom worker 4:\tExceeded maximum number of iterations\n"
       ]
      },
      {
       "output_type": "stream",
       "stream": "stdout",
       "text": [
        "\tFrom worker 3:\tExceeded maximum number of iterations\n"
       ]
      },
      {
       "output_type": "stream",
       "stream": "stdout",
       "text": [
        "\tFrom worker 2:\tExceeded maximum number of iterations\n"
       ]
      },
      {
       "output_type": "stream",
       "stream": "stdout",
       "text": [
        "\tFrom worker 4:\tExceeded maximum number of iterations\n"
       ]
      },
      {
       "output_type": "stream",
       "stream": "stdout",
       "text": [
        "\tFrom worker 3:\tExceeded maximum number of iterations\n"
       ]
      },
      {
       "output_type": "stream",
       "stream": "stdout",
       "text": [
        "\tFrom worker 2:\tExceeded maximum number of iterations\n"
       ]
      },
      {
       "output_type": "stream",
       "stream": "stdout",
       "text": [
        "\tFrom worker 4:\tExceeded maximum number of iterations\n"
       ]
      },
      {
       "output_type": "stream",
       "stream": "stdout",
       "text": [
        "\tFrom worker 3:\tExceeded maximum number of iterations\n"
       ]
      },
      {
       "output_type": "stream",
       "stream": "stdout",
       "text": [
        "\tFrom worker 2:\tExceeded maximum number of iterations\n",
        "\tFrom worker 4:\tExceeded maximum number of iterations\n"
       ]
      },
      {
       "output_type": "stream",
       "stream": "stdout",
       "text": [
        "\tFrom worker 3:\tExceeded maximum number of iterations\n"
       ]
      },
      {
       "output_type": "stream",
       "stream": "stdout",
       "text": [
        "\tFrom worker 2:\tExceeded maximum number of iterations\n"
       ]
      },
      {
       "output_type": "stream",
       "stream": "stdout",
       "text": [
        "\tFrom worker 4:\tExceeded maximum number of iterations\n"
       ]
      },
      {
       "output_type": "stream",
       "stream": "stdout",
       "text": [
        "\tFrom worker 3:\tExceeded maximum number of iterations\n"
       ]
      },
      {
       "output_type": "stream",
       "stream": "stdout",
       "text": [
        "\tFrom worker 2:\tExceeded maximum number of iterations\n",
        "\tFrom worker 4:\tExceeded maximum number of iterations\n"
       ]
      },
      {
       "output_type": "stream",
       "stream": "stdout",
       "text": [
        "\tFrom worker 2:\tExceeded maximum number of iterations\n"
       ]
      },
      {
       "output_type": "stream",
       "stream": "stdout",
       "text": [
        "\tFrom worker 4:\tExceeded maximum number of iterations\n",
        "\tFrom worker 3:\tExceeded maximum number of iterations\n"
       ]
      },
      {
       "output_type": "stream",
       "stream": "stdout",
       "text": [
        "\tFrom worker 2:\tExceeded maximum number of iterations\n"
       ]
      },
      {
       "output_type": "stream",
       "stream": "stdout",
       "text": [
        "\tFrom worker 4:\tExceeded maximum number of iterations\n"
       ]
      },
      {
       "output_type": "stream",
       "stream": "stdout",
       "text": [
        "\tFrom worker 3:\tExceeded maximum number of iterations\n"
       ]
      },
      {
       "output_type": "stream",
       "stream": "stdout",
       "text": [
        "\tFrom worker 2:\tExceeded maximum number of iterations\n"
       ]
      },
      {
       "output_type": "stream",
       "stream": "stdout",
       "text": [
        "\tFrom worker 4:\tExceeded maximum number of iterations\n"
       ]
      },
      {
       "output_type": "stream",
       "stream": "stdout",
       "text": [
        "\tFrom worker 3:\tExceeded maximum number of iterations\n"
       ]
      },
      {
       "output_type": "stream",
       "stream": "stdout",
       "text": [
        "\tFrom worker 2:\tExceeded maximum number of iterations\n"
       ]
      },
      {
       "output_type": "stream",
       "stream": "stdout",
       "text": [
        "\tFrom worker 4:\tExceeded maximum number of iterations\n"
       ]
      },
      {
       "output_type": "stream",
       "stream": "stdout",
       "text": [
        "\tFrom worker 3:\tExceeded maximum number of iterations\n"
       ]
      },
      {
       "output_type": "stream",
       "stream": "stdout",
       "text": [
        "\tFrom worker 2:\tExceeded maximum number of iterations\n"
       ]
      },
      {
       "output_type": "stream",
       "stream": "stdout",
       "text": [
        "\tFrom worker 4:\tExceeded maximum number of iterations\n"
       ]
      },
      {
       "output_type": "stream",
       "stream": "stdout",
       "text": [
        "\tFrom worker 3:\tExceeded maximum number of iterations\n"
       ]
      },
      {
       "output_type": "stream",
       "stream": "stdout",
       "text": [
        "\tFrom worker 2:\tExceeded maximum number of iterations\n"
       ]
      },
      {
       "output_type": "stream",
       "stream": "stdout",
       "text": [
        "\tFrom worker 4:\tExceeded maximum number of iterations\n"
       ]
      },
      {
       "output_type": "stream",
       "stream": "stdout",
       "text": [
        "\tFrom worker 3:\tExceeded maximum number of iterations\n"
       ]
      },
      {
       "output_type": "stream",
       "stream": "stdout",
       "text": [
        "\tFrom worker 2:\tExceeded maximum number of iterations\n"
       ]
      },
      {
       "output_type": "stream",
       "stream": "stdout",
       "text": [
        "\tFrom worker 4:\tExceeded maximum number of iterations\n"
       ]
      },
      {
       "output_type": "stream",
       "stream": "stdout",
       "text": [
        "\tFrom worker 3:\tExceeded maximum number of iterations\n"
       ]
      },
      {
       "output_type": "stream",
       "stream": "stdout",
       "text": [
        "\tFrom worker 2:\tExceeded maximum number of iterations\n"
       ]
      },
      {
       "output_type": "stream",
       "stream": "stdout",
       "text": [
        "\tFrom worker 4:\tExceeded maximum number of iterations\n"
       ]
      },
      {
       "output_type": "stream",
       "stream": "stdout",
       "text": [
        "\tFrom worker 3:\tExceeded maximum number of iterations\n"
       ]
      },
      {
       "output_type": "stream",
       "stream": "stdout",
       "text": [
        "\tFrom worker 2:\tExceeded maximum number of iterations\n"
       ]
      },
      {
       "output_type": "stream",
       "stream": "stdout",
       "text": [
        "\tFrom worker 4:\tExceeded maximum number of iterations\n"
       ]
      },
      {
       "output_type": "stream",
       "stream": "stdout",
       "text": [
        "\tFrom worker 3:\tExceeded maximum number of iterations\n"
       ]
      },
      {
       "output_type": "stream",
       "stream": "stdout",
       "text": [
        "\tFrom worker 2:\tExceeded maximum number of iterations\n"
       ]
      },
      {
       "output_type": "stream",
       "stream": "stdout",
       "text": [
        "\tFrom worker 4:\tExceeded maximum number of iterations\n"
       ]
      },
      {
       "output_type": "stream",
       "stream": "stdout",
       "text": [
        "\tFrom worker 3:\tExceeded maximum number of iterations\n"
       ]
      },
      {
       "output_type": "stream",
       "stream": "stdout",
       "text": [
        "\tFrom worker 2:\tExceeded maximum number of iterations\n"
       ]
      },
      {
       "output_type": "stream",
       "stream": "stdout",
       "text": [
        "\tFrom worker 4:\tExceeded maximum number of iterations\n"
       ]
      },
      {
       "output_type": "stream",
       "stream": "stdout",
       "text": [
        "\tFrom worker 3:\tExceeded maximum number of iterations\n"
       ]
      },
      {
       "output_type": "stream",
       "stream": "stdout",
       "text": [
        "\tFrom worker 2:\tExceeded maximum number of iterations\n"
       ]
      },
      {
       "output_type": "stream",
       "stream": "stdout",
       "text": [
        "\tFrom worker 4:\tExceeded maximum number of iterations\n"
       ]
      },
      {
       "output_type": "stream",
       "stream": "stdout",
       "text": [
        "\tFrom worker 3:\tExceeded maximum number of iterations\n"
       ]
      },
      {
       "output_type": "stream",
       "stream": "stdout",
       "text": [
        "\tFrom worker 2:\tExceeded maximum number of iterations\n"
       ]
      },
      {
       "output_type": "stream",
       "stream": "stdout",
       "text": [
        "\tFrom worker 4:\tExceeded maximum number of iterations\n"
       ]
      },
      {
       "output_type": "stream",
       "stream": "stdout",
       "text": [
        "\tFrom worker 3:\tExceeded maximum number of iterations\n"
       ]
      },
      {
       "output_type": "stream",
       "stream": "stdout",
       "text": [
        "\tFrom worker 2:\tExceeded maximum number of iterations\n"
       ]
      },
      {
       "output_type": "stream",
       "stream": "stdout",
       "text": [
        "\tFrom worker 4:\tExceeded maximum number of iterations\n"
       ]
      },
      {
       "output_type": "stream",
       "stream": "stdout",
       "text": [
        "\tFrom worker 3:\tExceeded maximum number of iterations\n"
       ]
      },
      {
       "output_type": "stream",
       "stream": "stdout",
       "text": [
        "\tFrom worker 2:\tExceeded maximum number of iterations\n"
       ]
      },
      {
       "output_type": "stream",
       "stream": "stdout",
       "text": [
        "\tFrom worker 4:\tExceeded maximum number of iterations\n"
       ]
      },
      {
       "output_type": "stream",
       "stream": "stdout",
       "text": [
        "\tFrom worker 3:\tExceeded maximum number of iterations\n"
       ]
      },
      {
       "output_type": "stream",
       "stream": "stdout",
       "text": [
        "\tFrom worker 2:\tExceeded maximum number of iterations\n"
       ]
      },
      {
       "output_type": "stream",
       "stream": "stdout",
       "text": [
        "\tFrom worker 4:\tExceeded maximum number of iterations\n"
       ]
      },
      {
       "output_type": "stream",
       "stream": "stdout",
       "text": [
        "\tFrom worker 3:\tExceeded maximum number of iterations\n"
       ]
      },
      {
       "output_type": "stream",
       "stream": "stdout",
       "text": [
        "\tFrom worker 2:\tExceeded maximum number of iterations\n"
       ]
      },
      {
       "output_type": "stream",
       "stream": "stdout",
       "text": [
        "\tFrom worker 4:\tExceeded maximum number of iterations\n"
       ]
      },
      {
       "output_type": "stream",
       "stream": "stdout",
       "text": [
        "\tFrom worker 3:\tExceeded maximum number of iterations\n"
       ]
      },
      {
       "output_type": "stream",
       "stream": "stdout",
       "text": [
        "\tFrom worker 2:\tExceeded maximum number of iterations\n"
       ]
      },
      {
       "output_type": "stream",
       "stream": "stdout",
       "text": [
        "\tFrom worker 4:\tExceeded maximum number of iterations\n"
       ]
      },
      {
       "output_type": "stream",
       "stream": "stdout",
       "text": [
        "\tFrom worker 3:\tExceeded maximum number of iterations\n"
       ]
      },
      {
       "output_type": "stream",
       "stream": "stdout",
       "text": [
        "\tFrom worker 2:\tExceeded maximum number of iterations\n"
       ]
      },
      {
       "output_type": "stream",
       "stream": "stdout",
       "text": [
        "\tFrom worker 4:\tExceeded maximum number of iterations\n"
       ]
      },
      {
       "output_type": "stream",
       "stream": "stdout",
       "text": [
        "\tFrom worker 3:\tExceeded maximum number of iterations\n"
       ]
      },
      {
       "output_type": "stream",
       "stream": "stdout",
       "text": [
        "\tFrom worker 2:\tExceeded maximum number of iterations\n"
       ]
      },
      {
       "output_type": "stream",
       "stream": "stdout",
       "text": [
        "\tFrom worker 4:\tExceeded maximum number of iterations\n"
       ]
      },
      {
       "output_type": "stream",
       "stream": "stdout",
       "text": [
        "\tFrom worker 3:\tExceeded maximum number of iterations\n"
       ]
      },
      {
       "output_type": "stream",
       "stream": "stdout",
       "text": [
        "\tFrom worker 2:\tExceeded maximum number of iterations\n"
       ]
      },
      {
       "output_type": "stream",
       "stream": "stdout",
       "text": [
        "\tFrom worker 4:\tExceeded maximum number of iterations\n"
       ]
      },
      {
       "output_type": "stream",
       "stream": "stdout",
       "text": [
        "\tFrom worker 2:\tExceeded maximum number of iterations\n"
       ]
      },
      {
       "output_type": "stream",
       "stream": "stdout",
       "text": [
        "\tFrom worker 3:\tExceeded maximum number of iterations\n",
        "\tFrom worker 4:\tExceeded maximum number of iterations\n"
       ]
      },
      {
       "output_type": "stream",
       "stream": "stdout",
       "text": [
        "\tFrom worker 2:\tExceeded maximum number of iterations\n"
       ]
      },
      {
       "output_type": "stream",
       "stream": "stdout",
       "text": [
        "\tFrom worker 4:\tExceeded maximum number of iterations\n",
        "\tFrom worker 3:\tExceeded maximum number of iterations\n"
       ]
      },
      {
       "output_type": "stream",
       "stream": "stdout",
       "text": [
        "\tFrom worker 2:\tExceeded maximum number of iterations\n"
       ]
      },
      {
       "output_type": "stream",
       "stream": "stdout",
       "text": [
        "\tFrom worker 4:\tExceeded maximum number of iterations\n",
        "\tFrom worker 3:\tExceeded maximum number of iterations\n"
       ]
      },
      {
       "output_type": "stream",
       "stream": "stdout",
       "text": [
        "\tFrom worker 4:\tExceeded maximum number of iterations\n"
       ]
      },
      {
       "output_type": "stream",
       "stream": "stdout",
       "text": [
        "\tFrom worker 3:\tExceeded maximum number of iterations\n"
       ]
      },
      {
       "output_type": "stream",
       "stream": "stdout",
       "text": [
        "\tFrom worker 3:\tExceeded maximum number of iterations\n"
       ]
      },
      {
       "output_type": "stream",
       "stream": "stdout",
       "text": [
        "\tFrom worker 3:\tExceeded maximum number of iterations\n"
       ]
      },
      {
       "output_type": "stream",
       "stream": "stdout",
       "text": [
        "\tFrom worker 3:\tExceeded maximum number of iterations\n"
       ]
      },
      {
       "output_type": "stream",
       "stream": "stdout",
       "text": [
        "elapsed time: 121"
       ]
      },
      {
       "output_type": "stream",
       "stream": "stdout",
       "text": [
        ".076973686 seconds\n"
       ]
      }
     ],
     "prompt_number": 2
    },
    {
     "cell_type": "code",
     "collapsed": false,
     "input": [
      "plot(time,orig_flux)\n",
      "plot(time,flux)"
     ],
     "language": "python",
     "metadata": {},
     "outputs": [
      {
       "metadata": {},
       "output_type": "display_data",
       "png": "[encoded data removed]",
       "text": [
        "Figure(PyObject <matplotlib.figure.Figure object at 0x7f174b515ba8>)"
       ]
      },
      {
       "metadata": {},
       "output_type": "pyout",
       "prompt_number": 21,
       "text": [
        "1-element Array{Any,1}:\n",
        " PyObject <matplotlib.lines.Line2D object at 0x7f174b49bc18>"
       ]
      }
     ],
     "prompt_number": 21
    },
    {
     "cell_type": "code",
     "collapsed": false,
     "input": [
      "setprocs(1);"
     ],
     "language": "python",
     "metadata": {},
     "outputs": [
      {
       "output_type": "stream",
       "stream": "stdout",
       "text": [
        "number of processors = 4\n"
       ]
      }
     ],
     "prompt_number": 2
    },
    {
     "cell_type": "code",
     "collapsed": false,
     "input": [
      "seg_inds=get_seg_inds(time);\n",
      "num_seg=size(seg_inds)[1];\n",
      "\n",
      "tic();\n",
      "for i = 1:num_seg\n",
      "    seg_ind=seg_inds[i,:];\n",
      "\n",
      "    segment_detrend!(seg_ind,time,flux);\n",
      "    #@printf(\"i=%d, myid()=%d\\n\",i,myid())\n",
      "end\n",
      "toc();"
     ],
     "language": "python",
     "metadata": {},
     "outputs": [
      {
       "output_type": "stream",
       "stream": "stderr",
       "text": [
        "WARNING: x::Number + A::Array is deprecated, use x .+ A instead."
       ]
      },
      {
       "output_type": "stream",
       "stream": "stdout",
       "text": [
        "Worker 4 terminated.Worker 3 terminated.\n"
       ]
      },
      {
       "output_type": "stream",
       "stream": "stderr",
       "text": [
        "\n",
        " in + at deprecated.jl:26\n",
        " in cubicmodel at /home/mark/Dropbox/School/2014_1Spring/ASTRO_585/kepler_ttv/kepler_procedures/detrend_models.jl:8\n",
        " in f at /home/mark/.julia/v0.3/Optim/src/curve_fit.jl:10\n",
        " in levenberg_marquardt at /home/mark/.julia/v0.3/Optim/src/levenberg_marquardt.jl:34\n",
        " in curve_fit at /home/mark/.julia/v0.3/Optim/src/curve_fit.jl:15\n",
        " in segment_detrend! at /home/mark/Dropbox/School/2014_1Spring/ASTRO_585/kepler_ttv/kepler_procedures/segment_detrend.jl:27\n",
        " in anonymous at no file:8\n",
        " in include_string at loading.jl:97\n"
       ]
      },
      {
       "output_type": "stream",
       "stream": "stdout",
       "text": [
        "\n",
        "Exceeded maximum number of iterations"
       ]
      },
      {
       "output_type": "stream",
       "stream": "stdout",
       "text": [
        "\n",
        "Exceeded maximum number of iterations"
       ]
      },
      {
       "output_type": "stream",
       "stream": "stdout",
       "text": [
        "\n",
        "Exceeded maximum number of iterations"
       ]
      },
      {
       "output_type": "stream",
       "stream": "stdout",
       "text": [
        "\n",
        "Exceeded maximum number of iterations"
       ]
      },
      {
       "output_type": "stream",
       "stream": "stdout",
       "text": [
        "\n",
        "Exceeded maximum number of iterations"
       ]
      },
      {
       "output_type": "stream",
       "stream": "stdout",
       "text": [
        "\n",
        "Exceeded maximum number of iterations"
       ]
      },
      {
       "output_type": "stream",
       "stream": "stdout",
       "text": [
        "\n",
        "Exceeded maximum number of iterations"
       ]
      },
      {
       "output_type": "stream",
       "stream": "stdout",
       "text": [
        "\n",
        "Exceeded maximum number of iterations"
       ]
      },
      {
       "output_type": "stream",
       "stream": "stdout",
       "text": [
        "\n",
        "Exceeded maximum number of iterations"
       ]
      },
      {
       "output_type": "stream",
       "stream": "stdout",
       "text": [
        "\n",
        "Exceeded maximum number of iterations"
       ]
      },
      {
       "output_type": "stream",
       "stream": "stdout",
       "text": [
        "\n",
        "Exceeded maximum number of iterations"
       ]
      },
      {
       "output_type": "stream",
       "stream": "stdout",
       "text": [
        "\n",
        "Exceeded maximum number of iterations"
       ]
      },
      {
       "output_type": "stream",
       "stream": "stdout",
       "text": [
        "\n",
        "Exceeded maximum number of iterations"
       ]
      },
      {
       "output_type": "stream",
       "stream": "stdout",
       "text": [
        "\n",
        "Exceeded maximum number of iterations"
       ]
      },
      {
       "output_type": "stream",
       "stream": "stdout",
       "text": [
        "\n",
        "Exceeded maximum number of iterations"
       ]
      },
      {
       "output_type": "stream",
       "stream": "stdout",
       "text": [
        "\n",
        "Exceeded maximum number of iterations"
       ]
      },
      {
       "output_type": "stream",
       "stream": "stdout",
       "text": [
        "\n",
        "Exceeded maximum number of iterations"
       ]
      },
      {
       "output_type": "stream",
       "stream": "stdout",
       "text": [
        "\n",
        "Exceeded maximum number of iterations"
       ]
      },
      {
       "output_type": "stream",
       "stream": "stdout",
       "text": [
        "\n",
        "Exceeded maximum number of iterations"
       ]
      },
      {
       "output_type": "stream",
       "stream": "stdout",
       "text": [
        "\n",
        "Exceeded maximum number of iterations"
       ]
      },
      {
       "output_type": "stream",
       "stream": "stdout",
       "text": [
        "\n",
        "Exceeded maximum number of iterations"
       ]
      },
      {
       "output_type": "stream",
       "stream": "stdout",
       "text": [
        "\n",
        "Exceeded maximum number of iterations"
       ]
      },
      {
       "output_type": "stream",
       "stream": "stdout",
       "text": [
        "\n",
        "Exceeded maximum number of iterations"
       ]
      },
      {
       "output_type": "stream",
       "stream": "stdout",
       "text": [
        "\n",
        "Exceeded maximum number of iterations"
       ]
      },
      {
       "output_type": "stream",
       "stream": "stdout",
       "text": [
        "\n",
        "Exceeded maximum number of iterations"
       ]
      },
      {
       "output_type": "stream",
       "stream": "stdout",
       "text": [
        "\n",
        "Exceeded maximum number of iterations"
       ]
      },
      {
       "output_type": "stream",
       "stream": "stdout",
       "text": [
        "\n",
        "Exceeded maximum number of iterations"
       ]
      },
      {
       "output_type": "stream",
       "stream": "stdout",
       "text": [
        "\n",
        "Exceeded maximum number of iterations"
       ]
      },
      {
       "output_type": "stream",
       "stream": "stdout",
       "text": [
        "\n",
        "Exceeded maximum number of iterations"
       ]
      },
      {
       "output_type": "stream",
       "stream": "stdout",
       "text": [
        "\n",
        "Exceeded maximum number of iterations"
       ]
      },
      {
       "output_type": "stream",
       "stream": "stdout",
       "text": [
        "\n",
        "Exceeded maximum number of iterations"
       ]
      },
      {
       "output_type": "stream",
       "stream": "stdout",
       "text": [
        "\n",
        "Exceeded maximum number of iterations"
       ]
      },
      {
       "output_type": "stream",
       "stream": "stdout",
       "text": [
        "\n",
        "Exceeded maximum number of iterations"
       ]
      },
      {
       "output_type": "stream",
       "stream": "stdout",
       "text": [
        "\n",
        "Exceeded maximum number of iterations"
       ]
      },
      {
       "output_type": "stream",
       "stream": "stdout",
       "text": [
        "\n",
        "Exceeded maximum number of iterations"
       ]
      },
      {
       "output_type": "stream",
       "stream": "stdout",
       "text": [
        "\n",
        "Exceeded maximum number of iterations"
       ]
      },
      {
       "output_type": "stream",
       "stream": "stdout",
       "text": [
        "\n",
        "Exceeded maximum number of iterations"
       ]
      },
      {
       "output_type": "stream",
       "stream": "stdout",
       "text": [
        "\n",
        "Exceeded maximum number of iterations"
       ]
      },
      {
       "output_type": "stream",
       "stream": "stdout",
       "text": [
        "\n",
        "Exceeded maximum number of iterations"
       ]
      },
      {
       "output_type": "stream",
       "stream": "stdout",
       "text": [
        "\n",
        "Exceeded maximum number of iterations"
       ]
      },
      {
       "output_type": "stream",
       "stream": "stdout",
       "text": [
        "\n",
        "Exceeded maximum number of iterations"
       ]
      },
      {
       "output_type": "stream",
       "stream": "stdout",
       "text": [
        "\n",
        "Exceeded maximum number of iterations"
       ]
      },
      {
       "output_type": "stream",
       "stream": "stdout",
       "text": [
        "\n",
        "Exceeded maximum number of iterations"
       ]
      },
      {
       "output_type": "stream",
       "stream": "stdout",
       "text": [
        "\n",
        "Exceeded maximum number of iterations"
       ]
      },
      {
       "output_type": "stream",
       "stream": "stdout",
       "text": [
        "\n",
        "Exceeded maximum number of iterations"
       ]
      },
      {
       "output_type": "stream",
       "stream": "stdout",
       "text": [
        "\n",
        "Exceeded maximum number of iterations"
       ]
      },
      {
       "output_type": "stream",
       "stream": "stdout",
       "text": [
        "\n",
        "Exceeded maximum number of iterations"
       ]
      },
      {
       "output_type": "stream",
       "stream": "stdout",
       "text": [
        "\n",
        "Exceeded maximum number of iterations"
       ]
      },
      {
       "output_type": "stream",
       "stream": "stdout",
       "text": [
        "\n",
        "Exceeded maximum number of iterations"
       ]
      },
      {
       "output_type": "stream",
       "stream": "stdout",
       "text": [
        "\n",
        "Exceeded maximum number of iterations"
       ]
      },
      {
       "output_type": "stream",
       "stream": "stdout",
       "text": [
        "\n",
        "Exceeded maximum number of iterations"
       ]
      },
      {
       "output_type": "stream",
       "stream": "stdout",
       "text": [
        "\n",
        "Exceeded maximum number of iterations"
       ]
      },
      {
       "output_type": "stream",
       "stream": "stdout",
       "text": [
        "\n",
        "Exceeded maximum number of iterations"
       ]
      },
      {
       "output_type": "stream",
       "stream": "stdout",
       "text": [
        "\n",
        "Exceeded maximum number of iterations"
       ]
      },
      {
       "output_type": "stream",
       "stream": "stdout",
       "text": [
        "\n",
        "Exceeded maximum number of iterations"
       ]
      },
      {
       "output_type": "stream",
       "stream": "stdout",
       "text": [
        "\n",
        "Exceeded maximum number of iterations"
       ]
      },
      {
       "output_type": "stream",
       "stream": "stdout",
       "text": [
        "\n",
        "Exceeded maximum number of iterations"
       ]
      },
      {
       "output_type": "stream",
       "stream": "stdout",
       "text": [
        "\n",
        "Exceeded maximum number of iterations"
       ]
      },
      {
       "output_type": "stream",
       "stream": "stdout",
       "text": [
        "\n",
        "Exceeded maximum number of iterations"
       ]
      },
      {
       "output_type": "stream",
       "stream": "stdout",
       "text": [
        "\n",
        "Exceeded maximum number of iterations"
       ]
      },
      {
       "output_type": "stream",
       "stream": "stdout",
       "text": [
        "\n",
        "Exceeded maximum number of iterations"
       ]
      },
      {
       "output_type": "stream",
       "stream": "stdout",
       "text": [
        "\n",
        "Exceeded maximum number of iterations"
       ]
      },
      {
       "output_type": "stream",
       "stream": "stdout",
       "text": [
        "\n",
        "Exceeded maximum number of iterations"
       ]
      },
      {
       "output_type": "stream",
       "stream": "stdout",
       "text": [
        "\n",
        "Exceeded maximum number of iterations"
       ]
      },
      {
       "output_type": "stream",
       "stream": "stdout",
       "text": [
        "\n",
        "Exceeded maximum number of iterations"
       ]
      },
      {
       "output_type": "stream",
       "stream": "stdout",
       "text": [
        "\n",
        "Exceeded maximum number of iterations"
       ]
      },
      {
       "output_type": "stream",
       "stream": "stdout",
       "text": [
        "\n",
        "Exceeded maximum number of iterations"
       ]
      },
      {
       "output_type": "stream",
       "stream": "stdout",
       "text": [
        "\n",
        "Exceeded maximum number of iterations"
       ]
      },
      {
       "output_type": "stream",
       "stream": "stdout",
       "text": [
        "\n",
        "Exceeded maximum number of iterations"
       ]
      },
      {
       "output_type": "stream",
       "stream": "stdout",
       "text": [
        "\n",
        "Exceeded maximum number of iterations"
       ]
      },
      {
       "output_type": "stream",
       "stream": "stdout",
       "text": [
        "\n",
        "Exceeded maximum number of iterations"
       ]
      },
      {
       "output_type": "stream",
       "stream": "stdout",
       "text": [
        "\n",
        "Exceeded maximum number of iterations"
       ]
      },
      {
       "output_type": "stream",
       "stream": "stdout",
       "text": [
        "\n",
        "Exceeded maximum number of iterations"
       ]
      },
      {
       "output_type": "stream",
       "stream": "stdout",
       "text": [
        "\n",
        "Exceeded maximum number of iterations"
       ]
      },
      {
       "output_type": "stream",
       "stream": "stdout",
       "text": [
        "\n",
        "Exceeded maximum number of iterations"
       ]
      },
      {
       "output_type": "stream",
       "stream": "stdout",
       "text": [
        "\n",
        "Exceeded maximum number of iterations"
       ]
      },
      {
       "output_type": "stream",
       "stream": "stdout",
       "text": [
        "\n",
        "Exceeded maximum number of iterations"
       ]
      },
      {
       "output_type": "stream",
       "stream": "stdout",
       "text": [
        "\n",
        "Exceeded maximum number of iterations"
       ]
      },
      {
       "output_type": "stream",
       "stream": "stdout",
       "text": [
        "\n",
        "Exceeded maximum number of iterations"
       ]
      },
      {
       "output_type": "stream",
       "stream": "stdout",
       "text": [
        "\n",
        "Exceeded maximum number of iterations"
       ]
      },
      {
       "output_type": "stream",
       "stream": "stdout",
       "text": [
        "\n",
        "Exceeded maximum number of iterations"
       ]
      },
      {
       "output_type": "stream",
       "stream": "stdout",
       "text": [
        "\n",
        "Exceeded maximum number of iterations"
       ]
      },
      {
       "output_type": "stream",
       "stream": "stdout",
       "text": [
        "\n",
        "Exceeded maximum number of iterations"
       ]
      },
      {
       "output_type": "stream",
       "stream": "stdout",
       "text": [
        "\n",
        "Exceeded maximum number of iterations"
       ]
      },
      {
       "output_type": "stream",
       "stream": "stdout",
       "text": [
        "\n",
        "Exceeded maximum number of iterations"
       ]
      },
      {
       "output_type": "stream",
       "stream": "stdout",
       "text": [
        "\n",
        "Exceeded maximum number of iterations"
       ]
      },
      {
       "output_type": "stream",
       "stream": "stdout",
       "text": [
        "\n",
        "Exceeded maximum number of iterations"
       ]
      },
      {
       "output_type": "stream",
       "stream": "stdout",
       "text": [
        "\n",
        "Exceeded maximum number of iterations"
       ]
      },
      {
       "output_type": "stream",
       "stream": "stdout",
       "text": [
        "\n",
        "Exceeded maximum number of iterations"
       ]
      },
      {
       "output_type": "stream",
       "stream": "stdout",
       "text": [
        "\n",
        "Exceeded maximum number of iterations"
       ]
      },
      {
       "output_type": "stream",
       "stream": "stdout",
       "text": [
        "\n",
        "Exceeded maximum number of iterations"
       ]
      },
      {
       "output_type": "stream",
       "stream": "stdout",
       "text": [
        "\n",
        "Exceeded maximum number of iterations"
       ]
      },
      {
       "output_type": "stream",
       "stream": "stdout",
       "text": [
        "\n",
        "Exceeded maximum number of iterations"
       ]
      },
      {
       "output_type": "stream",
       "stream": "stdout",
       "text": [
        "\n",
        "Exceeded maximum number of iterations"
       ]
      },
      {
       "output_type": "stream",
       "stream": "stdout",
       "text": [
        "\n",
        "Exceeded maximum number of iterations"
       ]
      },
      {
       "output_type": "stream",
       "stream": "stdout",
       "text": [
        "\n",
        "Exceeded maximum number of iterations"
       ]
      },
      {
       "output_type": "stream",
       "stream": "stdout",
       "text": [
        "\n",
        "Exceeded maximum number of iterations"
       ]
      },
      {
       "output_type": "stream",
       "stream": "stdout",
       "text": [
        "\n",
        "Exceeded maximum number of iterations"
       ]
      },
      {
       "output_type": "stream",
       "stream": "stdout",
       "text": [
        "\n",
        "Exceeded maximum number of iterations"
       ]
      },
      {
       "output_type": "stream",
       "stream": "stdout",
       "text": [
        "\n",
        "Exceeded maximum number of iterations"
       ]
      },
      {
       "output_type": "stream",
       "stream": "stdout",
       "text": [
        "\n",
        "Exceeded maximum number of iterations"
       ]
      },
      {
       "output_type": "stream",
       "stream": "stdout",
       "text": [
        "\n",
        "Exceeded maximum number of iterations"
       ]
      },
      {
       "output_type": "stream",
       "stream": "stdout",
       "text": [
        "\n",
        "Exceeded maximum number of iterations"
       ]
      },
      {
       "output_type": "stream",
       "stream": "stdout",
       "text": [
        "\n",
        "Exceeded maximum number of iterations"
       ]
      },
      {
       "output_type": "stream",
       "stream": "stdout",
       "text": [
        "\n",
        "Exceeded maximum number of iterations"
       ]
      },
      {
       "output_type": "stream",
       "stream": "stdout",
       "text": [
        "\n",
        "Exceeded maximum number of iterations"
       ]
      },
      {
       "output_type": "stream",
       "stream": "stdout",
       "text": [
        "\n",
        "Exceeded maximum number of iterations"
       ]
      },
      {
       "output_type": "stream",
       "stream": "stdout",
       "text": [
        "\n",
        "Exceeded maximum number of iterations"
       ]
      },
      {
       "output_type": "stream",
       "stream": "stdout",
       "text": [
        "\n",
        "Exceeded maximum number of iterations"
       ]
      },
      {
       "output_type": "stream",
       "stream": "stdout",
       "text": [
        "\n",
        "Exceeded maximum number of iterations"
       ]
      },
      {
       "output_type": "stream",
       "stream": "stdout",
       "text": [
        "\n",
        "Exceeded maximum number of iterations"
       ]
      },
      {
       "output_type": "stream",
       "stream": "stdout",
       "text": [
        "\n",
        "Exceeded maximum number of iterations"
       ]
      },
      {
       "output_type": "stream",
       "stream": "stdout",
       "text": [
        "\n",
        "Exceeded maximum number of iterations"
       ]
      },
      {
       "output_type": "stream",
       "stream": "stdout",
       "text": [
        "\n",
        "Exceeded maximum number of iterations"
       ]
      },
      {
       "output_type": "stream",
       "stream": "stdout",
       "text": [
        "\n",
        "Exceeded maximum number of iterations"
       ]
      },
      {
       "output_type": "stream",
       "stream": "stdout",
       "text": [
        "\n",
        "Exceeded maximum number of iterations"
       ]
      },
      {
       "output_type": "stream",
       "stream": "stdout",
       "text": [
        "\n",
        "Exceeded maximum number of iterations"
       ]
      },
      {
       "output_type": "stream",
       "stream": "stdout",
       "text": [
        "\n",
        "Exceeded maximum number of iterations"
       ]
      },
      {
       "output_type": "stream",
       "stream": "stdout",
       "text": [
        "\n",
        "Exceeded maximum number of iterations"
       ]
      },
      {
       "output_type": "stream",
       "stream": "stdout",
       "text": [
        "\n",
        "Exceeded maximum number of iterations"
       ]
      },
      {
       "output_type": "stream",
       "stream": "stdout",
       "text": [
        "\n",
        "Exceeded maximum number of iterations"
       ]
      },
      {
       "output_type": "stream",
       "stream": "stdout",
       "text": [
        "\n",
        "Exceeded maximum number of iterations"
       ]
      },
      {
       "output_type": "stream",
       "stream": "stdout",
       "text": [
        "\n",
        "Exceeded maximum number of iterations"
       ]
      },
      {
       "output_type": "stream",
       "stream": "stdout",
       "text": [
        "\n",
        "Exceeded maximum number of iterations"
       ]
      },
      {
       "output_type": "stream",
       "stream": "stdout",
       "text": [
        "\n",
        "Exceeded maximum number of iterations"
       ]
      },
      {
       "output_type": "stream",
       "stream": "stdout",
       "text": [
        "\n",
        "Exceeded maximum number of iterations"
       ]
      },
      {
       "output_type": "stream",
       "stream": "stdout",
       "text": [
        "\n",
        "Exceeded maximum number of iterations"
       ]
      },
      {
       "output_type": "stream",
       "stream": "stdout",
       "text": [
        "\n",
        "Exceeded maximum number of iterations"
       ]
      },
      {
       "output_type": "stream",
       "stream": "stdout",
       "text": [
        "\n",
        "Exceeded maximum number of iterations"
       ]
      },
      {
       "output_type": "stream",
       "stream": "stdout",
       "text": [
        "\n",
        "Exceeded maximum number of iterations"
       ]
      },
      {
       "output_type": "stream",
       "stream": "stdout",
       "text": [
        "\n",
        "Exceeded maximum number of iterations"
       ]
      },
      {
       "output_type": "stream",
       "stream": "stdout",
       "text": [
        "\n",
        "Exceeded maximum number of iterations"
       ]
      },
      {
       "output_type": "stream",
       "stream": "stdout",
       "text": [
        "\n",
        "Exceeded maximum number of iterations"
       ]
      },
      {
       "output_type": "stream",
       "stream": "stdout",
       "text": [
        "\n",
        "Exceeded maximum number of iterations"
       ]
      },
      {
       "output_type": "stream",
       "stream": "stdout",
       "text": [
        "\n",
        "Exceeded maximum number of iterations"
       ]
      },
      {
       "output_type": "stream",
       "stream": "stdout",
       "text": [
        "\n",
        "Exceeded maximum number of iterations"
       ]
      },
      {
       "output_type": "stream",
       "stream": "stdout",
       "text": [
        "\n",
        "Exceeded maximum number of iterations"
       ]
      },
      {
       "output_type": "stream",
       "stream": "stdout",
       "text": [
        "\n",
        "Exceeded maximum number of iterations"
       ]
      },
      {
       "output_type": "stream",
       "stream": "stdout",
       "text": [
        "\n",
        "Exceeded maximum number of iterations"
       ]
      },
      {
       "output_type": "stream",
       "stream": "stdout",
       "text": [
        "\n",
        "Exceeded maximum number of iterations"
       ]
      },
      {
       "output_type": "stream",
       "stream": "stdout",
       "text": [
        "\n",
        "Exceeded maximum number of iterations"
       ]
      },
      {
       "output_type": "stream",
       "stream": "stdout",
       "text": [
        "\n",
        "Exceeded maximum number of iterations"
       ]
      },
      {
       "output_type": "stream",
       "stream": "stdout",
       "text": [
        "\n",
        "Exceeded maximum number of iterations"
       ]
      },
      {
       "output_type": "stream",
       "stream": "stdout",
       "text": [
        "\n",
        "Exceeded maximum number of iterations"
       ]
      },
      {
       "output_type": "stream",
       "stream": "stdout",
       "text": [
        "\n",
        "Exceeded maximum number of iterations"
       ]
      },
      {
       "output_type": "stream",
       "stream": "stdout",
       "text": [
        "\n",
        "Exceeded maximum number of iterations"
       ]
      },
      {
       "output_type": "stream",
       "stream": "stdout",
       "text": [
        "\n",
        "Exceeded maximum number of iterations"
       ]
      },
      {
       "output_type": "stream",
       "stream": "stdout",
       "text": [
        "\n",
        "Exceeded maximum number of iterations"
       ]
      },
      {
       "output_type": "stream",
       "stream": "stdout",
       "text": [
        "\n",
        "Exceeded maximum number of iterations"
       ]
      },
      {
       "output_type": "stream",
       "stream": "stdout",
       "text": [
        "\n",
        "Exceeded maximum number of iterations"
       ]
      },
      {
       "output_type": "stream",
       "stream": "stdout",
       "text": [
        "\n",
        "Exceeded maximum number of iterations"
       ]
      },
      {
       "output_type": "stream",
       "stream": "stdout",
       "text": [
        "\n",
        "Exceeded maximum number of iterations"
       ]
      },
      {
       "output_type": "stream",
       "stream": "stdout",
       "text": [
        "\n",
        "Exceeded maximum number of iterations"
       ]
      },
      {
       "output_type": "stream",
       "stream": "stdout",
       "text": [
        "\n",
        "Exceeded maximum number of iterations"
       ]
      },
      {
       "output_type": "stream",
       "stream": "stdout",
       "text": [
        "\n",
        "Exceeded maximum number of iterations"
       ]
      },
      {
       "output_type": "stream",
       "stream": "stdout",
       "text": [
        "\n",
        "Exceeded maximum number of iterations"
       ]
      },
      {
       "output_type": "stream",
       "stream": "stdout",
       "text": [
        "\n",
        "Exceeded maximum number of iterations"
       ]
      },
      {
       "output_type": "stream",
       "stream": "stdout",
       "text": [
        "\n",
        "Exceeded maximum number of iterations"
       ]
      },
      {
       "output_type": "stream",
       "stream": "stdout",
       "text": [
        "\n",
        "Exceeded maximum number of iterations"
       ]
      },
      {
       "output_type": "stream",
       "stream": "stdout",
       "text": [
        "\n",
        "Exceeded maximum number of iterations"
       ]
      },
      {
       "output_type": "stream",
       "stream": "stdout",
       "text": [
        "\n",
        "Exceeded maximum number of iterations"
       ]
      },
      {
       "output_type": "stream",
       "stream": "stdout",
       "text": [
        "\n",
        "Exceeded maximum number of iterations"
       ]
      },
      {
       "output_type": "stream",
       "stream": "stdout",
       "text": [
        "\n",
        "Exceeded maximum number of iterations"
       ]
      },
      {
       "output_type": "stream",
       "stream": "stdout",
       "text": [
        "\n",
        "Exceeded maximum number of iterations"
       ]
      },
      {
       "output_type": "stream",
       "stream": "stdout",
       "text": [
        "\n",
        "Exceeded maximum number of iterations"
       ]
      },
      {
       "output_type": "stream",
       "stream": "stdout",
       "text": [
        "\n",
        "Exceeded maximum number of iterations"
       ]
      },
      {
       "output_type": "stream",
       "stream": "stdout",
       "text": [
        "\n",
        "Exceeded maximum number of iterations"
       ]
      },
      {
       "output_type": "stream",
       "stream": "stdout",
       "text": [
        "\n",
        "Exceeded maximum number of iterations"
       ]
      },
      {
       "output_type": "stream",
       "stream": "stdout",
       "text": [
        "\n",
        "Exceeded maximum number of iterations"
       ]
      },
      {
       "output_type": "stream",
       "stream": "stdout",
       "text": [
        "\n",
        "Exceeded maximum number of iterations"
       ]
      },
      {
       "output_type": "stream",
       "stream": "stdout",
       "text": [
        "\n",
        "Exceeded maximum number of iterations"
       ]
      },
      {
       "output_type": "stream",
       "stream": "stdout",
       "text": [
        "\n",
        "Exceeded maximum number of iterations"
       ]
      },
      {
       "output_type": "stream",
       "stream": "stdout",
       "text": [
        "\n",
        "Exceeded maximum number of iterations"
       ]
      },
      {
       "output_type": "stream",
       "stream": "stdout",
       "text": [
        "\n",
        "Exceeded maximum number of iterations"
       ]
      },
      {
       "output_type": "stream",
       "stream": "stdout",
       "text": [
        "\n",
        "Exceeded maximum number of iterations"
       ]
      },
      {
       "output_type": "stream",
       "stream": "stdout",
       "text": [
        "\n",
        "Exceeded maximum number of iterations"
       ]
      },
      {
       "output_type": "stream",
       "stream": "stdout",
       "text": [
        "\n",
        "Exceeded maximum number of iterations"
       ]
      },
      {
       "output_type": "stream",
       "stream": "stdout",
       "text": [
        "\n",
        "Exceeded maximum number of iterations"
       ]
      },
      {
       "output_type": "stream",
       "stream": "stdout",
       "text": [
        "\n",
        "Exceeded maximum number of iterations"
       ]
      },
      {
       "output_type": "stream",
       "stream": "stdout",
       "text": [
        "\n",
        "Exceeded maximum number of iterations"
       ]
      },
      {
       "output_type": "stream",
       "stream": "stdout",
       "text": [
        "\n",
        "Exceeded maximum number of iterations"
       ]
      },
      {
       "output_type": "stream",
       "stream": "stdout",
       "text": [
        "\n",
        "Exceeded maximum number of iterations"
       ]
      },
      {
       "output_type": "stream",
       "stream": "stdout",
       "text": [
        "\n",
        "Exceeded maximum number of iterations"
       ]
      },
      {
       "output_type": "stream",
       "stream": "stdout",
       "text": [
        "\n",
        "Exceeded maximum number of iterations"
       ]
      },
      {
       "output_type": "stream",
       "stream": "stdout",
       "text": [
        "\n",
        "Exceeded maximum number of iterations"
       ]
      },
      {
       "output_type": "stream",
       "stream": "stdout",
       "text": [
        "\n",
        "Exceeded maximum number of iterations"
       ]
      },
      {
       "output_type": "stream",
       "stream": "stdout",
       "text": [
        "\n",
        "Exceeded maximum number of iterations"
       ]
      },
      {
       "output_type": "stream",
       "stream": "stdout",
       "text": [
        "\n",
        "Exceeded maximum number of iterations"
       ]
      },
      {
       "output_type": "stream",
       "stream": "stdout",
       "text": [
        "\n",
        "Exceeded maximum number of iterations"
       ]
      },
      {
       "output_type": "stream",
       "stream": "stdout",
       "text": [
        "\n",
        "Exceeded maximum number of iterations"
       ]
      },
      {
       "output_type": "stream",
       "stream": "stdout",
       "text": [
        "\n",
        "Exceeded maximum number of iterations"
       ]
      },
      {
       "output_type": "stream",
       "stream": "stdout",
       "text": [
        "\n",
        "Exceeded maximum number of iterations"
       ]
      },
      {
       "output_type": "stream",
       "stream": "stdout",
       "text": [
        "\n",
        "Exceeded maximum number of iterations"
       ]
      },
      {
       "output_type": "stream",
       "stream": "stdout",
       "text": [
        "\n",
        "Exceeded maximum number of iterations"
       ]
      },
      {
       "output_type": "stream",
       "stream": "stdout",
       "text": [
        "\n",
        "Exceeded maximum number of iterations"
       ]
      },
      {
       "output_type": "stream",
       "stream": "stdout",
       "text": [
        "\n",
        "Exceeded maximum number of iterations"
       ]
      },
      {
       "output_type": "stream",
       "stream": "stdout",
       "text": [
        "\n",
        "Exceeded maximum number of iterations"
       ]
      },
      {
       "output_type": "stream",
       "stream": "stdout",
       "text": [
        "\n",
        "Exceeded maximum number of iterations"
       ]
      },
      {
       "output_type": "stream",
       "stream": "stdout",
       "text": [
        "\n",
        "Exceeded maximum number of iterations"
       ]
      },
      {
       "output_type": "stream",
       "stream": "stdout",
       "text": [
        "\n",
        "Exceeded maximum number of iterations"
       ]
      },
      {
       "output_type": "stream",
       "stream": "stdout",
       "text": [
        "\n",
        "Exceeded maximum number of iterations"
       ]
      },
      {
       "output_type": "stream",
       "stream": "stdout",
       "text": [
        "\n",
        "Exceeded maximum number of iterations"
       ]
      },
      {
       "output_type": "stream",
       "stream": "stdout",
       "text": [
        "\n",
        "Exceeded maximum number of iterations"
       ]
      },
      {
       "output_type": "stream",
       "stream": "stdout",
       "text": [
        "\n",
        "Exceeded maximum number of iterations"
       ]
      },
      {
       "output_type": "stream",
       "stream": "stdout",
       "text": [
        "\n",
        "Exceeded maximum number of iterations"
       ]
      },
      {
       "output_type": "stream",
       "stream": "stdout",
       "text": [
        "\n",
        "Exceeded maximum number of iterations"
       ]
      },
      {
       "output_type": "stream",
       "stream": "stdout",
       "text": [
        "\n",
        "Exceeded maximum number of iterations"
       ]
      },
      {
       "output_type": "stream",
       "stream": "stdout",
       "text": [
        "\n",
        "Exceeded maximum number of iterations"
       ]
      },
      {
       "output_type": "stream",
       "stream": "stdout",
       "text": [
        "\n",
        "Exceeded maximum number of iterations"
       ]
      },
      {
       "output_type": "stream",
       "stream": "stdout",
       "text": [
        "\n",
        "Exceeded maximum number of iterations"
       ]
      },
      {
       "output_type": "stream",
       "stream": "stdout",
       "text": [
        "\n",
        "Exceeded maximum number of iterations"
       ]
      },
      {
       "output_type": "stream",
       "stream": "stdout",
       "text": [
        "\n",
        "Exceeded maximum number of iterations"
       ]
      },
      {
       "output_type": "stream",
       "stream": "stdout",
       "text": [
        "\n",
        "Exceeded maximum number of iterations"
       ]
      },
      {
       "output_type": "stream",
       "stream": "stdout",
       "text": [
        "\n",
        "Exceeded maximum number of iterations"
       ]
      },
      {
       "output_type": "stream",
       "stream": "stdout",
       "text": [
        "\n",
        "Exceeded maximum number of iterations"
       ]
      },
      {
       "output_type": "stream",
       "stream": "stdout",
       "text": [
        "\n",
        "Exceeded maximum number of iterations"
       ]
      },
      {
       "output_type": "stream",
       "stream": "stdout",
       "text": [
        "\n",
        "Exceeded maximum number of iterations"
       ]
      },
      {
       "output_type": "stream",
       "stream": "stdout",
       "text": [
        "\n",
        "Exceeded maximum number of iterations"
       ]
      },
      {
       "output_type": "stream",
       "stream": "stdout",
       "text": [
        "\n",
        "Exceeded maximum number of iterations"
       ]
      },
      {
       "output_type": "stream",
       "stream": "stdout",
       "text": [
        "\n",
        "Exceeded maximum number of iterations"
       ]
      },
      {
       "output_type": "stream",
       "stream": "stdout",
       "text": [
        "\n",
        "Exceeded maximum number of iterations"
       ]
      },
      {
       "output_type": "stream",
       "stream": "stdout",
       "text": [
        "\n",
        "Exceeded maximum number of iterations"
       ]
      },
      {
       "output_type": "stream",
       "stream": "stdout",
       "text": [
        "\n",
        "Exceeded maximum number of iterations"
       ]
      },
      {
       "output_type": "stream",
       "stream": "stdout",
       "text": [
        "\n",
        "Exceeded maximum number of iterations"
       ]
      },
      {
       "output_type": "stream",
       "stream": "stdout",
       "text": [
        "\n",
        "Exceeded maximum number of iterations"
       ]
      },
      {
       "output_type": "stream",
       "stream": "stdout",
       "text": [
        "\n",
        "Exceeded maximum number of iterations"
       ]
      },
      {
       "output_type": "stream",
       "stream": "stdout",
       "text": [
        "\n",
        "Exceeded maximum number of iterations"
       ]
      },
      {
       "output_type": "stream",
       "stream": "stdout",
       "text": [
        "\n",
        "elapsed time: 223.974845028 seconds\n"
       ]
      }
     ],
     "prompt_number": 2
    }
   ],
   "metadata": {}
  }
 ]
}