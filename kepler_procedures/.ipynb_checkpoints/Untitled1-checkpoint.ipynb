{
 "metadata": {
  "name": "",
  "signature": "sha256:af2e7750c7eb629abe02100a672f0b77aedb83f3418f83ddce42ec886d66e31c"
 },
 "nbformat": 3,
 "nbformat_minor": 0,
 "worksheets": []
}