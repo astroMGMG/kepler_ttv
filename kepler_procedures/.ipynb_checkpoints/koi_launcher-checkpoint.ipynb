{
 "metadata": {
  "language": "Julia",
  "name": ""
 },
 "nbformat": 3,
 "nbformat_minor": 0,
 "worksheets": [
  {
   "cells": [
    {
     "cell_type": "code",
     "collapsed": false,
     "input": [
      "#include(\"rw_functions.jl\")\n",
      "include(\"koi_luncher.jl\")"
     ],
     "language": "python",
     "metadata": {},
     "outputs": [
      {
       "metadata": {},
       "output_type": "pyout",
       "prompt_number": 1,
       "text": [
        "koi_luncher (generic function with 1 method)"
       ]
      }
     ],
     "prompt_number": 1
    },
    {
     "cell_type": "code",
     "collapsed": false,
     "input": [
      "using PyPlot;\n",
      "a = koi_luncher(\"koi_list.csv\")"
     ],
     "language": "python",
     "metadata": {},
     "outputs": [
      {
       "output_type": "stream",
       "stream": "stdout",
       "text": [
        "Loading help data...\n"
       ]
      },
      {
       "output_type": "stream",
       "stream": "stdout",
       "text": [
        "Getting data for KOI object: "
       ]
      },
      {
       "output_type": "stream",
       "stream": "stdout",
       "text": [
        "952.01\n",
        "Initializing koi..."
       ]
      },
      {
       "output_type": "stream",
       "stream": "stdout",
       "text": [
        "\n",
        "Getting lightcurves..."
       ]
      },
      {
       "output_type": "stream",
       "stream": "stdout",
       "text": [
        "\n",
        "0"
       ]
      },
      {
       "output_type": "stream",
       "stream": "stderr",
       "text": [
        "WARNING:root:Unrecognized parameter: '2MASS conflict flag'\n",
        "WARNING:root:Unrecognized parameter: '2MASS conflict flag'\n",
        "WARNING:root:Unrecognized parameter: '2MASS conflict flag'\n",
        "WARNING:root:Unrecognized parameter: '2MASS conflict flag'\n",
        "WARNING:root:Unrecognized parameter: '2MASS conflict flag'\n",
        "WARNING:root:Unrecognized parameter: '2MASS conflict flag'\n",
        "WARNING:root:Unrecognized parameter: '2MASS conflict flag'\n",
        "WARNING:root:Unrecognized parameter: '2MASS conflict flag'\n",
        "WARNING:root:Unrecognized parameter: '2MASS conflict flag'\n",
        "WARNING:root:Unrecognized parameter: '2MASS conflict flag'\n",
        "WARNING:root:Unrecognized parameter: '2MASS conflict flag'\n",
        "WARNING:root:Unrecognized parameter: '2MASS conflict flag'\n",
        "WARNING:root:Unrecognized parameter: '2MASS conflict flag'\n",
        "WARNING:root:Unrecognized parameter: '2MASS conflict flag'\n"
       ]
      },
      {
       "output_type": "stream",
       "stream": "stdout",
       "text": [
        "\n",
        "1"
       ]
      },
      {
       "output_type": "stream",
       "stream": "stdout",
       "text": [
        "\n",
        "2\n",
        "3"
       ]
      },
      {
       "output_type": "stream",
       "stream": "stdout",
       "text": [
        "\n",
        "4\n",
        "5\n",
        "6\n",
        "7"
       ]
      },
      {
       "output_type": "stream",
       "stream": "stdout",
       "text": [
        "\n",
        "8\n",
        "9\n",
        "10\n",
        "11"
       ]
      },
      {
       "output_type": "stream",
       "stream": "stdout",
       "text": [
        "\n",
        "12\n",
        "13\n",
        "Done\n",
        "49620"
       ]
      },
      {
       "output_type": "stream",
       "stream": "stdout",
       "text": [
        "\n",
        "49620\n",
        "49620\n",
        "Exceeded maximum number of iterations"
       ]
      },
      {
       "output_type": "stream",
       "stream": "stdout",
       "text": [
        "\n",
        "Exceeded maximum number of iterations\n",
        "Exceeded maximum number of iterations"
       ]
      },
      {
       "output_type": "stream",
       "stream": "stdout",
       "text": [
        "\n",
        "Exceeded maximum number of iterations\n",
        "Exceeded maximum number of iterations"
       ]
      },
      {
       "output_type": "stream",
       "stream": "stdout",
       "text": [
        "\n",
        "Exceeded maximum number of iterations\n",
        "Exceeded maximum number of iterations"
       ]
      },
      {
       "output_type": "stream",
       "stream": "stdout",
       "text": [
        "\n",
        "Exceeded maximum number of iterations\n",
        "Exceeded maximum number of iterations"
       ]
      },
      {
       "output_type": "stream",
       "stream": "stdout",
       "text": [
        "\n",
        "Exceeded maximum number of iterations\n",
        "Exceeded maximum number of iterations"
       ]
      },
      {
       "output_type": "stream",
       "stream": "stdout",
       "text": [
        "\n",
        "Exceeded maximum number of iterations\n",
        "Exceeded maximum number of iterations"
       ]
      },
      {
       "output_type": "stream",
       "stream": "stdout",
       "text": [
        "\n",
        "Exceeded maximum number of iterations\n",
        "Exceeded maximum number of iterations\n",
        "Exceeded maximum number of iterations"
       ]
      },
      {
       "output_type": "stream",
       "stream": "stdout",
       "text": [
        "\n",
        "Exceeded maximum number of iterations\n",
        "Exceeded maximum number of iterations"
       ]
      },
      {
       "output_type": "stream",
       "stream": "stdout",
       "text": [
        "\n",
        "Exceeded maximum number of iterations\n",
        "Exceeded maximum number of iterations"
       ]
      },
      {
       "output_type": "stream",
       "stream": "stdout",
       "text": [
        "\n",
        "Exceeded maximum number of iterations\n",
        "Exceeded maximum number of iterations"
       ]
      },
      {
       "output_type": "stream",
       "stream": "stdout",
       "text": [
        "\n",
        "Exceeded maximum number of iterations\n",
        "Exceeded maximum number of iterations"
       ]
      },
      {
       "output_type": "stream",
       "stream": "stdout",
       "text": [
        "\n",
        "Exceeded maximum number of iterations\n",
        "Exceeded maximum number of iterations"
       ]
      },
      {
       "output_type": "stream",
       "stream": "stdout",
       "text": [
        "\n",
        "Exceeded maximum number of iterations\n",
        "Exceeded maximum number of iterations"
       ]
      },
      {
       "output_type": "stream",
       "stream": "stdout",
       "text": [
        "\n",
        "Exceeded maximum number of iterations\n",
        "Exceeded maximum number of iterations"
       ]
      },
      {
       "output_type": "stream",
       "stream": "stdout",
       "text": [
        "\n",
        "Exceeded maximum number of iterations\n",
        "Exceeded maximum number of iterations"
       ]
      },
      {
       "output_type": "stream",
       "stream": "stdout",
       "text": [
        "\n",
        "Exceeded maximum number of iterations\n",
        "Exceeded maximum number of iterations"
       ]
      },
      {
       "output_type": "stream",
       "stream": "stdout",
       "text": [
        "\n",
        "Exceeded maximum number of iterations\n",
        "Exceeded maximum number of iterations"
       ]
      },
      {
       "output_type": "stream",
       "stream": "stdout",
       "text": [
        "\n",
        "Exceeded maximum number of iterations\n",
        "Exceeded maximum number of iterations"
       ]
      },
      {
       "output_type": "stream",
       "stream": "stdout",
       "text": [
        "\n",
        "Exceeded maximum number of iterations\n",
        "Exceeded maximum number of iterations\n",
        "Exceeded maximum number of iterations"
       ]
      },
      {
       "output_type": "stream",
       "stream": "stdout",
       "text": [
        "\n",
        "Exceeded maximum number of iterations\n",
        "Exceeded maximum number of iterations"
       ]
      },
      {
       "output_type": "stream",
       "stream": "stdout",
       "text": [
        "\n",
        "Exceeded maximum number of iterations\n",
        "Exceeded maximum number of iterations"
       ]
      },
      {
       "output_type": "stream",
       "stream": "stdout",
       "text": [
        "\n",
        "Exceeded maximum number of iterations\n",
        "Exceeded maximum number of iterations"
       ]
      },
      {
       "output_type": "stream",
       "stream": "stdout",
       "text": [
        "\n",
        "Exceeded maximum number of iterations\n",
        "Exceeded maximum number of iterations"
       ]
      },
      {
       "output_type": "stream",
       "stream": "stdout",
       "text": [
        "\n",
        "Exceeded maximum number of iterations\n",
        "Exceeded maximum number of iterations"
       ]
      },
      {
       "output_type": "stream",
       "stream": "stdout",
       "text": [
        "\n",
        "Exceeded maximum number of iterations\n",
        "Exceeded maximum number of iterations"
       ]
      },
      {
       "output_type": "stream",
       "stream": "stdout",
       "text": [
        "\n",
        "Exceeded maximum number of iterations\n",
        "Exceeded maximum number of iterations"
       ]
      },
      {
       "output_type": "stream",
       "stream": "stdout",
       "text": [
        "\n",
        "Exceeded maximum number of iterations\n",
        "Exceeded maximum number of iterations"
       ]
      },
      {
       "output_type": "stream",
       "stream": "stdout",
       "text": [
        "\n",
        "Exceeded maximum number of iterations\n",
        "Exceeded maximum number of iterations"
       ]
      },
      {
       "output_type": "stream",
       "stream": "stdout",
       "text": [
        "\n",
        "Exceeded maximum number of iterations\n",
        "Exceeded maximum number of iterations"
       ]
      },
      {
       "output_type": "stream",
       "stream": "stdout",
       "text": [
        "\n",
        "Exceeded maximum number of iterations\n",
        "Exceeded maximum number of iterations"
       ]
      },
      {
       "output_type": "stream",
       "stream": "stdout",
       "text": [
        "\n",
        "Exceeded maximum number of iterations\n",
        "Exceeded maximum number of iterations\n",
        "Exceeded maximum number of iterations"
       ]
      },
      {
       "output_type": "stream",
       "stream": "stdout",
       "text": [
        "\n",
        "Exceeded maximum number of iterations\n",
        "Exceeded maximum number of iterations"
       ]
      },
      {
       "output_type": "stream",
       "stream": "stdout",
       "text": [
        "\n",
        "Exceeded maximum number of iterations\n",
        "Exceeded maximum number of iterations"
       ]
      },
      {
       "output_type": "stream",
       "stream": "stdout",
       "text": [
        "\n",
        "Exceeded maximum number of iterations\n",
        "Exceeded maximum number of iterations"
       ]
      },
      {
       "output_type": "stream",
       "stream": "stdout",
       "text": [
        "\n",
        "Exceeded maximum number of iterations\n",
        "Exceeded maximum number of iterations"
       ]
      },
      {
       "output_type": "stream",
       "stream": "stdout",
       "text": [
        "\n",
        "Exceeded maximum number of iterations\n",
        "Exceeded maximum number of iterations"
       ]
      },
      {
       "output_type": "stream",
       "stream": "stdout",
       "text": [
        "\n",
        "Exceeded maximum number of iterations\n",
        "Exceeded maximum number of iterations"
       ]
      },
      {
       "output_type": "stream",
       "stream": "stdout",
       "text": [
        "\n",
        "Exceeded maximum number of iterations\n",
        "Exceeded maximum number of iterations"
       ]
      },
      {
       "output_type": "stream",
       "stream": "stdout",
       "text": [
        "\n",
        "Exceeded maximum number of iterations\n",
        "Exceeded maximum number of iterations"
       ]
      },
      {
       "output_type": "stream",
       "stream": "stdout",
       "text": [
        "\n",
        "Exceeded maximum number of iterations\n",
        "Exceeded maximum number of iterations"
       ]
      },
      {
       "output_type": "stream",
       "stream": "stdout",
       "text": [
        "\n",
        "Exceeded maximum number of iterations\n",
        "Exceeded maximum number of iterations"
       ]
      },
      {
       "output_type": "stream",
       "stream": "stdout",
       "text": [
        "\n",
        "Exceeded maximum number of iterations\n",
        "Exceeded maximum number of iterations"
       ]
      },
      {
       "output_type": "stream",
       "stream": "stdout",
       "text": [
        "\n",
        "Exceeded maximum number of iterations\n",
        "Exceeded maximum number of iterations"
       ]
      },
      {
       "output_type": "stream",
       "stream": "stdout",
       "text": [
        "\n",
        "Exceeded maximum number of iterations\n",
        "Exceeded maximum number of iterations\n",
        "Exceeded maximum number of iterations"
       ]
      },
      {
       "output_type": "stream",
       "stream": "stdout",
       "text": [
        "\n",
        "Exceeded maximum number of iterations\n",
        "Exceeded maximum number of iterations"
       ]
      },
      {
       "output_type": "stream",
       "stream": "stdout",
       "text": [
        "\n",
        "Exceeded maximum number of iterations"
       ]
      },
      {
       "output_type": "stream",
       "stream": "stdout",
       "text": [
        "\n",
        "Exceeded maximum number of iterations\n",
        "Exceeded maximum number of iterations"
       ]
      },
      {
       "output_type": "stream",
       "stream": "stdout",
       "text": [
        "\n",
        "Exceeded maximum number of iterations\n",
        "Exceeded maximum number of iterations"
       ]
      },
      {
       "output_type": "stream",
       "stream": "stdout",
       "text": [
        "\n",
        "Exceeded maximum number of iterations\n",
        "Exceeded maximum number of iterations"
       ]
      },
      {
       "output_type": "stream",
       "stream": "stdout",
       "text": [
        "\n",
        "Exceeded maximum number of iterations\n",
        "Exceeded maximum number of iterations"
       ]
      },
      {
       "output_type": "stream",
       "stream": "stdout",
       "text": [
        "\n",
        "Exceeded maximum number of iterations\n",
        "Exceeded maximum number of iterations"
       ]
      },
      {
       "output_type": "stream",
       "stream": "stdout",
       "text": [
        "\n",
        "Exceeded maximum number of iterations\n",
        "Exceeded maximum number of iterations"
       ]
      },
      {
       "output_type": "stream",
       "stream": "stdout",
       "text": [
        "\n",
        "Exceeded maximum number of iterations\n",
        "Exceeded maximum number of iterations"
       ]
      },
      {
       "output_type": "stream",
       "stream": "stdout",
       "text": [
        "\n",
        "Exceeded maximum number of iterations\n",
        "Exceeded maximum number of iterations"
       ]
      },
      {
       "output_type": "stream",
       "stream": "stdout",
       "text": [
        "\n",
        "Exceeded maximum number of iterations\n",
        "Exceeded maximum number of iterations"
       ]
      },
      {
       "output_type": "stream",
       "stream": "stdout",
       "text": [
        "\n",
        "Exceeded maximum number of iterations\n",
        "Exceeded maximum number of iterations"
       ]
      },
      {
       "output_type": "stream",
       "stream": "stdout",
       "text": [
        "\n",
        "Exceeded maximum number of iterations\n",
        "Exceeded maximum number of iterations"
       ]
      },
      {
       "output_type": "stream",
       "stream": "stdout",
       "text": [
        "\n",
        "Exceeded maximum number of iterations\n",
        "Exceeded maximum number of iterations"
       ]
      },
      {
       "output_type": "stream",
       "stream": "stdout",
       "text": [
        "\n",
        "Exceeded maximum number of iterations\n",
        "Exceeded maximum number of iterations"
       ]
      },
      {
       "output_type": "stream",
       "stream": "stdout",
       "text": [
        "\n",
        "Exceeded maximum number of iterations\n",
        "Exceeded maximum number of iterations"
       ]
      },
      {
       "output_type": "stream",
       "stream": "stdout",
       "text": [
        "\n",
        "Exceeded maximum number of iterations\n",
        "Exceeded maximum number of iterations"
       ]
      },
      {
       "output_type": "stream",
       "stream": "stdout",
       "text": [
        "\n",
        "Exceeded maximum number of iterations\n",
        "Exceeded maximum number of iterations"
       ]
      },
      {
       "output_type": "stream",
       "stream": "stdout",
       "text": [
        "\n",
        "Exceeded maximum number of iterations\n",
        "Exceeded maximum number of iterations"
       ]
      },
      {
       "output_type": "stream",
       "stream": "stdout",
       "text": [
        "\n",
        "Exceeded maximum number of iterations\n",
        "Exceeded maximum number of iterations"
       ]
      },
      {
       "output_type": "stream",
       "stream": "stdout",
       "text": [
        "\n",
        "Exceeded maximum number of iterations\n",
        "Exceeded maximum number of iterations"
       ]
      },
      {
       "output_type": "stream",
       "stream": "stdout",
       "text": [
        "\n",
        "Exceeded maximum number of iterations\n",
        "Exceeded maximum number of iterations"
       ]
      },
      {
       "output_type": "stream",
       "stream": "stdout",
       "text": [
        "\n",
        "Exceeded maximum number of iterations\n",
        "Exceeded maximum number of iterations"
       ]
      },
      {
       "output_type": "stream",
       "stream": "stdout",
       "text": [
        "\n",
        "Exceeded maximum number of iterations\n",
        "Exceeded maximum number of iterations"
       ]
      },
      {
       "output_type": "stream",
       "stream": "stdout",
       "text": [
        "\n",
        "Exceeded maximum number of iterations\n",
        "Exceeded maximum number of iterations"
       ]
      },
      {
       "output_type": "stream",
       "stream": "stdout",
       "text": [
        "\n",
        "Exceeded maximum number of iterations\n",
        "Exceeded maximum number of iterations"
       ]
      },
      {
       "output_type": "stream",
       "stream": "stdout",
       "text": [
        "\n",
        "Exceeded maximum number of iterations\n",
        "Exceeded maximum number of iterations"
       ]
      },
      {
       "output_type": "stream",
       "stream": "stdout",
       "text": [
        "\n",
        "Exceeded maximum number of iterations\n",
        "Exceeded maximum number of iterations"
       ]
      },
      {
       "output_type": "stream",
       "stream": "stdout",
       "text": [
        "\n",
        "Exceeded maximum number of iterations\n",
        "Exceeded maximum number of iterations"
       ]
      },
      {
       "output_type": "stream",
       "stream": "stdout",
       "text": [
        "\n",
        "Exceeded maximum number of iterations\n",
        "Exceeded maximum number of iterations"
       ]
      },
      {
       "output_type": "stream",
       "stream": "stdout",
       "text": [
        "\n",
        "Exceeded maximum number of iterations\n",
        "Exceeded maximum number of iterations"
       ]
      },
      {
       "output_type": "stream",
       "stream": "stdout",
       "text": [
        "\n",
        "Exceeded maximum number of iterations\n",
        "Exceeded maximum number of iterations"
       ]
      },
      {
       "output_type": "stream",
       "stream": "stdout",
       "text": [
        "\n",
        "Exceeded maximum number of iterations"
       ]
      },
      {
       "output_type": "stream",
       "stream": "stdout",
       "text": [
        "\n",
        "Exceeded maximum number of iterations\n",
        "Exceeded maximum number of iterations"
       ]
      },
      {
       "output_type": "stream",
       "stream": "stdout",
       "text": [
        "\n",
        "Exceeded maximum number of iterations\n",
        "Exceeded maximum number of iterations"
       ]
      },
      {
       "output_type": "stream",
       "stream": "stdout",
       "text": [
        "\n",
        "Exceeded maximum number of iterations\n",
        "Exceeded maximum number of iterations"
       ]
      },
      {
       "output_type": "stream",
       "stream": "stdout",
       "text": [
        "\n",
        "Exceeded maximum number of iterations\n",
        "Exceeded maximum number of iterations"
       ]
      },
      {
       "output_type": "stream",
       "stream": "stdout",
       "text": [
        "\n",
        "Exceeded maximum number of iterations\n",
        "Exceeded maximum number of iterations"
       ]
      },
      {
       "output_type": "stream",
       "stream": "stdout",
       "text": [
        "\n",
        "Exceeded maximum number of iterations\n",
        "Exceeded maximum number of iterations"
       ]
      },
      {
       "output_type": "stream",
       "stream": "stdout",
       "text": [
        "\n",
        "Exceeded maximum number of iterations\n",
        "Exceeded maximum number of iterations"
       ]
      },
      {
       "output_type": "stream",
       "stream": "stdout",
       "text": [
        "\n",
        "Exceeded maximum number of iterations\n",
        "Exceeded maximum number of iterations"
       ]
      },
      {
       "output_type": "stream",
       "stream": "stdout",
       "text": [
        "\n",
        "Exceeded maximum number of iterations\n",
        "Exceeded maximum number of iterations"
       ]
      },
      {
       "output_type": "stream",
       "stream": "stdout",
       "text": [
        "\n",
        "Exceeded maximum number of iterations\n",
        "Exceeded maximum number of iterations"
       ]
      },
      {
       "output_type": "stream",
       "stream": "stdout",
       "text": [
        "\n",
        "Exceeded maximum number of iterations\n",
        "Exceeded maximum number of iterations"
       ]
      },
      {
       "output_type": "stream",
       "stream": "stdout",
       "text": [
        "\n",
        "Exceeded maximum number of iterations\n",
        "Exceeded maximum number of iterations"
       ]
      },
      {
       "output_type": "stream",
       "stream": "stdout",
       "text": [
        "\n",
        "Exceeded maximum number of iterations\n",
        "Exceeded maximum number of iterations"
       ]
      },
      {
       "output_type": "stream",
       "stream": "stdout",
       "text": [
        "\n",
        "Exceeded maximum number of iterations"
       ]
      },
      {
       "output_type": "stream",
       "stream": "stdout",
       "text": [
        "\n",
        "Exceeded maximum number of iterations\n",
        "Exceeded maximum number of iterations"
       ]
      },
      {
       "output_type": "stream",
       "stream": "stdout",
       "text": [
        "\n",
        "Exceeded maximum number of iterations\n",
        "Exceeded maximum number of iterations"
       ]
      },
      {
       "output_type": "stream",
       "stream": "stdout",
       "text": [
        "\n",
        "Exceeded maximum number of iterations\n",
        "Exceeded maximum number of iterations"
       ]
      },
      {
       "output_type": "stream",
       "stream": "stdout",
       "text": [
        "\n",
        "Exceeded maximum number of iterations\n",
        "Exceeded maximum number of iterations"
       ]
      },
      {
       "output_type": "stream",
       "stream": "stdout",
       "text": [
        "\n",
        "Exceeded maximum number of iterations\n",
        "Exceeded maximum number of iterations"
       ]
      },
      {
       "output_type": "stream",
       "stream": "stdout",
       "text": [
        "\n",
        "Exceeded maximum number of iterations\n",
        "Exceeded maximum number of iterations"
       ]
      },
      {
       "output_type": "stream",
       "stream": "stdout",
       "text": [
        "\n",
        "Exceeded maximum number of iterations\n",
        "Exceeded maximum number of iterations"
       ]
      },
      {
       "output_type": "stream",
       "stream": "stdout",
       "text": [
        "\n",
        "Exceeded maximum number of iterations\n",
        "Exceeded maximum number of iterations"
       ]
      },
      {
       "output_type": "stream",
       "stream": "stdout",
       "text": [
        "\n",
        "Exceeded maximum number of iterations\n",
        "Exceeded maximum number of iterations"
       ]
      },
      {
       "output_type": "stream",
       "stream": "stdout",
       "text": [
        "\n",
        "Exceeded maximum number of iterations\n",
        "Exceeded maximum number of iterations"
       ]
      },
      {
       "output_type": "stream",
       "stream": "stdout",
       "text": [
        "\n",
        "Exceeded maximum number of iterations\n",
        "Exceeded maximum number of iterations"
       ]
      },
      {
       "output_type": "stream",
       "stream": "stdout",
       "text": [
        "\n",
        "Exceeded maximum number of iterations\n",
        "Exceeded maximum number of iterations"
       ]
      },
      {
       "output_type": "stream",
       "stream": "stdout",
       "text": [
        "\n",
        "Exceeded maximum number of iterations\n",
        "Exceeded maximum number of iterations"
       ]
      },
      {
       "output_type": "stream",
       "stream": "stdout",
       "text": [
        "\n",
        "Exceeded maximum number of iterations\n",
        "Exceeded maximum number of iterations"
       ]
      },
      {
       "output_type": "stream",
       "stream": "stdout",
       "text": [
        "\n",
        "Exceeded maximum number of iterations"
       ]
      },
      {
       "output_type": "stream",
       "stream": "stdout",
       "text": [
        "\n",
        "Exceeded maximum number of iterations"
       ]
      },
      {
       "output_type": "stream",
       "stream": "stdout",
       "text": [
        "\n",
        "Exceeded maximum number of iterations\n",
        "Exceeded maximum number of iterations"
       ]
      },
      {
       "output_type": "stream",
       "stream": "stdout",
       "text": [
        "\n",
        "Exceeded maximum number of iterations\n",
        "Exceeded maximum number of iterations"
       ]
      },
      {
       "output_type": "stream",
       "stream": "stdout",
       "text": [
        "\n",
        "Exceeded maximum number of iterations\n",
        "Exceeded maximum number of iterations"
       ]
      },
      {
       "output_type": "stream",
       "stream": "stdout",
       "text": [
        "\n",
        "Exceeded maximum number of iterations\n",
        "Exceeded maximum number of iterations"
       ]
      },
      {
       "output_type": "stream",
       "stream": "stdout",
       "text": [
        "\n",
        "Getting data for KOI object: "
       ]
      },
      {
       "output_type": "stream",
       "stream": "stdout",
       "text": [
        "738.01\n",
        "Initializing koi...\n",
        "Getting lightcurves..."
       ]
      },
      {
       "output_type": "stream",
       "stream": "stdout",
       "text": [
        "\n",
        "0"
       ]
      },
      {
       "output_type": "stream",
       "stream": "stderr",
       "text": [
        "/usr/lib/python3.3/site-packages/matplotlib/lines.py:504: RuntimeWarning: invalid value encountered in greater_equal\n",
        "  return np.alltrue(x[1:] - x[0:-1] >= 0)\n",
        "WARNING:root:Unrecognized parameter: '2MASS conflict flag'\n",
        "WARNING:root:Unrecognized parameter: '2MASS conflict flag'\n",
        "WARNING:root:Unrecognized parameter: '2MASS conflict flag'\n",
        "WARNING:root:Unrecognized parameter: '2MASS conflict flag'\n",
        "WARNING:root:Unrecognized parameter: '2MASS conflict flag'\n",
        "WARNING:root:Unrecognized parameter: '2MASS conflict flag'\n",
        "WARNING:root:Unrecognized parameter: '2MASS conflict flag'\n",
        "WARNING:root:Unrecognized parameter: '2MASS conflict flag'\n",
        "WARNING:root:Unrecognized parameter: '2MASS conflict flag'\n",
        "WARNING:root:Unrecognized parameter: '2MASS conflict flag'\n",
        "WARNING:root:Unrecognized parameter: '2MASS conflict flag'\n",
        "WARNING:root:Unrecognized parameter: '2MASS conflict flag'\n",
        "WARNING:root:Unrecognized parameter: '2MASS conflict flag'\n",
        "WARNING:root:Unrecognized parameter: '2MASS conflict flag'\n"
       ]
      },
      {
       "output_type": "stream",
       "stream": "stdout",
       "text": [
        "\n",
        "1\n",
        "2\n",
        "3"
       ]
      },
      {
       "output_type": "stream",
       "stream": "stdout",
       "text": [
        "\n",
        "4\n",
        "5\n",
        "6\n",
        "7"
       ]
      },
      {
       "output_type": "stream",
       "stream": "stdout",
       "text": [
        "\n",
        "8\n",
        "9\n",
        "10\n",
        "11"
       ]
      },
      {
       "output_type": "stream",
       "stream": "stdout",
       "text": [
        "\n",
        "12\n",
        "13\n",
        "Done\n",
        "49749\n",
        "49749\n",
        "49749\n",
        "Exceeded maximum number of iterations"
       ]
      },
      {
       "output_type": "stream",
       "stream": "stdout",
       "text": [
        "\n",
        "Exceeded maximum number of iterations\n",
        "Exceeded maximum number of iterations"
       ]
      },
      {
       "output_type": "stream",
       "stream": "stdout",
       "text": [
        "\n",
        "Exceeded maximum number of iterations"
       ]
      },
      {
       "output_type": "stream",
       "stream": "stdout",
       "text": [
        "\n",
        "Exceeded maximum number of iterations\n",
        "Exceeded maximum number of iterations"
       ]
      },
      {
       "output_type": "stream",
       "stream": "stdout",
       "text": [
        "\n",
        "Exceeded maximum number of iterations\n",
        "Exceeded maximum number of iterations"
       ]
      },
      {
       "output_type": "stream",
       "stream": "stdout",
       "text": [
        "\n",
        "Exceeded maximum number of iterations\n",
        "Exceeded maximum number of iterations"
       ]
      },
      {
       "output_type": "stream",
       "stream": "stdout",
       "text": [
        "\n",
        "Exceeded maximum number of iterations\n",
        "Exceeded maximum number of iterations"
       ]
      },
      {
       "output_type": "stream",
       "stream": "stdout",
       "text": [
        "\n",
        "Exceeded maximum number of iterations\n",
        "Exceeded maximum number of iterations"
       ]
      },
      {
       "output_type": "stream",
       "stream": "stdout",
       "text": [
        "\n",
        "Exceeded maximum number of iterations\n",
        "Exceeded maximum number of iterations"
       ]
      },
      {
       "output_type": "stream",
       "stream": "stdout",
       "text": [
        "\n",
        "Exceeded maximum number of iterations\n",
        "Exceeded maximum number of iterations"
       ]
      },
      {
       "output_type": "stream",
       "stream": "stdout",
       "text": [
        "\n",
        "Exceeded maximum number of iterations\n",
        "Exceeded maximum number of iterations"
       ]
      },
      {
       "output_type": "stream",
       "stream": "stdout",
       "text": [
        "\n",
        "Exceeded maximum number of iterations\n",
        "Exceeded maximum number of iterations"
       ]
      },
      {
       "output_type": "stream",
       "stream": "stdout",
       "text": [
        "\n",
        "Exceeded maximum number of iterations\n",
        "Exceeded maximum number of iterations\n",
        "Exceeded maximum number of iterations"
       ]
      },
      {
       "output_type": "stream",
       "stream": "stdout",
       "text": [
        "\n",
        "Exceeded maximum number of iterations\n",
        "Exceeded maximum number of iterations"
       ]
      },
      {
       "output_type": "stream",
       "stream": "stdout",
       "text": [
        "\n",
        "Exceeded maximum number of iterations\n",
        "Exceeded maximum number of iterations"
       ]
      },
      {
       "output_type": "stream",
       "stream": "stdout",
       "text": [
        "\n",
        "Exceeded maximum number of iterations"
       ]
      },
      {
       "output_type": "stream",
       "stream": "stdout",
       "text": [
        "\n",
        "Exceeded maximum number of iterations\n",
        "Exceeded maximum number of iterations"
       ]
      },
      {
       "output_type": "stream",
       "stream": "stdout",
       "text": [
        "\n",
        "Exceeded maximum number of iterations\n",
        "Exceeded maximum number of iterations"
       ]
      },
      {
       "output_type": "stream",
       "stream": "stdout",
       "text": [
        "\n",
        "Exceeded maximum number of iterations\n",
        "Exceeded maximum number of iterations"
       ]
      },
      {
       "output_type": "stream",
       "stream": "stdout",
       "text": [
        "\n",
        "Exceeded maximum number of iterations\n",
        "Exceeded maximum number of iterations"
       ]
      },
      {
       "output_type": "stream",
       "stream": "stdout",
       "text": [
        "\n",
        "Exceeded maximum number of iterations\n",
        "Exceeded maximum number of iterations"
       ]
      },
      {
       "output_type": "stream",
       "stream": "stdout",
       "text": [
        "\n",
        "Exceeded maximum number of iterations\n",
        "Exceeded maximum number of iterations"
       ]
      },
      {
       "output_type": "stream",
       "stream": "stdout",
       "text": [
        "\n",
        "Exceeded maximum number of iterations\n",
        "Exceeded maximum number of iterations"
       ]
      },
      {
       "output_type": "stream",
       "stream": "stdout",
       "text": [
        "\n",
        "Exceeded maximum number of iterations\n",
        "Exceeded maximum number of iterations"
       ]
      },
      {
       "output_type": "stream",
       "stream": "stdout",
       "text": [
        "\n",
        "Exceeded maximum number of iterations\n",
        "Exceeded maximum number of iterations"
       ]
      },
      {
       "output_type": "stream",
       "stream": "stdout",
       "text": [
        "\n",
        "Exceeded maximum number of iterations\n",
        "Exceeded maximum number of iterations\n",
        "Exceeded maximum number of iterations"
       ]
      },
      {
       "output_type": "stream",
       "stream": "stdout",
       "text": [
        "\n",
        "Exceeded maximum number of iterations\n",
        "Exceeded maximum number of iterations"
       ]
      },
      {
       "output_type": "stream",
       "stream": "stdout",
       "text": [
        "\n",
        "Exceeded maximum number of iterations\n",
        "Exceeded maximum number of iterations"
       ]
      },
      {
       "output_type": "stream",
       "stream": "stdout",
       "text": [
        "\n",
        "Exceeded maximum number of iterations\n",
        "Exceeded maximum number of iterations"
       ]
      },
      {
       "output_type": "stream",
       "stream": "stdout",
       "text": [
        "\n",
        "Exceeded maximum number of iterations\n",
        "Exceeded maximum number of iterations"
       ]
      },
      {
       "output_type": "stream",
       "stream": "stdout",
       "text": [
        "\n",
        "Exceeded maximum number of iterations\n",
        "Exceeded maximum number of iterations"
       ]
      },
      {
       "output_type": "stream",
       "stream": "stdout",
       "text": [
        "\n",
        "Exceeded maximum number of iterations\n",
        "Exceeded maximum number of iterations"
       ]
      },
      {
       "output_type": "stream",
       "stream": "stdout",
       "text": [
        "\n",
        "Exceeded maximum number of iterations\n",
        "Exceeded maximum number of iterations"
       ]
      },
      {
       "output_type": "stream",
       "stream": "stdout",
       "text": [
        "\n",
        "Exceeded maximum number of iterations\n",
        "Exceeded maximum number of iterations"
       ]
      },
      {
       "output_type": "stream",
       "stream": "stdout",
       "text": [
        "\n",
        "Exceeded maximum number of iterations\n",
        "Exceeded maximum number of iterations"
       ]
      },
      {
       "output_type": "stream",
       "stream": "stdout",
       "text": [
        "\n",
        "Exceeded maximum number of iterations\n",
        "Exceeded maximum number of iterations"
       ]
      },
      {
       "output_type": "stream",
       "stream": "stdout",
       "text": [
        "\n",
        "Exceeded maximum number of iterations\n",
        "Exceeded maximum number of iterations"
       ]
      },
      {
       "output_type": "stream",
       "stream": "stdout",
       "text": [
        "\n",
        "Exceeded maximum number of iterations\n",
        "Exceeded maximum number of iterations\n",
        "Exceeded maximum number of iterations"
       ]
      },
      {
       "output_type": "stream",
       "stream": "stdout",
       "text": [
        "\n",
        "Exceeded maximum number of iterations\n",
        "Exceeded maximum number of iterations"
       ]
      },
      {
       "output_type": "stream",
       "stream": "stdout",
       "text": [
        "\n",
        "Exceeded maximum number of iterations\n",
        "Exceeded maximum number of iterations"
       ]
      },
      {
       "output_type": "stream",
       "stream": "stdout",
       "text": [
        "\n",
        "Exceeded maximum number of iterations\n",
        "Exceeded maximum number of iterations"
       ]
      },
      {
       "output_type": "stream",
       "stream": "stdout",
       "text": [
        "\n",
        "Exceeded maximum number of iterations\n",
        "Exceeded maximum number of iterations"
       ]
      },
      {
       "output_type": "stream",
       "stream": "stdout",
       "text": [
        "\n",
        "Exceeded maximum number of iterations\n",
        "Exceeded maximum number of iterations"
       ]
      },
      {
       "output_type": "stream",
       "stream": "stdout",
       "text": [
        "\n",
        "Exceeded maximum number of iterations\n",
        "Exceeded maximum number of iterations"
       ]
      },
      {
       "output_type": "stream",
       "stream": "stdout",
       "text": [
        "\n",
        "Exceeded maximum number of iterations\n",
        "Exceeded maximum number of iterations"
       ]
      },
      {
       "output_type": "stream",
       "stream": "stdout",
       "text": [
        "\n",
        "Exceeded maximum number of iterations\n",
        "Exceeded maximum number of iterations"
       ]
      },
      {
       "output_type": "stream",
       "stream": "stdout",
       "text": [
        "\n",
        "Exceeded maximum number of iterations\n",
        "Exceeded maximum number of iterations"
       ]
      },
      {
       "output_type": "stream",
       "stream": "stdout",
       "text": [
        "\n",
        "Exceeded maximum number of iterations\n",
        "Exceeded maximum number of iterations"
       ]
      },
      {
       "output_type": "stream",
       "stream": "stdout",
       "text": [
        "\n",
        "Exceeded maximum number of iterations\n",
        "Exceeded maximum number of iterations"
       ]
      },
      {
       "output_type": "stream",
       "stream": "stdout",
       "text": [
        "\n",
        "Exceeded maximum number of iterations\n",
        "Exceeded maximum number of iterations\n",
        "Exceeded maximum number of iterations"
       ]
      },
      {
       "output_type": "stream",
       "stream": "stdout",
       "text": [
        "\n",
        "Exceeded maximum number of iterations\n",
        "Exceeded maximum number of iterations"
       ]
      },
      {
       "output_type": "stream",
       "stream": "stdout",
       "text": [
        "\n",
        "Exceeded maximum number of iterations\n",
        "Exceeded maximum number of iterations"
       ]
      },
      {
       "output_type": "stream",
       "stream": "stdout",
       "text": [
        "\n",
        "Exceeded maximum number of iterations\n",
        "Exceeded maximum number of iterations"
       ]
      },
      {
       "output_type": "stream",
       "stream": "stdout",
       "text": [
        "\n",
        "Exceeded maximum number of iterations\n",
        "Exceeded maximum number of iterations"
       ]
      },
      {
       "output_type": "stream",
       "stream": "stdout",
       "text": [
        "\n",
        "Exceeded maximum number of iterations\n",
        "Exceeded maximum number of iterations"
       ]
      },
      {
       "output_type": "stream",
       "stream": "stdout",
       "text": [
        "\n",
        "Exceeded maximum number of iterations\n",
        "Exceeded maximum number of iterations"
       ]
      },
      {
       "output_type": "stream",
       "stream": "stdout",
       "text": [
        "\n",
        "Exceeded maximum number of iterations\n",
        "Exceeded maximum number of iterations"
       ]
      },
      {
       "output_type": "stream",
       "stream": "stdout",
       "text": [
        "\n",
        "Exceeded maximum number of iterations\n",
        "Exceeded maximum number of iterations"
       ]
      },
      {
       "output_type": "stream",
       "stream": "stdout",
       "text": [
        "\n",
        "Exceeded maximum number of iterations\n",
        "Exceeded maximum number of iterations"
       ]
      },
      {
       "output_type": "stream",
       "stream": "stdout",
       "text": [
        "\n",
        "Exceeded maximum number of iterations\n",
        "Exceeded maximum number of iterations"
       ]
      },
      {
       "output_type": "stream",
       "stream": "stdout",
       "text": [
        "\n",
        "Exceeded maximum number of iterations\n",
        "Exceeded maximum number of iterations"
       ]
      },
      {
       "output_type": "stream",
       "stream": "stdout",
       "text": [
        "\n",
        "Exceeded maximum number of iterations\n",
        "Exceeded maximum number of iterations\n",
        "Exceeded maximum number of iterations"
       ]
      },
      {
       "output_type": "stream",
       "stream": "stdout",
       "text": [
        "\n",
        "Exceeded maximum number of iterations\n",
        "Exceeded maximum number of iterations"
       ]
      },
      {
       "output_type": "stream",
       "stream": "stdout",
       "text": [
        "\n",
        "Exceeded maximum number of iterations\n",
        "Exceeded maximum number of iterations"
       ]
      },
      {
       "output_type": "stream",
       "stream": "stdout",
       "text": [
        "\n",
        "Exceeded maximum number of iterations\n",
        "Exceeded maximum number of iterations"
       ]
      },
      {
       "output_type": "stream",
       "stream": "stdout",
       "text": [
        "\n",
        "Exceeded maximum number of iterations\n",
        "Exceeded maximum number of iterations"
       ]
      },
      {
       "output_type": "stream",
       "stream": "stdout",
       "text": [
        "\n",
        "Exceeded maximum number of iterations\n",
        "Exceeded maximum number of iterations"
       ]
      },
      {
       "output_type": "stream",
       "stream": "stdout",
       "text": [
        "\n",
        "Exceeded maximum number of iterations\n",
        "Exceeded maximum number of iterations"
       ]
      },
      {
       "output_type": "stream",
       "stream": "stdout",
       "text": [
        "\n",
        "Exceeded maximum number of iterations\n",
        "Exceeded maximum number of iterations"
       ]
      },
      {
       "output_type": "stream",
       "stream": "stdout",
       "text": [
        "\n",
        "Exceeded maximum number of iterations\n",
        "Exceeded maximum number of iterations"
       ]
      },
      {
       "output_type": "stream",
       "stream": "stdout",
       "text": [
        "\n",
        "Exceeded maximum number of iterations\n",
        "Exceeded maximum number of iterations"
       ]
      },
      {
       "output_type": "stream",
       "stream": "stdout",
       "text": [
        "\n",
        "Exceeded maximum number of iterations\n",
        "Exceeded maximum number of iterations"
       ]
      },
      {
       "output_type": "stream",
       "stream": "stdout",
       "text": [
        "\n",
        "Exceeded maximum number of iterations\n",
        "Exceeded maximum number of iterations"
       ]
      },
      {
       "output_type": "stream",
       "stream": "stdout",
       "text": [
        "\n",
        "Exceeded maximum number of iterations\n",
        "Exceeded maximum number of iterations\n",
        "Exceeded maximum number of iterations"
       ]
      },
      {
       "output_type": "stream",
       "stream": "stdout",
       "text": [
        "\n",
        "Exceeded maximum number of iterations\n",
        "Exceeded maximum number of iterations"
       ]
      },
      {
       "output_type": "stream",
       "stream": "stdout",
       "text": [
        "\n",
        "Exceeded maximum number of iterations\n",
        "Exceeded maximum number of iterations"
       ]
      },
      {
       "output_type": "stream",
       "stream": "stdout",
       "text": [
        "\n",
        "Exceeded maximum number of iterations\n",
        "Exceeded maximum number of iterations"
       ]
      },
      {
       "output_type": "stream",
       "stream": "stdout",
       "text": [
        "\n",
        "Exceeded maximum number of iterations\n",
        "Exceeded maximum number of iterations"
       ]
      },
      {
       "output_type": "stream",
       "stream": "stdout",
       "text": [
        "\n",
        "Exceeded maximum number of iterations\n",
        "Exceeded maximum number of iterations"
       ]
      },
      {
       "output_type": "stream",
       "stream": "stdout",
       "text": [
        "\n",
        "Exceeded maximum number of iterations\n",
        "Exceeded maximum number of iterations"
       ]
      },
      {
       "output_type": "stream",
       "stream": "stdout",
       "text": [
        "\n",
        "Exceeded maximum number of iterations\n",
        "Exceeded maximum number of iterations"
       ]
      },
      {
       "output_type": "stream",
       "stream": "stdout",
       "text": [
        "\n",
        "Exceeded maximum number of iterations\n",
        "Exceeded maximum number of iterations"
       ]
      },
      {
       "output_type": "stream",
       "stream": "stdout",
       "text": [
        "\n",
        "Exceeded maximum number of iterations\n",
        "Exceeded maximum number of iterations"
       ]
      },
      {
       "output_type": "stream",
       "stream": "stdout",
       "text": [
        "\n",
        "Exceeded maximum number of iterations\n",
        "Exceeded maximum number of iterations"
       ]
      },
      {
       "output_type": "stream",
       "stream": "stdout",
       "text": [
        "\n",
        "Exceeded maximum number of iterations\n",
        "Exceeded maximum number of iterations"
       ]
      },
      {
       "output_type": "stream",
       "stream": "stdout",
       "text": [
        "\n",
        "Exceeded maximum number of iterations\n",
        "Exceeded maximum number of iterations"
       ]
      },
      {
       "output_type": "stream",
       "stream": "stdout",
       "text": [
        "\n",
        "Exceeded maximum number of iterations\n",
        "Exceeded maximum number of iterations"
       ]
      },
      {
       "output_type": "stream",
       "stream": "stdout",
       "text": [
        "\n",
        "Exceeded maximum number of iterations\n",
        "Exceeded maximum number of iterations\n",
        "Exceeded maximum number of iterations"
       ]
      },
      {
       "output_type": "stream",
       "stream": "stdout",
       "text": [
        "\n",
        "Exceeded maximum number of iterations\n",
        "Exceeded maximum number of iterations"
       ]
      },
      {
       "output_type": "stream",
       "stream": "stdout",
       "text": [
        "\n",
        "Exceeded maximum number of iterations\n",
        "Exceeded maximum number of iterations"
       ]
      },
      {
       "output_type": "stream",
       "stream": "stdout",
       "text": [
        "\n",
        "Exceeded maximum number of iterations\n",
        "Exceeded maximum number of iterations"
       ]
      },
      {
       "output_type": "stream",
       "stream": "stdout",
       "text": [
        "\n",
        "Exceeded maximum number of iterations\n",
        "Exceeded maximum number of iterations"
       ]
      },
      {
       "output_type": "stream",
       "stream": "stdout",
       "text": [
        "\n",
        "Exceeded maximum number of iterations\n",
        "Exceeded maximum number of iterations"
       ]
      },
      {
       "output_type": "stream",
       "stream": "stdout",
       "text": [
        "\n",
        "Exceeded maximum number of iterations\n",
        "Exceeded maximum number of iterations"
       ]
      },
      {
       "output_type": "stream",
       "stream": "stdout",
       "text": [
        "\n",
        "Exceeded maximum number of iterations\n",
        "Exceeded maximum number of iterations"
       ]
      },
      {
       "output_type": "stream",
       "stream": "stdout",
       "text": [
        "\n",
        "Exceeded maximum number of iterations\n",
        "Exceeded maximum number of iterations"
       ]
      },
      {
       "output_type": "stream",
       "stream": "stdout",
       "text": [
        "\n",
        "Exceeded maximum number of iterations\n",
        "Exceeded maximum number of iterations"
       ]
      },
      {
       "output_type": "stream",
       "stream": "stdout",
       "text": [
        "\n",
        "Exceeded maximum number of iterations\n",
        "Exceeded maximum number of iterations"
       ]
      },
      {
       "output_type": "stream",
       "stream": "stdout",
       "text": [
        "\n",
        "Exceeded maximum number of iterations\n",
        "Exceeded maximum number of iterations"
       ]
      },
      {
       "output_type": "stream",
       "stream": "stdout",
       "text": [
        "\n",
        "Exceeded maximum number of iterations\n",
        "Exceeded maximum number of iterations\n",
        "Exceeded maximum number of iterations"
       ]
      },
      {
       "output_type": "stream",
       "stream": "stdout",
       "text": [
        "\n",
        "Exceeded maximum number of iterations\n",
        "Exceeded maximum number of iterations"
       ]
      },
      {
       "output_type": "stream",
       "stream": "stdout",
       "text": [
        "\n",
        "Exceeded maximum number of iterations\n",
        "Exceeded maximum number of iterations"
       ]
      },
      {
       "output_type": "stream",
       "stream": "stdout",
       "text": [
        "\n",
        "Exceeded maximum number of iterations\n",
        "Exceeded maximum number of iterations"
       ]
      },
      {
       "output_type": "stream",
       "stream": "stdout",
       "text": [
        "\n",
        "Exceeded maximum number of iterations\n",
        "Exceeded maximum number of iterations"
       ]
      },
      {
       "output_type": "stream",
       "stream": "stdout",
       "text": [
        "\n",
        "Exceeded maximum number of iterations\n",
        "Exceeded maximum number of iterations"
       ]
      },
      {
       "output_type": "stream",
       "stream": "stdout",
       "text": [
        "\n",
        "Exceeded maximum number of iterations\n",
        "Exceeded maximum number of iterations"
       ]
      },
      {
       "output_type": "stream",
       "stream": "stdout",
       "text": [
        "\n",
        "Exceeded maximum number of iterations\n",
        "Exceeded maximum number of iterations"
       ]
      },
      {
       "output_type": "stream",
       "stream": "stdout",
       "text": [
        "\n",
        "Exceeded maximum number of iterations"
       ]
      },
      {
       "output_type": "stream",
       "stream": "stdout",
       "text": [
        "\n",
        "Getting data for KOI object: "
       ]
      },
      {
       "output_type": "stream",
       "stream": "stdout",
       "text": [
        "806.01\n",
        "Initializing koi...\n",
        "Getting lightcurves..."
       ]
      },
      {
       "output_type": "stream",
       "stream": "stdout",
       "text": [
        "\n",
        "0"
       ]
      },
      {
       "output_type": "stream",
       "stream": "stderr",
       "text": [
        "WARNING:root:Unrecognized parameter: '2MASS conflict flag'\n",
        "WARNING:root:Unrecognized parameter: '2MASS conflict flag'\n",
        "WARNING:root:Unrecognized parameter: '2MASS conflict flag'\n",
        "WARNING:root:Unrecognized parameter: '2MASS conflict flag'\n",
        "WARNING:root:Unrecognized parameter: '2MASS conflict flag'\n",
        "WARNING:root:Unrecognized parameter: '2MASS conflict flag'\n",
        "WARNING:root:Unrecognized parameter: '2MASS conflict flag'\n",
        "WARNING:root:Unrecognized parameter: '2MASS conflict flag'\n",
        "WARNING:root:Unrecognized parameter: '2MASS conflict flag'\n",
        "WARNING:root:Unrecognized parameter: '2MASS conflict flag'\n",
        "WARNING:root:Unrecognized parameter: '2MASS conflict flag'\n",
        "WARNING:root:Unrecognized parameter: '2MASS conflict flag'\n",
        "WARNING:root:Unrecognized parameter: '2MASS conflict flag'\n",
        "WARNING:root:Unrecognized parameter: '2MASS conflict flag'\n",
        "WARNING:root:Unrecognized parameter: '2MASS conflict flag'\n",
        "WARNING:root:Unrecognized parameter: '2MASS conflict flag'\n",
        "WARNING:root:Unrecognized parameter: '2MASS conflict flag'\n"
       ]
      },
      {
       "output_type": "stream",
       "stream": "stdout",
       "text": [
        "\n",
        "1\n",
        "2"
       ]
      },
      {
       "output_type": "stream",
       "stream": "stdout",
       "text": [
        "\n",
        "3"
       ]
      },
      {
       "output_type": "stream",
       "stream": "stdout",
       "text": [
        "\n",
        "4"
       ]
      },
      {
       "output_type": "stream",
       "stream": "stdout",
       "text": [
        "\n",
        "5"
       ]
      },
      {
       "output_type": "stream",
       "stream": "stdout",
       "text": [
        "\n",
        "6"
       ]
      },
      {
       "output_type": "stream",
       "stream": "stdout",
       "text": [
        "\n",
        "7"
       ]
      },
      {
       "output_type": "stream",
       "stream": "stdout",
       "text": [
        "\n",
        "8"
       ]
      },
      {
       "output_type": "stream",
       "stream": "stdout",
       "text": [
        "\n",
        "9"
       ]
      },
      {
       "output_type": "stream",
       "stream": "stdout",
       "text": [
        "\n",
        "10"
       ]
      },
      {
       "output_type": "stream",
       "stream": "stdout",
       "text": [
        "\n",
        "11"
       ]
      },
      {
       "output_type": "stream",
       "stream": "stdout",
       "text": [
        "\n",
        "12"
       ]
      },
      {
       "output_type": "stream",
       "stream": "stdout",
       "text": [
        "\n",
        "13"
       ]
      },
      {
       "output_type": "stream",
       "stream": "stdout",
       "text": [
        "\n",
        "14"
       ]
      },
      {
       "output_type": "stream",
       "stream": "stdout",
       "text": [
        "\n",
        "15"
       ]
      },
      {
       "output_type": "stream",
       "stream": "stdout",
       "text": [
        "\n",
        "16"
       ]
      },
      {
       "output_type": "stream",
       "stream": "stdout",
       "text": [
        "\n",
        "Done"
       ]
      },
      {
       "output_type": "stream",
       "stream": "stdout",
       "text": [
        "\n",
        "61716\n",
        "61716\n",
        "61716\n",
        "Exceeded maximum number of iterations"
       ]
      },
      {
       "output_type": "stream",
       "stream": "stdout",
       "text": [
        "\n",
        "Exceeded maximum number of iterations\n",
        "Exceeded maximum number of iterations"
       ]
      },
      {
       "output_type": "stream",
       "stream": "stdout",
       "text": [
        "\n",
        "Exceeded maximum number of iterations\n",
        "Exceeded maximum number of iterations"
       ]
      },
      {
       "output_type": "stream",
       "stream": "stdout",
       "text": [
        "\n",
        "Exceeded maximum number of iterations\n",
        "Exceeded maximum number of iterations"
       ]
      },
      {
       "output_type": "stream",
       "stream": "stdout",
       "text": [
        "\n",
        "Exceeded maximum number of iterations\n",
        "Exceeded maximum number of iterations"
       ]
      },
      {
       "output_type": "stream",
       "stream": "stdout",
       "text": [
        "\n",
        "Exceeded maximum number of iterations\n",
        "Exceeded maximum number of iterations"
       ]
      },
      {
       "output_type": "stream",
       "stream": "stdout",
       "text": [
        "\n",
        "Exceeded maximum number of iterations\n",
        "Exceeded maximum number of iterations"
       ]
      },
      {
       "output_type": "stream",
       "stream": "stdout",
       "text": [
        "\n",
        "Exceeded maximum number of iterations\n",
        "Exceeded maximum number of iterations"
       ]
      },
      {
       "output_type": "stream",
       "stream": "stdout",
       "text": [
        "\n",
        "Exceeded maximum number of iterations\n",
        "Exceeded maximum number of iterations"
       ]
      },
      {
       "output_type": "stream",
       "stream": "stdout",
       "text": [
        "\n",
        "Exceeded maximum number of iterations\n",
        "Exceeded maximum number of iterations"
       ]
      },
      {
       "output_type": "stream",
       "stream": "stdout",
       "text": [
        "\n",
        "Exceeded maximum number of iterations\n",
        "Exceeded maximum number of iterations"
       ]
      },
      {
       "output_type": "stream",
       "stream": "stdout",
       "text": [
        "\n",
        "Exceeded maximum number of iterations\n",
        "Exceeded maximum number of iterations"
       ]
      },
      {
       "output_type": "stream",
       "stream": "stdout",
       "text": [
        "\n",
        "Exceeded maximum number of iterations\n",
        "Exceeded maximum number of iterations"
       ]
      },
      {
       "output_type": "stream",
       "stream": "stdout",
       "text": [
        "\n",
        "Exceeded maximum number of iterations\n",
        "Exceeded maximum number of iterations"
       ]
      },
      {
       "output_type": "stream",
       "stream": "stdout",
       "text": [
        "\n",
        "Exceeded maximum number of iterations\n",
        "Exceeded maximum number of iterations"
       ]
      },
      {
       "output_type": "stream",
       "stream": "stdout",
       "text": [
        "\n",
        "Exceeded maximum number of iterations\n",
        "Exceeded maximum number of iterations"
       ]
      },
      {
       "output_type": "stream",
       "stream": "stdout",
       "text": [
        "\n",
        "Exceeded maximum number of iterations\n",
        "Exceeded maximum number of iterations"
       ]
      },
      {
       "output_type": "stream",
       "stream": "stdout",
       "text": [
        "\n",
        "Exceeded maximum number of iterations\n",
        "Exceeded maximum number of iterations"
       ]
      },
      {
       "output_type": "stream",
       "stream": "stdout",
       "text": [
        "\n",
        "Exceeded maximum number of iterations\n",
        "Exceeded maximum number of iterations"
       ]
      },
      {
       "output_type": "stream",
       "stream": "stdout",
       "text": [
        "\n",
        "Exceeded maximum number of iterations"
       ]
      },
      {
       "output_type": "stream",
       "stream": "stdout",
       "text": [
        "\n",
        "Exceeded maximum number of iterations\n",
        "Exceeded maximum number of iterations"
       ]
      },
      {
       "output_type": "stream",
       "stream": "stdout",
       "text": [
        "\n",
        "Exceeded maximum number of iterations"
       ]
      },
      {
       "output_type": "stream",
       "stream": "stdout",
       "text": [
        "\n",
        "Exceeded maximum number of iterations"
       ]
      },
      {
       "output_type": "stream",
       "stream": "stdout",
       "text": [
        "\n",
        "Exceeded maximum number of iterations\n",
        "Exceeded maximum number of iterations"
       ]
      },
      {
       "output_type": "stream",
       "stream": "stdout",
       "text": [
        "\n",
        "Exceeded maximum number of iterations\n",
        "Exceeded maximum number of iterations"
       ]
      },
      {
       "output_type": "stream",
       "stream": "stdout",
       "text": [
        "\n",
        "Exceeded maximum number of iterations"
       ]
      },
      {
       "output_type": "stream",
       "stream": "stdout",
       "text": [
        "\n",
        "Exceeded maximum number of iterations\n",
        "Exceeded maximum number of iterations"
       ]
      },
      {
       "output_type": "stream",
       "stream": "stdout",
       "text": [
        "\n",
        "Exceeded maximum number of iterations\n",
        "Exceeded maximum number of iterations"
       ]
      },
      {
       "output_type": "stream",
       "stream": "stdout",
       "text": [
        "\n",
        "Exceeded maximum number of iterations\n",
        "Exceeded maximum number of iterations"
       ]
      },
      {
       "output_type": "stream",
       "stream": "stdout",
       "text": [
        "\n",
        "Exceeded maximum number of iterations"
       ]
      },
      {
       "output_type": "stream",
       "stream": "stdout",
       "text": [
        "\n",
        "Exceeded maximum number of iterations\n",
        "Exceeded maximum number of iterations"
       ]
      },
      {
       "output_type": "stream",
       "stream": "stdout",
       "text": [
        "\n",
        "Exceeded maximum number of iterations\n",
        "Exceeded maximum number of iterations"
       ]
      },
      {
       "output_type": "stream",
       "stream": "stdout",
       "text": [
        "\n",
        "Exceeded maximum number of iterations\n",
        "Exceeded maximum number of iterations"
       ]
      },
      {
       "output_type": "stream",
       "stream": "stdout",
       "text": [
        "\n",
        "Exceeded maximum number of iterations\n",
        "Exceeded maximum number of iterations"
       ]
      },
      {
       "output_type": "stream",
       "stream": "stdout",
       "text": [
        "\n",
        "Exceeded maximum number of iterations\n",
        "Exceeded maximum number of iterations"
       ]
      },
      {
       "output_type": "stream",
       "stream": "stdout",
       "text": [
        "\n",
        "Exceeded maximum number of iterations\n",
        "Exceeded maximum number of iterations"
       ]
      },
      {
       "output_type": "stream",
       "stream": "stdout",
       "text": [
        "\n",
        "Exceeded maximum number of iterations\n",
        "Exceeded maximum number of iterations"
       ]
      },
      {
       "output_type": "stream",
       "stream": "stdout",
       "text": [
        "\n",
        "Exceeded maximum number of iterations\n",
        "Exceeded maximum number of iterations"
       ]
      },
      {
       "output_type": "stream",
       "stream": "stdout",
       "text": [
        "\n",
        "Exceeded maximum number of iterations\n",
        "Exceeded maximum number of iterations"
       ]
      },
      {
       "output_type": "stream",
       "stream": "stdout",
       "text": [
        "\n",
        "Exceeded maximum number of iterations\n",
        "Exceeded maximum number of iterations"
       ]
      },
      {
       "output_type": "stream",
       "stream": "stdout",
       "text": [
        "\n",
        "Exceeded maximum number of iterations\n",
        "Exceeded maximum number of iterations"
       ]
      },
      {
       "output_type": "stream",
       "stream": "stdout",
       "text": [
        "\n",
        "Exceeded maximum number of iterations\n",
        "Exceeded maximum number of iterations"
       ]
      },
      {
       "output_type": "stream",
       "stream": "stdout",
       "text": [
        "\n",
        "Exceeded maximum number of iterations\n",
        "Exceeded maximum number of iterations"
       ]
      },
      {
       "output_type": "stream",
       "stream": "stdout",
       "text": [
        "\n",
        "Exceeded maximum number of iterations\n",
        "Exceeded maximum number of iterations"
       ]
      },
      {
       "output_type": "stream",
       "stream": "stdout",
       "text": [
        "\n",
        "Exceeded maximum number of iterations\n",
        "Exceeded maximum number of iterations"
       ]
      },
      {
       "output_type": "stream",
       "stream": "stdout",
       "text": [
        "\n",
        "Exceeded maximum number of iterations\n",
        "Exceeded maximum number of iterations"
       ]
      },
      {
       "output_type": "stream",
       "stream": "stdout",
       "text": [
        "\n",
        "Exceeded maximum number of iterations\n",
        "Exceeded maximum number of iterations"
       ]
      },
      {
       "output_type": "stream",
       "stream": "stdout",
       "text": [
        "\n",
        "Exceeded maximum number of iterations\n",
        "Exceeded maximum number of iterations"
       ]
      },
      {
       "output_type": "stream",
       "stream": "stdout",
       "text": [
        "\n",
        "Exceeded maximum number of iterations\n",
        "Exceeded maximum number of iterations"
       ]
      },
      {
       "output_type": "stream",
       "stream": "stdout",
       "text": [
        "\n",
        "Exceeded maximum number of iterations\n",
        "Exceeded maximum number of iterations"
       ]
      },
      {
       "output_type": "stream",
       "stream": "stdout",
       "text": [
        "\n",
        "Exceeded maximum number of iterations\n",
        "Exceeded maximum number of iterations"
       ]
      },
      {
       "output_type": "stream",
       "stream": "stdout",
       "text": [
        "\n",
        "Exceeded maximum number of iterations\n",
        "Exceeded maximum number of iterations"
       ]
      },
      {
       "output_type": "stream",
       "stream": "stdout",
       "text": [
        "\n",
        "Exceeded maximum number of iterations\n",
        "Exceeded maximum number of iterations"
       ]
      },
      {
       "output_type": "stream",
       "stream": "stdout",
       "text": [
        "\n",
        "Exceeded maximum number of iterations\n",
        "Exceeded maximum number of iterations"
       ]
      },
      {
       "output_type": "stream",
       "stream": "stdout",
       "text": [
        "\n",
        "Exceeded maximum number of iterations\n",
        "Exceeded maximum number of iterations"
       ]
      },
      {
       "output_type": "stream",
       "stream": "stdout",
       "text": [
        "\n",
        "Exceeded maximum number of iterations\n",
        "Exceeded maximum number of iterations"
       ]
      },
      {
       "output_type": "stream",
       "stream": "stdout",
       "text": [
        "\n",
        "Exceeded maximum number of iterations\n",
        "Exceeded maximum number of iterations"
       ]
      },
      {
       "output_type": "stream",
       "stream": "stdout",
       "text": [
        "\n",
        "Exceeded maximum number of iterations\n",
        "Exceeded maximum number of iterations"
       ]
      },
      {
       "output_type": "stream",
       "stream": "stdout",
       "text": [
        "\n",
        "Exceeded maximum number of iterations\n",
        "Exceeded maximum number of iterations"
       ]
      },
      {
       "output_type": "stream",
       "stream": "stdout",
       "text": [
        "\n",
        "Exceeded maximum number of iterations\n",
        "Exceeded maximum number of iterations"
       ]
      },
      {
       "output_type": "stream",
       "stream": "stdout",
       "text": [
        "\n",
        "Exceeded maximum number of iterations\n",
        "Exceeded maximum number of iterations"
       ]
      },
      {
       "output_type": "stream",
       "stream": "stdout",
       "text": [
        "\n",
        "Exceeded maximum number of iterations\n",
        "Exceeded maximum number of iterations"
       ]
      },
      {
       "output_type": "stream",
       "stream": "stdout",
       "text": [
        "\n",
        "Exceeded maximum number of iterations\n",
        "Exceeded maximum number of iterations"
       ]
      },
      {
       "output_type": "stream",
       "stream": "stdout",
       "text": [
        "\n",
        "Exceeded maximum number of iterations\n",
        "Exceeded maximum number of iterations"
       ]
      },
      {
       "output_type": "stream",
       "stream": "stdout",
       "text": [
        "\n",
        "Exceeded maximum number of iterations\n",
        "Exceeded maximum number of iterations"
       ]
      },
      {
       "output_type": "stream",
       "stream": "stdout",
       "text": [
        "\n",
        "Exceeded maximum number of iterations"
       ]
      },
      {
       "output_type": "stream",
       "stream": "stdout",
       "text": [
        "\n",
        "Exceeded maximum number of iterations\n",
        "Exceeded maximum number of iterations"
       ]
      },
      {
       "output_type": "stream",
       "stream": "stdout",
       "text": [
        "\n",
        "Exceeded maximum number of iterations\n",
        "Exceeded maximum number of iterations"
       ]
      },
      {
       "output_type": "stream",
       "stream": "stdout",
       "text": [
        "\n",
        "Exceeded maximum number of iterations\n",
        "Exceeded maximum number of iterations"
       ]
      },
      {
       "output_type": "stream",
       "stream": "stdout",
       "text": [
        "\n",
        "Exceeded maximum number of iterations\n",
        "Exceeded maximum number of iterations"
       ]
      },
      {
       "output_type": "stream",
       "stream": "stdout",
       "text": [
        "\n",
        "Exceeded maximum number of iterations\n",
        "Exceeded maximum number of iterations"
       ]
      },
      {
       "output_type": "stream",
       "stream": "stdout",
       "text": [
        "\n",
        "Exceeded maximum number of iterations\n",
        "Exceeded maximum number of iterations"
       ]
      },
      {
       "output_type": "stream",
       "stream": "stdout",
       "text": [
        "\n",
        "Exceeded maximum number of iterations\n",
        "Exceeded maximum number of iterations"
       ]
      },
      {
       "output_type": "stream",
       "stream": "stdout",
       "text": [
        "\n",
        "Exceeded maximum number of iterations\n",
        "Exceeded maximum number of iterations"
       ]
      },
      {
       "output_type": "stream",
       "stream": "stdout",
       "text": [
        "\n",
        "Exceeded maximum number of iterations\n",
        "Exceeded maximum number of iterations"
       ]
      },
      {
       "output_type": "stream",
       "stream": "stdout",
       "text": [
        "\n",
        "Exceeded maximum number of iterations\n",
        "Exceeded maximum number of iterations"
       ]
      },
      {
       "output_type": "stream",
       "stream": "stdout",
       "text": [
        "\n",
        "Exceeded maximum number of iterations\n",
        "Exceeded maximum number of iterations"
       ]
      },
      {
       "output_type": "stream",
       "stream": "stdout",
       "text": [
        "\n",
        "Exceeded maximum number of iterations\n",
        "Exceeded maximum number of iterations"
       ]
      },
      {
       "output_type": "stream",
       "stream": "stdout",
       "text": [
        "\n",
        "Exceeded maximum number of iterations\n",
        "Exceeded maximum number of iterations"
       ]
      },
      {
       "output_type": "stream",
       "stream": "stdout",
       "text": [
        "\n",
        "Exceeded maximum number of iterations\n",
        "Exceeded maximum number of iterations"
       ]
      },
      {
       "output_type": "stream",
       "stream": "stdout",
       "text": [
        "\n",
        "Exceeded maximum number of iterations\n",
        "Exceeded maximum number of iterations"
       ]
      },
      {
       "output_type": "stream",
       "stream": "stdout",
       "text": [
        "\n",
        "Exceeded maximum number of iterations\n",
        "Exceeded maximum number of iterations"
       ]
      },
      {
       "output_type": "stream",
       "stream": "stdout",
       "text": [
        "\n",
        "Exceeded maximum number of iterations\n",
        "Exceeded maximum number of iterations"
       ]
      },
      {
       "output_type": "stream",
       "stream": "stdout",
       "text": [
        "\n",
        "Exceeded maximum number of iterations\n",
        "Exceeded maximum number of iterations"
       ]
      },
      {
       "output_type": "stream",
       "stream": "stdout",
       "text": [
        "\n",
        "Exceeded maximum number of iterations\n",
        "Exceeded maximum number of iterations"
       ]
      },
      {
       "output_type": "stream",
       "stream": "stdout",
       "text": [
        "\n",
        "Exceeded maximum number of iterations\n",
        "Exceeded maximum number of iterations"
       ]
      },
      {
       "output_type": "stream",
       "stream": "stdout",
       "text": [
        "\n",
        "Exceeded maximum number of iterations\n",
        "Exceeded maximum number of iterations"
       ]
      },
      {
       "output_type": "stream",
       "stream": "stdout",
       "text": [
        "\n",
        "Exceeded maximum number of iterations\n",
        "Exceeded maximum number of iterations"
       ]
      },
      {
       "output_type": "stream",
       "stream": "stdout",
       "text": [
        "\n",
        "Exceeded maximum number of iterations\n",
        "Exceeded maximum number of iterations"
       ]
      },
      {
       "output_type": "stream",
       "stream": "stdout",
       "text": [
        "\n",
        "Exceeded maximum number of iterations\n",
        "Exceeded maximum number of iterations"
       ]
      },
      {
       "output_type": "stream",
       "stream": "stdout",
       "text": [
        "\n",
        "Exceeded maximum number of iterations\n",
        "Exceeded maximum number of iterations"
       ]
      },
      {
       "output_type": "stream",
       "stream": "stdout",
       "text": [
        "\n",
        "Exceeded maximum number of iterations\n",
        "Exceeded maximum number of iterations"
       ]
      },
      {
       "output_type": "stream",
       "stream": "stdout",
       "text": [
        "\n",
        "Exceeded maximum number of iterations\n",
        "Exceeded maximum number of iterations"
       ]
      },
      {
       "output_type": "stream",
       "stream": "stdout",
       "text": [
        "\n",
        "Exceeded maximum number of iterations\n",
        "Exceeded maximum number of iterations"
       ]
      },
      {
       "output_type": "stream",
       "stream": "stdout",
       "text": [
        "\n",
        "Exceeded maximum number of iterations\n",
        "Exceeded maximum number of iterations"
       ]
      },
      {
       "output_type": "stream",
       "stream": "stdout",
       "text": [
        "\n",
        "Exceeded maximum number of iterations\n",
        "Exceeded maximum number of iterations"
       ]
      },
      {
       "output_type": "stream",
       "stream": "stdout",
       "text": [
        "\n",
        "Exceeded maximum number of iterations\n",
        "Exceeded maximum number of iterations"
       ]
      },
      {
       "output_type": "stream",
       "stream": "stdout",
       "text": [
        "\n",
        "Exceeded maximum number of iterations\n",
        "Exceeded maximum number of iterations"
       ]
      },
      {
       "output_type": "stream",
       "stream": "stdout",
       "text": [
        "\n",
        "Exceeded maximum number of iterations\n",
        "Exceeded maximum number of iterations"
       ]
      },
      {
       "output_type": "stream",
       "stream": "stdout",
       "text": [
        "\n",
        "Exceeded maximum number of iterations\n",
        "Exceeded maximum number of iterations"
       ]
      },
      {
       "output_type": "stream",
       "stream": "stdout",
       "text": [
        "\n",
        "Exceeded maximum number of iterations\n",
        "Exceeded maximum number of iterations"
       ]
      },
      {
       "output_type": "stream",
       "stream": "stdout",
       "text": [
        "\n",
        "Exceeded maximum number of iterations\n",
        "Exceeded maximum number of iterations"
       ]
      },
      {
       "output_type": "stream",
       "stream": "stdout",
       "text": [
        "\n",
        "Exceeded maximum number of iterations\n",
        "Exceeded maximum number of iterations"
       ]
      },
      {
       "output_type": "stream",
       "stream": "stdout",
       "text": [
        "\n",
        "Exceeded maximum number of iterations\n",
        "Exceeded maximum number of iterations"
       ]
      },
      {
       "output_type": "stream",
       "stream": "stdout",
       "text": [
        "\n",
        "Exceeded maximum number of iterations\n",
        "Exceeded maximum number of iterations"
       ]
      },
      {
       "output_type": "stream",
       "stream": "stdout",
       "text": [
        "\n",
        "Exceeded maximum number of iterations\n",
        "Exceeded maximum number of iterations"
       ]
      },
      {
       "output_type": "stream",
       "stream": "stdout",
       "text": [
        "\n",
        "Exceeded maximum number of iterations\n",
        "Exceeded maximum number of iterations"
       ]
      },
      {
       "output_type": "stream",
       "stream": "stdout",
       "text": [
        "\n",
        "Exceeded maximum number of iterations\n",
        "Exceeded maximum number of iterations"
       ]
      },
      {
       "output_type": "stream",
       "stream": "stdout",
       "text": [
        "\n",
        "Exceeded maximum number of iterations\n",
        "Exceeded maximum number of iterations"
       ]
      },
      {
       "output_type": "stream",
       "stream": "stdout",
       "text": [
        "\n",
        "Exceeded maximum number of iterations\n",
        "Exceeded maximum number of iterations"
       ]
      },
      {
       "output_type": "stream",
       "stream": "stdout",
       "text": [
        "\n",
        "Exceeded maximum number of iterations\n",
        "Exceeded maximum number of iterations"
       ]
      },
      {
       "output_type": "stream",
       "stream": "stdout",
       "text": [
        "\n",
        "Exceeded maximum number of iterations\n",
        "Exceeded maximum number of iterations"
       ]
      },
      {
       "output_type": "stream",
       "stream": "stdout",
       "text": [
        "\n",
        "Exceeded maximum number of iterations\n",
        "Exceeded maximum number of iterations"
       ]
      },
      {
       "output_type": "stream",
       "stream": "stdout",
       "text": [
        "\n",
        "Exceeded maximum number of iterations\n",
        "Exceeded maximum number of iterations"
       ]
      },
      {
       "output_type": "stream",
       "stream": "stdout",
       "text": [
        "\n",
        "Exceeded maximum number of iterations\n",
        "Exceeded maximum number of iterations"
       ]
      },
      {
       "output_type": "stream",
       "stream": "stdout",
       "text": [
        "\n",
        "Exceeded maximum number of iterations\n",
        "Exceeded maximum number of iterations"
       ]
      },
      {
       "output_type": "stream",
       "stream": "stdout",
       "text": [
        "\n",
        "Exceeded maximum number of iterations"
       ]
      },
      {
       "output_type": "stream",
       "stream": "stdout",
       "text": [
        "\n",
        "Exceeded maximum number of iterations"
       ]
      },
      {
       "output_type": "stream",
       "stream": "stdout",
       "text": [
        "\n",
        "Exceeded maximum number of iterations\n",
        "Exceeded maximum number of iterations"
       ]
      },
      {
       "output_type": "stream",
       "stream": "stdout",
       "text": [
        "\n",
        "Exceeded maximum number of iterations\n",
        "Exceeded maximum number of iterations"
       ]
      },
      {
       "output_type": "stream",
       "stream": "stdout",
       "text": [
        "\n",
        "Exceeded maximum number of iterations\n",
        "Exceeded maximum number of iterations"
       ]
      },
      {
       "output_type": "stream",
       "stream": "stdout",
       "text": [
        "\n",
        "Exceeded maximum number of iterations\n",
        "Exceeded maximum number of iterations"
       ]
      },
      {
       "output_type": "stream",
       "stream": "stdout",
       "text": [
        "\n",
        "Exceeded maximum number of iterations\n",
        "Exceeded maximum number of iterations"
       ]
      },
      {
       "output_type": "stream",
       "stream": "stdout",
       "text": [
        "\n",
        "Exceeded maximum number of iterations\n",
        "Exceeded maximum number of iterations"
       ]
      },
      {
       "output_type": "stream",
       "stream": "stdout",
       "text": [
        "\n",
        "Exceeded maximum number of iterations\n",
        "Exceeded maximum number of iterations\n",
        "Exceeded maximum number of iterations"
       ]
      },
      {
       "output_type": "stream",
       "stream": "stdout",
       "text": [
        "\n",
        "Exceeded maximum number of iterations\n",
        "Exceeded maximum number of iterations"
       ]
      },
      {
       "output_type": "stream",
       "stream": "stdout",
       "text": [
        "\n",
        "Exceeded maximum number of iterations\n",
        "Exceeded maximum number of iterations"
       ]
      },
      {
       "output_type": "stream",
       "stream": "stdout",
       "text": [
        "\n",
        "Exceeded maximum number of iterations"
       ]
      },
      {
       "output_type": "stream",
       "stream": "stdout",
       "text": [
        "\n",
        "Exceeded maximum number of iterations"
       ]
      },
      {
       "output_type": "stream",
       "stream": "stdout",
       "text": [
        "\n",
        "Getting data for KOI object: "
       ]
      },
      {
       "output_type": "stream",
       "stream": "stdout",
       "text": [
        "935.01\n",
        "Initializing koi...\n",
        "Getting lightcurves..."
       ]
      },
      {
       "output_type": "stream",
       "stream": "stdout",
       "text": [
        "\n",
        "0"
       ]
      },
      {
       "output_type": "stream",
       "stream": "stderr",
       "text": [
        "WARNING:root:Unrecognized parameter: '2MASS conflict flag'\n",
        "WARNING:root:Unrecognized parameter: '2MASS conflict flag'\n",
        "WARNING:root:Unrecognized parameter: '2MASS conflict flag'\n",
        "WARNING:root:Unrecognized parameter: '2MASS conflict flag'\n",
        "WARNING:root:Unrecognized parameter: '2MASS conflict flag'\n",
        "WARNING:root:Unrecognized parameter: '2MASS conflict flag'\n",
        "WARNING:root:Unrecognized parameter: '2MASS conflict flag'\n",
        "WARNING:root:Unrecognized parameter: '2MASS conflict flag'\n",
        "WARNING:root:Unrecognized parameter: '2MASS conflict flag'\n",
        "WARNING:root:Unrecognized parameter: '2MASS conflict flag'\n",
        "WARNING:root:Unrecognized parameter: '2MASS conflict flag'\n",
        "WARNING:root:Unrecognized parameter: '2MASS conflict flag'\n",
        "WARNING:root:Unrecognized parameter: '2MASS conflict flag'\n",
        "WARNING:root:Unrecognized parameter: '2MASS conflict flag'\n",
        "WARNING:root:Unrecognized parameter: '2MASS conflict flag'\n",
        "WARNING:root:Unrecognized parameter: '2MASS conflict flag'\n",
        "WARNING:root:Unrecognized parameter: '2MASS conflict flag'\n"
       ]
      },
      {
       "output_type": "stream",
       "stream": "stdout",
       "text": [
        "\n",
        "1\n",
        "2"
       ]
      },
      {
       "output_type": "stream",
       "stream": "stdout",
       "text": [
        "\n",
        "3"
       ]
      },
      {
       "output_type": "stream",
       "stream": "stdout",
       "text": [
        "\n",
        "4"
       ]
      },
      {
       "output_type": "stream",
       "stream": "stdout",
       "text": [
        "\n",
        "5"
       ]
      },
      {
       "output_type": "stream",
       "stream": "stdout",
       "text": [
        "\n",
        "6"
       ]
      },
      {
       "output_type": "stream",
       "stream": "stdout",
       "text": [
        "\n",
        "7"
       ]
      },
      {
       "output_type": "stream",
       "stream": "stdout",
       "text": [
        "\n",
        "8"
       ]
      },
      {
       "output_type": "stream",
       "stream": "stdout",
       "text": [
        "\n",
        "9"
       ]
      },
      {
       "output_type": "stream",
       "stream": "stdout",
       "text": [
        "\n",
        "10"
       ]
      },
      {
       "output_type": "stream",
       "stream": "stdout",
       "text": [
        "\n",
        "11"
       ]
      },
      {
       "output_type": "stream",
       "stream": "stdout",
       "text": [
        "\n",
        "12"
       ]
      },
      {
       "output_type": "stream",
       "stream": "stdout",
       "text": [
        "\n",
        "13"
       ]
      },
      {
       "output_type": "stream",
       "stream": "stdout",
       "text": [
        "\n",
        "14"
       ]
      },
      {
       "output_type": "stream",
       "stream": "stdout",
       "text": [
        "\n",
        "15"
       ]
      },
      {
       "output_type": "stream",
       "stream": "stdout",
       "text": [
        "\n",
        "16"
       ]
      },
      {
       "output_type": "stream",
       "stream": "stdout",
       "text": [
        "\n",
        "Done"
       ]
      },
      {
       "output_type": "stream",
       "stream": "stdout",
       "text": [
        "\n",
        "61662\n",
        "61662\n",
        "61662\n",
        "Exceeded maximum number of iterations\n",
        "Exceeded maximum number of iterations"
       ]
      },
      {
       "output_type": "stream",
       "stream": "stdout",
       "text": [
        "\n",
        "Exceeded maximum number of iterations\n",
        "Exceeded maximum number of iterations"
       ]
      },
      {
       "output_type": "stream",
       "stream": "stdout",
       "text": [
        "\n",
        "Exceeded maximum number of iterations\n",
        "Exceeded maximum number of iterations\n",
        "Exceeded maximum number of iterations"
       ]
      },
      {
       "output_type": "stream",
       "stream": "stdout",
       "text": [
        "\n",
        "Exceeded maximum number of iterations\n",
        "Exceeded maximum number of iterations"
       ]
      },
      {
       "output_type": "stream",
       "stream": "stdout",
       "text": [
        "\n",
        "Exceeded maximum number of iterations\n",
        "Exceeded maximum number of iterations"
       ]
      },
      {
       "output_type": "stream",
       "stream": "stdout",
       "text": [
        "\n",
        "Exceeded maximum number of iterations\n",
        "Exceeded maximum number of iterations"
       ]
      },
      {
       "output_type": "stream",
       "stream": "stdout",
       "text": [
        "\n",
        "Exceeded maximum number of iterations\n",
        "Exceeded maximum number of iterations"
       ]
      },
      {
       "output_type": "stream",
       "stream": "stdout",
       "text": [
        "\n",
        "Exceeded maximum number of iterations\n",
        "Exceeded maximum number of iterations"
       ]
      },
      {
       "output_type": "stream",
       "stream": "stdout",
       "text": [
        "\n",
        "Exceeded maximum number of iterations\n",
        "Exceeded maximum number of iterations"
       ]
      },
      {
       "output_type": "stream",
       "stream": "stdout",
       "text": [
        "\n",
        "Exceeded maximum number of iterations\n",
        "Exceeded maximum number of iterations"
       ]
      },
      {
       "output_type": "stream",
       "stream": "stdout",
       "text": [
        "\n",
        "Exceeded maximum number of iterations\n",
        "Exceeded maximum number of iterations"
       ]
      },
      {
       "output_type": "stream",
       "stream": "stdout",
       "text": [
        "\n",
        "Exceeded maximum number of iterations\n",
        "Exceeded maximum number of iterations"
       ]
      },
      {
       "output_type": "stream",
       "stream": "stdout",
       "text": [
        "\n",
        "Exceeded maximum number of iterations\n",
        "Exceeded maximum number of iterations"
       ]
      },
      {
       "output_type": "stream",
       "stream": "stdout",
       "text": [
        "\n",
        "Exceeded maximum number of iterations\n",
        "Exceeded maximum number of iterations"
       ]
      },
      {
       "output_type": "stream",
       "stream": "stdout",
       "text": [
        "\n",
        "Exceeded maximum number of iterations\n",
        "Exceeded maximum number of iterations"
       ]
      },
      {
       "output_type": "stream",
       "stream": "stdout",
       "text": [
        "\n",
        "Exceeded maximum number of iterations\n",
        "Exceeded maximum number of iterations"
       ]
      },
      {
       "output_type": "stream",
       "stream": "stdout",
       "text": [
        "\n",
        "Exceeded maximum number of iterations\n",
        "Exceeded maximum number of iterations"
       ]
      },
      {
       "output_type": "stream",
       "stream": "stdout",
       "text": [
        "\n",
        "Exceeded maximum number of iterations\n",
        "Exceeded maximum number of iterations"
       ]
      },
      {
       "output_type": "stream",
       "stream": "stdout",
       "text": [
        "\n",
        "Exceeded maximum number of iterations\n",
        "Exceeded maximum number of iterations"
       ]
      },
      {
       "output_type": "stream",
       "stream": "stdout",
       "text": [
        "\n",
        "Exceeded maximum number of iterations\n",
        "Exceeded maximum number of iterations"
       ]
      },
      {
       "output_type": "stream",
       "stream": "stdout",
       "text": [
        "\n",
        "Exceeded maximum number of iterations\n",
        "Exceeded maximum number of iterations"
       ]
      },
      {
       "output_type": "stream",
       "stream": "stdout",
       "text": [
        "\n",
        "Exceeded maximum number of iterations\n",
        "Exceeded maximum number of iterations"
       ]
      },
      {
       "output_type": "stream",
       "stream": "stdout",
       "text": [
        "\n",
        "Exceeded maximum number of iterations\n",
        "Exceeded maximum number of iterations"
       ]
      },
      {
       "output_type": "stream",
       "stream": "stdout",
       "text": [
        "\n",
        "Exceeded maximum number of iterations\n",
        "Exceeded maximum number of iterations\n",
        "Exceeded maximum number of iterations"
       ]
      },
      {
       "output_type": "stream",
       "stream": "stdout",
       "text": [
        "\n",
        "Exceeded maximum number of iterations\n",
        "Exceeded maximum number of iterations"
       ]
      },
      {
       "output_type": "stream",
       "stream": "stdout",
       "text": [
        "\n",
        "Exceeded maximum number of iterations\n",
        "Exceeded maximum number of iterations"
       ]
      },
      {
       "output_type": "stream",
       "stream": "stdout",
       "text": [
        "\n",
        "Exceeded maximum number of iterations\n",
        "Exceeded maximum number of iterations"
       ]
      },
      {
       "output_type": "stream",
       "stream": "stdout",
       "text": [
        "\n",
        "Exceeded maximum number of iterations\n",
        "Exceeded maximum number of iterations"
       ]
      },
      {
       "output_type": "stream",
       "stream": "stdout",
       "text": [
        "\n",
        "Exceeded maximum number of iterations\n",
        "Exceeded maximum number of iterations"
       ]
      },
      {
       "output_type": "stream",
       "stream": "stdout",
       "text": [
        "\n",
        "Exceeded maximum number of iterations\n",
        "Exceeded maximum number of iterations"
       ]
      },
      {
       "output_type": "stream",
       "stream": "stdout",
       "text": [
        "\n",
        "Exceeded maximum number of iterations\n",
        "Exceeded maximum number of iterations"
       ]
      },
      {
       "output_type": "stream",
       "stream": "stdout",
       "text": [
        "\n",
        "Exceeded maximum number of iterations\n",
        "Exceeded maximum number of iterations"
       ]
      },
      {
       "output_type": "stream",
       "stream": "stdout",
       "text": [
        "\n",
        "Exceeded maximum number of iterations\n",
        "Exceeded maximum number of iterations"
       ]
      },
      {
       "output_type": "stream",
       "stream": "stdout",
       "text": [
        "\n",
        "Exceeded maximum number of iterations\n",
        "Exceeded maximum number of iterations"
       ]
      },
      {
       "output_type": "stream",
       "stream": "stdout",
       "text": [
        "\n",
        "Exceeded maximum number of iterations\n",
        "Exceeded maximum number of iterations"
       ]
      },
      {
       "output_type": "stream",
       "stream": "stdout",
       "text": [
        "\n",
        "Exceeded maximum number of iterations\n",
        "Exceeded maximum number of iterations"
       ]
      },
      {
       "output_type": "stream",
       "stream": "stdout",
       "text": [
        "\n",
        "Exceeded maximum number of iterations\n",
        "Exceeded maximum number of iterations"
       ]
      },
      {
       "output_type": "stream",
       "stream": "stdout",
       "text": [
        "\n",
        "Exceeded maximum number of iterations\n",
        "Exceeded maximum number of iterations"
       ]
      },
      {
       "output_type": "stream",
       "stream": "stdout",
       "text": [
        "\n",
        "Exceeded maximum number of iterations\n",
        "Exceeded maximum number of iterations"
       ]
      },
      {
       "output_type": "stream",
       "stream": "stdout",
       "text": [
        "\n",
        "Exceeded maximum number of iterations\n",
        "Exceeded maximum number of iterations"
       ]
      },
      {
       "output_type": "stream",
       "stream": "stdout",
       "text": [
        "\n",
        "Exceeded maximum number of iterations\n",
        "Exceeded maximum number of iterations"
       ]
      },
      {
       "output_type": "stream",
       "stream": "stdout",
       "text": [
        "\n",
        "Exceeded maximum number of iterations\n",
        "Exceeded maximum number of iterations"
       ]
      },
      {
       "output_type": "stream",
       "stream": "stdout",
       "text": [
        "\n",
        "Exceeded maximum number of iterations\n",
        "Exceeded maximum number of iterations"
       ]
      },
      {
       "output_type": "stream",
       "stream": "stdout",
       "text": [
        "\n",
        "Exceeded maximum number of iterations\n",
        "Exceeded maximum number of iterations"
       ]
      },
      {
       "output_type": "stream",
       "stream": "stdout",
       "text": [
        "\n",
        "Exceeded maximum number of iterations\n",
        "Exceeded maximum number of iterations\n",
        "Exceeded maximum number of iterations"
       ]
      },
      {
       "output_type": "stream",
       "stream": "stdout",
       "text": [
        "\n",
        "Exceeded maximum number of iterations\n",
        "Exceeded maximum number of iterations"
       ]
      },
      {
       "output_type": "stream",
       "stream": "stdout",
       "text": [
        "\n",
        "Exceeded maximum number of iterations\n",
        "Exceeded maximum number of iterations"
       ]
      },
      {
       "output_type": "stream",
       "stream": "stdout",
       "text": [
        "\n",
        "Exceeded maximum number of iterations\n",
        "Exceeded maximum number of iterations"
       ]
      },
      {
       "output_type": "stream",
       "stream": "stdout",
       "text": [
        "\n",
        "Exceeded maximum number of iterations\n",
        "Exceeded maximum number of iterations"
       ]
      },
      {
       "output_type": "stream",
       "stream": "stdout",
       "text": [
        "\n",
        "Exceeded maximum number of iterations\n",
        "Exceeded maximum number of iterations"
       ]
      },
      {
       "output_type": "stream",
       "stream": "stdout",
       "text": [
        "\n",
        "Exceeded maximum number of iterations\n",
        "Exceeded maximum number of iterations"
       ]
      },
      {
       "output_type": "stream",
       "stream": "stdout",
       "text": [
        "\n",
        "Exceeded maximum number of iterations\n",
        "Exceeded maximum number of iterations"
       ]
      },
      {
       "output_type": "stream",
       "stream": "stdout",
       "text": [
        "\n",
        "Exceeded maximum number of iterations\n",
        "Exceeded maximum number of iterations"
       ]
      },
      {
       "output_type": "stream",
       "stream": "stdout",
       "text": [
        "\n",
        "Exceeded maximum number of iterations\n",
        "Exceeded maximum number of iterations"
       ]
      },
      {
       "output_type": "stream",
       "stream": "stdout",
       "text": [
        "\n",
        "Exceeded maximum number of iterations\n",
        "Exceeded maximum number of iterations"
       ]
      },
      {
       "output_type": "stream",
       "stream": "stdout",
       "text": [
        "\n",
        "Exceeded maximum number of iterations\n",
        "Exceeded maximum number of iterations"
       ]
      },
      {
       "output_type": "stream",
       "stream": "stdout",
       "text": [
        "\n",
        "Exceeded maximum number of iterations\n",
        "Exceeded maximum number of iterations"
       ]
      },
      {
       "output_type": "stream",
       "stream": "stdout",
       "text": [
        "\n",
        "Exceeded maximum number of iterations\n",
        "Exceeded maximum number of iterations"
       ]
      },
      {
       "output_type": "stream",
       "stream": "stdout",
       "text": [
        "\n",
        "Exceeded maximum number of iterations\n",
        "Exceeded maximum number of iterations"
       ]
      },
      {
       "output_type": "stream",
       "stream": "stdout",
       "text": [
        "\n",
        "Exceeded maximum number of iterations\n",
        "Exceeded maximum number of iterations"
       ]
      },
      {
       "output_type": "stream",
       "stream": "stdout",
       "text": [
        "\n",
        "Exceeded maximum number of iterations\n",
        "Exceeded maximum number of iterations"
       ]
      },
      {
       "output_type": "stream",
       "stream": "stdout",
       "text": [
        "\n",
        "Exceeded maximum number of iterations\n",
        "Exceeded maximum number of iterations"
       ]
      },
      {
       "output_type": "stream",
       "stream": "stdout",
       "text": [
        "\n",
        "Exceeded maximum number of iterations\n",
        "Exceeded maximum number of iterations"
       ]
      },
      {
       "output_type": "stream",
       "stream": "stdout",
       "text": [
        "\n",
        "Exceeded maximum number of iterations\n",
        "Exceeded maximum number of iterations"
       ]
      },
      {
       "output_type": "stream",
       "stream": "stdout",
       "text": [
        "\n",
        "Exceeded maximum number of iterations\n",
        "Exceeded maximum number of iterations\n",
        "Exceeded maximum number of iterations"
       ]
      },
      {
       "output_type": "stream",
       "stream": "stdout",
       "text": [
        "\n",
        "Exceeded maximum number of iterations\n",
        "Exceeded maximum number of iterations"
       ]
      },
      {
       "output_type": "stream",
       "stream": "stdout",
       "text": [
        "\n",
        "Exceeded maximum number of iterations\n",
        "Exceeded maximum number of iterations"
       ]
      },
      {
       "output_type": "stream",
       "stream": "stdout",
       "text": [
        "\n",
        "Exceeded maximum number of iterations\n",
        "Exceeded maximum number of iterations"
       ]
      },
      {
       "output_type": "stream",
       "stream": "stdout",
       "text": [
        "\n",
        "Exceeded maximum number of iterations\n",
        "Exceeded maximum number of iterations"
       ]
      },
      {
       "output_type": "stream",
       "stream": "stdout",
       "text": [
        "\n",
        "Exceeded maximum number of iterations\n",
        "Exceeded maximum number of iterations"
       ]
      },
      {
       "output_type": "stream",
       "stream": "stdout",
       "text": [
        "\n",
        "Exceeded maximum number of iterations\n",
        "Exceeded maximum number of iterations"
       ]
      },
      {
       "output_type": "stream",
       "stream": "stdout",
       "text": [
        "\n",
        "Exceeded maximum number of iterations\n",
        "Exceeded maximum number of iterations"
       ]
      },
      {
       "output_type": "stream",
       "stream": "stdout",
       "text": [
        "\n",
        "Exceeded maximum number of iterations\n",
        "Exceeded maximum number of iterations"
       ]
      },
      {
       "output_type": "stream",
       "stream": "stdout",
       "text": [
        "\n",
        "Exceeded maximum number of iterations\n",
        "Exceeded maximum number of iterations"
       ]
      },
      {
       "output_type": "stream",
       "stream": "stdout",
       "text": [
        "\n",
        "Exceeded maximum number of iterations\n",
        "Exceeded maximum number of iterations"
       ]
      },
      {
       "output_type": "stream",
       "stream": "stdout",
       "text": [
        "\n",
        "Exceeded maximum number of iterations\n",
        "Exceeded maximum number of iterations"
       ]
      },
      {
       "output_type": "stream",
       "stream": "stdout",
       "text": [
        "\n",
        "Exceeded maximum number of iterations\n",
        "Exceeded maximum number of iterations"
       ]
      },
      {
       "output_type": "stream",
       "stream": "stdout",
       "text": [
        "\n",
        "Exceeded maximum number of iterations\n",
        "Exceeded maximum number of iterations"
       ]
      },
      {
       "output_type": "stream",
       "stream": "stdout",
       "text": [
        "\n",
        "Exceeded maximum number of iterations\n",
        "Exceeded maximum number of iterations"
       ]
      },
      {
       "output_type": "stream",
       "stream": "stdout",
       "text": [
        "\n",
        "Exceeded maximum number of iterations\n",
        "Exceeded maximum number of iterations"
       ]
      },
      {
       "output_type": "stream",
       "stream": "stdout",
       "text": [
        "\n",
        "Exceeded maximum number of iterations\n",
        "Exceeded maximum number of iterations"
       ]
      },
      {
       "output_type": "stream",
       "stream": "stdout",
       "text": [
        "\n",
        "Exceeded maximum number of iterations\n",
        "Exceeded maximum number of iterations"
       ]
      },
      {
       "output_type": "stream",
       "stream": "stdout",
       "text": [
        "\n",
        "Exceeded maximum number of iterations\n",
        "Exceeded maximum number of iterations"
       ]
      },
      {
       "output_type": "stream",
       "stream": "stdout",
       "text": [
        "\n",
        "Exceeded maximum number of iterations\n",
        "Exceeded maximum number of iterations"
       ]
      },
      {
       "output_type": "stream",
       "stream": "stdout",
       "text": [
        "\n",
        "Exceeded maximum number of iterations\n",
        "Exceeded maximum number of iterations"
       ]
      },
      {
       "output_type": "stream",
       "stream": "stdout",
       "text": [
        "\n",
        "Exceeded maximum number of iterations\n",
        "Exceeded maximum number of iterations\n",
        "Exceeded maximum number of iterations"
       ]
      },
      {
       "output_type": "stream",
       "stream": "stdout",
       "text": [
        "\n",
        "Exceeded maximum number of iterations\n",
        "Exceeded maximum number of iterations"
       ]
      },
      {
       "output_type": "stream",
       "stream": "stdout",
       "text": [
        "\n",
        "Exceeded maximum number of iterations\n",
        "Exceeded maximum number of iterations"
       ]
      },
      {
       "output_type": "stream",
       "stream": "stdout",
       "text": [
        "\n",
        "Exceeded maximum number of iterations\n",
        "Exceeded maximum number of iterations"
       ]
      },
      {
       "output_type": "stream",
       "stream": "stdout",
       "text": [
        "\n",
        "Exceeded maximum number of iterations\n",
        "Exceeded maximum number of iterations"
       ]
      },
      {
       "output_type": "stream",
       "stream": "stdout",
       "text": [
        "\n",
        "Exceeded maximum number of iterations\n",
        "Exceeded maximum number of iterations"
       ]
      },
      {
       "output_type": "stream",
       "stream": "stdout",
       "text": [
        "\n",
        "Exceeded maximum number of iterations\n",
        "Exceeded maximum number of iterations"
       ]
      },
      {
       "output_type": "stream",
       "stream": "stdout",
       "text": [
        "\n",
        "Exceeded maximum number of iterations\n",
        "Exceeded maximum number of iterations"
       ]
      },
      {
       "output_type": "stream",
       "stream": "stdout",
       "text": [
        "\n",
        "Exceeded maximum number of iterations\n",
        "Exceeded maximum number of iterations"
       ]
      },
      {
       "output_type": "stream",
       "stream": "stdout",
       "text": [
        "\n",
        "Exceeded maximum number of iterations\n",
        "Exceeded maximum number of iterations"
       ]
      },
      {
       "output_type": "stream",
       "stream": "stdout",
       "text": [
        "\n",
        "Exceeded maximum number of iterations\n",
        "Exceeded maximum number of iterations"
       ]
      },
      {
       "output_type": "stream",
       "stream": "stdout",
       "text": [
        "\n",
        "Exceeded maximum number of iterations\n",
        "Exceeded maximum number of iterations"
       ]
      },
      {
       "output_type": "stream",
       "stream": "stdout",
       "text": [
        "\n",
        "Exceeded maximum number of iterations\n",
        "Exceeded maximum number of iterations"
       ]
      },
      {
       "output_type": "stream",
       "stream": "stdout",
       "text": [
        "\n",
        "Exceeded maximum number of iterations\n",
        "Exceeded maximum number of iterations"
       ]
      },
      {
       "output_type": "stream",
       "stream": "stdout",
       "text": [
        "\n",
        "Exceeded maximum number of iterations\n",
        "Exceeded maximum number of iterations"
       ]
      },
      {
       "output_type": "stream",
       "stream": "stdout",
       "text": [
        "\n",
        "Exceeded maximum number of iterations\n",
        "Exceeded maximum number of iterations"
       ]
      },
      {
       "output_type": "stream",
       "stream": "stdout",
       "text": [
        "\n",
        "Exceeded maximum number of iterations\n",
        "Exceeded maximum number of iterations"
       ]
      },
      {
       "output_type": "stream",
       "stream": "stdout",
       "text": [
        "\n",
        "Exceeded maximum number of iterations\n",
        "Exceeded maximum number of iterations"
       ]
      },
      {
       "output_type": "stream",
       "stream": "stdout",
       "text": [
        "\n",
        "Exceeded maximum number of iterations\n",
        "Exceeded maximum number of iterations"
       ]
      },
      {
       "output_type": "stream",
       "stream": "stdout",
       "text": [
        "\n",
        "Exceeded maximum number of iterations\n",
        "Exceeded maximum number of iterations"
       ]
      },
      {
       "output_type": "stream",
       "stream": "stdout",
       "text": [
        "\n",
        "Exceeded maximum number of iterations\n",
        "Exceeded maximum number of iterations"
       ]
      },
      {
       "output_type": "stream",
       "stream": "stdout",
       "text": [
        "\n",
        "Exceeded maximum number of iterations\n",
        "Exceeded maximum number of iterations"
       ]
      },
      {
       "output_type": "stream",
       "stream": "stdout",
       "text": [
        "\n",
        "Exceeded maximum number of iterations\n",
        "Exceeded maximum number of iterations"
       ]
      },
      {
       "output_type": "stream",
       "stream": "stdout",
       "text": [
        "\n",
        "Exceeded maximum number of iterations"
       ]
      },
      {
       "output_type": "stream",
       "stream": "stdout",
       "text": [
        "\n",
        "Exceeded maximum number of iterations\n",
        "Exceeded maximum number of iterations"
       ]
      },
      {
       "output_type": "stream",
       "stream": "stdout",
       "text": [
        "\n",
        "Exceeded maximum number of iterations\n",
        "Exceeded maximum number of iterations"
       ]
      },
      {
       "output_type": "stream",
       "stream": "stdout",
       "text": [
        "\n",
        "Exceeded maximum number of iterations\n",
        "Exceeded maximum number of iterations"
       ]
      },
      {
       "output_type": "stream",
       "stream": "stdout",
       "text": [
        "\n",
        "Exceeded maximum number of iterations"
       ]
      },
      {
       "output_type": "stream",
       "stream": "stdout",
       "text": [
        "\n",
        "Exceeded maximum number of iterations\n",
        "Exceeded maximum number of iterations"
       ]
      },
      {
       "output_type": "stream",
       "stream": "stdout",
       "text": [
        "\n",
        "Exceeded maximum number of iterations"
       ]
      },
      {
       "output_type": "stream",
       "stream": "stdout",
       "text": [
        "\n",
        "Exceeded maximum number of iterations\n",
        "Exceeded maximum number of iterations"
       ]
      },
      {
       "output_type": "stream",
       "stream": "stdout",
       "text": [
        "\n",
        "Exceeded maximum number of iterations\n",
        "Exceeded maximum number of iterations"
       ]
      },
      {
       "output_type": "stream",
       "stream": "stdout",
       "text": [
        "\n",
        "Exceeded maximum number of iterations\n",
        "Exceeded maximum number of iterations"
       ]
      },
      {
       "output_type": "stream",
       "stream": "stdout",
       "text": [
        "\n",
        "Exceeded maximum number of iterations\n",
        "Exceeded maximum number of iterations"
       ]
      },
      {
       "output_type": "stream",
       "stream": "stdout",
       "text": [
        "\n",
        "Exceeded maximum number of iterations\n",
        "Exceeded maximum number of iterations"
       ]
      },
      {
       "output_type": "stream",
       "stream": "stdout",
       "text": [
        "\n",
        "Exceeded maximum number of iterations\n",
        "Exceeded maximum number of iterations"
       ]
      },
      {
       "output_type": "stream",
       "stream": "stdout",
       "text": [
        "\n",
        "Exceeded maximum number of iterations\n",
        "Exceeded maximum number of iterations"
       ]
      },
      {
       "output_type": "stream",
       "stream": "stdout",
       "text": [
        "\n"
       ]
      },
      {
       "metadata": {},
       "output_type": "display_data",
       "png": "[encoded data removed]",
       "text": [
        "Figure(PyObject <matplotlib.figure.Figure object at 0x7f3ad7244210>)"
       ]
      }
     ],
     "prompt_number": 2
    },
    {
     "cell_type": "code",
     "collapsed": false,
     "input": [
      "include(\"rw_functions.jl\")"
     ],
     "language": "python",
     "metadata": {},
     "outputs": [
      {
       "metadata": {},
       "output_type": "pyout",
       "prompt_number": 3,
       "text": [
        "write_lightcurve_ascii (generic function with 1 method)"
       ]
      }
     ],
     "prompt_number": 3
    },
    {
     "cell_type": "code",
     "collapsed": false,
     "input": [
      "data_952 = read_ascii(\"lightcurves/952.01.csv\")\n",
      "time = data_952[:,1]\n",
      "flux = data_952[:,2]\n",
      "orig_flux = data_952[:,3]\n",
      "println(length(time))\n",
      "plot(time,orig_flux,linewidth=2)\n",
      "plot(time,flux,color=\"red\")\n",
      "ylim(0.99,1.01)\n",
      "xlim(950,1150)"
     ],
     "language": "python",
     "metadata": {},
     "outputs": [
      {
       "output_type": "stream",
       "stream": "stdout",
       "text": [
        "49620"
       ]
      },
      {
       "output_type": "stream",
       "stream": "stdout",
       "text": [
        "\n"
       ]
      },
      {
       "metadata": {},
       "output_type": "display_data",
       "png": "[encoded data removed]",
       "text": [
        "Figure(PyObject <matplotlib.figure.Figure object at 0x7f3ad8a28b10>)"
       ]
      },
      {
       "metadata": {},
       "output_type": "pyout",
       "prompt_number": 4,
       "text": [
        "(950,1150)"
       ]
      }
     ],
     "prompt_number": 4
    },
    {
     "cell_type": "code",
     "collapsed": false,
     "input": [
      "data_738 = read_ascii(\"lightcurves/738.01.csv\")\n",
      "time = data_738[:,1]\n",
      "flux = data_738[:,2]\n",
      "orig_flux = data_738[:,3]\n",
      "println(length(time))\n",
      "plot(time,orig_flux,linewidth=2)\n",
      "plot(time,flux,color=\"red\")\n",
      "ylim(0.997,1.004)\n",
      "xlim(950,1150)"
     ],
     "language": "python",
     "metadata": {},
     "outputs": [
      {
       "output_type": "stream",
       "stream": "stdout",
       "text": [
        "49749"
       ]
      },
      {
       "output_type": "stream",
       "stream": "stdout",
       "text": [
        "\n"
       ]
      },
      {
       "metadata": {},
       "output_type": "display_data",
       "png": "[encoded data removed]",
       "text": [
        "Figure(PyObject <matplotlib.figure.Figure object at 0x7f3ad7266f90>)"
       ]
      },
      {
       "metadata": {},
       "output_type": "pyout",
       "prompt_number": 5,
       "text": [
        "(950,1150)"
       ]
      }
     ],
     "prompt_number": 5
    },
    {
     "cell_type": "code",
     "collapsed": false,
     "input": [],
     "language": "python",
     "metadata": {},
     "outputs": [],
     "prompt_number": 6
    }
   ],
   "metadata": {}
  }
 ]
}