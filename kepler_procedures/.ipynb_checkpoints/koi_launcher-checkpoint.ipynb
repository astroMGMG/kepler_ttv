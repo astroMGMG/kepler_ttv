{
 "metadata": {
  "language": "Julia",
  "name": ""
 },
 "nbformat": 3,
 "nbformat_minor": 0,
 "worksheets": [
  {
   "cells": [
    {
     "cell_type": "code",
     "collapsed": false,
     "input": [
      "#include(\"rw_functions.jl\")\n",
      "include(\"koi_luncher.jl\")"
     ],
     "language": "python",
     "metadata": {},
     "outputs": [
      {
       "metadata": {},
       "output_type": "pyout",
       "prompt_number": 4,
       "text": [
        "koi_luncher (generic function with 2 methods)"
       ]
      }
     ],
     "prompt_number": 4
    },
    {
     "cell_type": "code",
     "collapsed": false,
     "input": [
      "a = koi_luncher(\"koi_list.csv\")"
     ],
     "language": "python",
     "metadata": {},
     "outputs": [
      {
       "output_type": "stream",
       "stream": "stdout",
       "text": [
        "Getting data for KOI object: 952"
       ]
      },
      {
       "output_type": "stream",
       "stream": "stdout",
       "text": [
        ".01\n",
        "Initializing koi...\n",
        "Getting lightcurves..."
       ]
      },
      {
       "output_type": "stream",
       "stream": "stdout",
       "text": [
        "\n",
        "Done"
       ]
      },
      {
       "output_type": "stream",
       "stream": "stderr",
       "text": [
        "WARNING:root:Unrecognized parameter: '2MASS conflict flag'\n",
        "WARNING:root:Unrecognized parameter: '2MASS conflict flag'\n",
        "WARNING:root:Unrecognized parameter: '2MASS conflict flag'\n",
        "WARNING:root:Unrecognized parameter: '2MASS conflict flag'\n",
        "WARNING:root:Unrecognized parameter: '2MASS conflict flag'\n",
        "WARNING:root:Unrecognized parameter: '2MASS conflict flag'\n",
        "WARNING:root:Unrecognized parameter: '2MASS conflict flag'\n",
        "WARNING:root:Unrecognized parameter: '2MASS conflict flag'\n",
        "WARNING:root:Unrecognized parameter: '2MASS conflict flag'\n",
        "WARNING:root:Unrecognized parameter: '2MASS conflict flag'\n",
        "WARNING:root:Unrecognized parameter: '2MASS conflict flag'\n",
        "WARNING:root:Unrecognized parameter: '2MASS conflict flag'\n",
        "WARNING:root:Unrecognized parameter: '2MASS conflict flag'\n",
        "WARNING:root:Unrecognized parameter: '2MASS conflict flag'\n"
       ]
      },
      {
       "output_type": "stream",
       "stream": "stdout",
       "text": [
        "\n",
        "1484\n",
        "1484\n",
        "1484\n",
        "Getting data for KOI object: 952.02\n",
        "Initializing koi...\n",
        "Getting lightcurves..."
       ]
      },
      {
       "output_type": "stream",
       "stream": "stdout",
       "text": [
        "\n",
        "Done"
       ]
      },
      {
       "output_type": "stream",
       "stream": "stderr",
       "text": [
        "WARNING:root:Unrecognized parameter: '2MASS conflict flag'\n",
        "WARNING:root:Unrecognized parameter: '2MASS conflict flag'\n",
        "WARNING:root:Unrecognized parameter: '2MASS conflict flag'\n",
        "WARNING:root:Unrecognized parameter: '2MASS conflict flag'\n",
        "WARNING:root:Unrecognized parameter: '2MASS conflict flag'\n",
        "WARNING:root:Unrecognized parameter: '2MASS conflict flag'\n",
        "WARNING:root:Unrecognized parameter: '2MASS conflict flag'\n",
        "WARNING:root:Unrecognized parameter: '2MASS conflict flag'\n",
        "WARNING:root:Unrecognized parameter: '2MASS conflict flag'\n",
        "WARNING:root:Unrecognized parameter: '2MASS conflict flag'\n",
        "WARNING:root:Unrecognized parameter: '2MASS conflict flag'\n",
        "WARNING:root:Unrecognized parameter: '2MASS conflict flag'\n",
        "WARNING:root:Unrecognized parameter: '2MASS conflict flag'\n",
        "WARNING:root:Unrecognized parameter: '2MASS conflict flag'\n"
       ]
      },
      {
       "output_type": "stream",
       "stream": "stdout",
       "text": [
        "\n",
        "1484\n",
        "1484\n",
        "1484\n"
       ]
      }
     ],
     "prompt_number": 6
    },
    {
     "cell_type": "code",
     "collapsed": false,
     "input": [],
     "language": "python",
     "metadata": {},
     "outputs": []
    }
   ],
   "metadata": {}
  }
 ]
}