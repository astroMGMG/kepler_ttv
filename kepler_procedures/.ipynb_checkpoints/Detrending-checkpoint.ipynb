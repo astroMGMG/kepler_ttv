{
 "metadata": {
  "language": "Julia",
  "name": ""
 },
 "nbformat": 3,
 "nbformat_minor": 0,
 "worksheets": [
  {
   "cells": [
    {
     "cell_type": "code",
     "collapsed": false,
     "input": [
      "using Optim;\n",
      "using PyPlot;\n",
      "include(\"rw_functions.jl\");\n",
      "include(\"get_start_indices.jl\");\n",
      "include(\"segment_detrend.jl\");"
     ],
     "language": "python",
     "metadata": {},
     "outputs": [
      {
       "output_type": "stream",
       "stream": "stdout",
       "text": [
        "Loading help data...\n"
       ]
      }
     ]
    },
    {
     "cell_type": "code",
     "collapsed": false,
     "input": [
      "read_data=read_lightcurve_ascii(\"lc_95201.csv\")\n",
      "time=read_data[:,1];\n",
      "flux=read_data[:,2];\n",
      "orig_flux=deepcopy(flux);"
     ],
     "language": "python",
     "metadata": {},
     "outputs": []
    },
    {
     "cell_type": "code",
     "collapsed": false,
     "input": [
      "start_indices=get_start_indices(time)"
     ],
     "language": "python",
     "metadata": {},
     "outputs": [
      {
       "metadata": {},
       "output_type": "pyout",
       "prompt_number": 1,
       "text": [
        "1:228:51529"
       ]
      }
     ],
     "prompt_number": 1
    },
    {
     "cell_type": "code",
     "collapsed": false,
     "input": [
      "# a two-parameter linear model\n",
      "linearmodel(xpts, p) = p[1] + xpts.*p[2];\n",
      "\n",
      "# a three-parameter quadratic model\n",
      "quadmodel(xpts, p) = p[1] + xpts.*p[2] + p[3].*xpts.^2;\n",
      "\n",
      "# a four-parameter cubic model\n",
      "cubicmodel(xpts, p) = p[1] + xpts.*p[2] + p[3].*xpts.^2 + p[4].*xpts.^3;"
     ],
     "language": "python",
     "metadata": {},
     "outputs": [],
     "prompt_number": 1
    },
    {
     "cell_type": "code",
     "collapsed": false,
     "input": [
      "num_segments=length(start_indices);\n",
      "\n",
      "for i=1:num_segments-1\n",
      "    println(i)\n",
      "    #start index\n",
      "    sind=start_indices[i];\n",
      "    #end index\n",
      "    eind=start_indices[i+1]-1;\n",
      "    seg_ind=sind:1:eind;\n",
      "    \n",
      "    segment_detrend!(seg_ind,time,flux);\n",
      "end\n",
      "\n",
      "#need to handle the last segment\n",
      "sind=start_indices[end];\n",
      "eind=len;\n",
      "\n",
      "seg_ind=sind:1:eind;\n",
      "    \n",
      "segment_detrend!(seg_ind,time,flux);"
     ],
     "language": "python",
     "metadata": {},
     "outputs": [
      {
       "output_type": "stream",
       "stream": "stdout",
       "text": [
        "1"
       ]
      },
      {
       "output_type": "stream",
       "stream": "stdout",
       "text": [
        "\n",
        "Exceeded maximum number of iterations"
       ]
      },
      {
       "output_type": "stream",
       "stream": "stdout",
       "text": [
        "\n",
        "2\n",
        "Exceeded maximum number of iterations"
       ]
      },
      {
       "output_type": "stream",
       "stream": "stdout",
       "text": [
        "\n",
        "3\n",
        "Exceeded maximum number of iterations"
       ]
      },
      {
       "output_type": "stream",
       "stream": "stdout",
       "text": [
        "\n",
        "4\n",
        "Exceeded maximum number of iterations"
       ]
      },
      {
       "output_type": "stream",
       "stream": "stdout",
       "text": [
        "\n",
        "5\n",
        "Exceeded maximum number of iterations"
       ]
      },
      {
       "output_type": "stream",
       "stream": "stdout",
       "text": [
        "\n",
        "6\n",
        "Exceeded maximum number of iterations"
       ]
      },
      {
       "output_type": "stream",
       "stream": "stdout",
       "text": [
        "\n",
        "7\n",
        "Exceeded maximum number of iterations"
       ]
      },
      {
       "output_type": "stream",
       "stream": "stdout",
       "text": [
        "\n",
        "8\n",
        "Exceeded maximum number of iterations"
       ]
      },
      {
       "output_type": "stream",
       "stream": "stdout",
       "text": [
        "\n",
        "9\n",
        "Exceeded maximum number of iterations"
       ]
      },
      {
       "output_type": "stream",
       "stream": "stdout",
       "text": [
        "\n",
        "10\n",
        "Exceeded maximum number of iterations\n",
        "11\n",
        "Exceeded maximum number of iterations"
       ]
      },
      {
       "output_type": "stream",
       "stream": "stdout",
       "text": [
        "\n",
        "12\n",
        "Exceeded maximum number of iterations"
       ]
      },
      {
       "output_type": "stream",
       "stream": "stdout",
       "text": [
        "\n",
        "13\n",
        "Exceeded maximum number of iterations"
       ]
      },
      {
       "output_type": "stream",
       "stream": "stdout",
       "text": [
        "\n",
        "14\n",
        "Exceeded maximum number of iterations"
       ]
      },
      {
       "output_type": "stream",
       "stream": "stdout",
       "text": [
        "\n",
        "15\n",
        "Exceeded maximum number of iterations"
       ]
      },
      {
       "output_type": "stream",
       "stream": "stdout",
       "text": [
        "\n",
        "16\n",
        "Exceeded maximum number of iterations"
       ]
      },
      {
       "output_type": "stream",
       "stream": "stdout",
       "text": [
        "\n",
        "17\n",
        "Exceeded maximum number of iterations"
       ]
      },
      {
       "output_type": "stream",
       "stream": "stdout",
       "text": [
        "\n",
        "18\n",
        "Exceeded maximum number of iterations"
       ]
      },
      {
       "output_type": "stream",
       "stream": "stdout",
       "text": [
        "\n",
        "19\n",
        "Exceeded maximum number of iterations"
       ]
      },
      {
       "output_type": "stream",
       "stream": "stdout",
       "text": [
        "\n",
        "20\n",
        "Exceeded maximum number of iterations"
       ]
      },
      {
       "output_type": "stream",
       "stream": "stdout",
       "text": [
        "\n",
        "21\n",
        "Exceeded maximum number of iterations"
       ]
      },
      {
       "output_type": "stream",
       "stream": "stdout",
       "text": [
        "\n",
        "22\n",
        "Exceeded maximum number of iterations"
       ]
      },
      {
       "output_type": "stream",
       "stream": "stdout",
       "text": [
        "\n",
        "23\n",
        "Exceeded maximum number of iterations"
       ]
      },
      {
       "output_type": "stream",
       "stream": "stdout",
       "text": [
        "\n",
        "24\n",
        "Exceeded maximum number of iterations"
       ]
      },
      {
       "output_type": "stream",
       "stream": "stdout",
       "text": [
        "\n",
        "25\n",
        "Exceeded maximum number of iterations"
       ]
      },
      {
       "output_type": "stream",
       "stream": "stdout",
       "text": [
        "\n",
        "26\n",
        "Exceeded maximum number of iterations"
       ]
      },
      {
       "output_type": "stream",
       "stream": "stdout",
       "text": [
        "\n",
        "27\n",
        "Exceeded maximum number of iterations"
       ]
      },
      {
       "output_type": "stream",
       "stream": "stdout",
       "text": [
        "\n",
        "28\n",
        "Exceeded maximum number of iterations"
       ]
      },
      {
       "output_type": "stream",
       "stream": "stdout",
       "text": [
        "\n",
        "29\n",
        "Exceeded maximum number of iterations"
       ]
      },
      {
       "output_type": "stream",
       "stream": "stdout",
       "text": [
        "\n",
        "30\n",
        "Exceeded maximum number of iterations"
       ]
      },
      {
       "output_type": "stream",
       "stream": "stdout",
       "text": [
        "\n",
        "31\n",
        "Exceeded maximum number of iterations"
       ]
      },
      {
       "output_type": "stream",
       "stream": "stdout",
       "text": [
        "\n",
        "32\n",
        "Exceeded maximum number of iterations"
       ]
      },
      {
       "output_type": "stream",
       "stream": "stdout",
       "text": [
        "\n",
        "33\n",
        "Exceeded maximum number of iterations"
       ]
      },
      {
       "output_type": "stream",
       "stream": "stdout",
       "text": [
        "\n",
        "34\n",
        "Exceeded maximum number of iterations"
       ]
      },
      {
       "output_type": "stream",
       "stream": "stdout",
       "text": [
        "\n",
        "35\n",
        "Exceeded maximum number of iterations"
       ]
      },
      {
       "output_type": "stream",
       "stream": "stdout",
       "text": [
        "\n",
        "36\n",
        "Exceeded maximum number of iterations"
       ]
      },
      {
       "output_type": "stream",
       "stream": "stdout",
       "text": [
        "\n",
        "37\n",
        "Exceeded maximum number of iterations"
       ]
      },
      {
       "output_type": "stream",
       "stream": "stdout",
       "text": [
        "\n",
        "38\n",
        "Exceeded maximum number of iterations\n",
        "39\n",
        "Exceeded maximum number of iterations"
       ]
      },
      {
       "output_type": "stream",
       "stream": "stdout",
       "text": [
        "\n",
        "40\n",
        "Exceeded maximum number of iterations"
       ]
      },
      {
       "output_type": "stream",
       "stream": "stdout",
       "text": [
        "\n",
        "41\n",
        "Exceeded maximum number of iterations"
       ]
      },
      {
       "output_type": "stream",
       "stream": "stdout",
       "text": [
        "\n",
        "42\n",
        "Exceeded maximum number of iterations"
       ]
      },
      {
       "output_type": "stream",
       "stream": "stdout",
       "text": [
        "\n",
        "43\n",
        "Exceeded maximum number of iterations"
       ]
      },
      {
       "output_type": "stream",
       "stream": "stdout",
       "text": [
        "\n",
        "44\n",
        "Exceeded maximum number of iterations"
       ]
      },
      {
       "output_type": "stream",
       "stream": "stdout",
       "text": [
        "\n",
        "45\n",
        "Exceeded maximum number of iterations"
       ]
      },
      {
       "output_type": "stream",
       "stream": "stdout",
       "text": [
        "\n",
        "46\n",
        "Exceeded maximum number of iterations"
       ]
      },
      {
       "output_type": "stream",
       "stream": "stdout",
       "text": [
        "\n",
        "47\n",
        "Exceeded maximum number of iterations"
       ]
      },
      {
       "output_type": "stream",
       "stream": "stdout",
       "text": [
        "\n",
        "48\n",
        "Exceeded maximum number of iterations"
       ]
      },
      {
       "output_type": "stream",
       "stream": "stdout",
       "text": [
        "\n",
        "49\n",
        "Exceeded maximum number of iterations"
       ]
      },
      {
       "output_type": "stream",
       "stream": "stdout",
       "text": [
        "\n",
        "50\n",
        "Exceeded maximum number of iterations"
       ]
      },
      {
       "output_type": "stream",
       "stream": "stdout",
       "text": [
        "\n",
        "51\n",
        "Exceeded maximum number of iterations"
       ]
      },
      {
       "output_type": "stream",
       "stream": "stdout",
       "text": [
        "\n",
        "52\n",
        "Exceeded maximum number of iterations"
       ]
      },
      {
       "output_type": "stream",
       "stream": "stdout",
       "text": [
        "\n",
        "53\n",
        "Exceeded maximum number of iterations"
       ]
      },
      {
       "output_type": "stream",
       "stream": "stdout",
       "text": [
        "\n",
        "54\n",
        "Exceeded maximum number of iterations"
       ]
      },
      {
       "output_type": "stream",
       "stream": "stdout",
       "text": [
        "\n",
        "55\n",
        "Exceeded maximum number of iterations"
       ]
      },
      {
       "output_type": "stream",
       "stream": "stdout",
       "text": [
        "\n",
        "56\n",
        "Exceeded maximum number of iterations"
       ]
      },
      {
       "output_type": "stream",
       "stream": "stdout",
       "text": [
        "\n",
        "57\n",
        "Exceeded maximum number of iterations"
       ]
      },
      {
       "output_type": "stream",
       "stream": "stdout",
       "text": [
        "\n",
        "58\n",
        "Exceeded maximum number of iterations"
       ]
      },
      {
       "output_type": "stream",
       "stream": "stdout",
       "text": [
        "\n",
        "59\n",
        "Exceeded maximum number of iterations"
       ]
      },
      {
       "output_type": "stream",
       "stream": "stdout",
       "text": [
        "\n",
        "60\n",
        "Exceeded maximum number of iterations"
       ]
      },
      {
       "output_type": "stream",
       "stream": "stdout",
       "text": [
        "\n",
        "61\n",
        "Exceeded maximum number of iterations"
       ]
      },
      {
       "output_type": "stream",
       "stream": "stdout",
       "text": [
        "\n",
        "62\n",
        "Exceeded maximum number of iterations"
       ]
      },
      {
       "output_type": "stream",
       "stream": "stdout",
       "text": [
        "\n",
        "63\n",
        "Exceeded maximum number of iterations"
       ]
      },
      {
       "output_type": "stream",
       "stream": "stdout",
       "text": [
        "\n",
        "64\n",
        "Exceeded maximum number of iterations"
       ]
      },
      {
       "output_type": "stream",
       "stream": "stdout",
       "text": [
        "\n",
        "65\n",
        "Exceeded maximum number of iterations"
       ]
      },
      {
       "output_type": "stream",
       "stream": "stdout",
       "text": [
        "\n",
        "66\n",
        "Exceeded maximum number of iterations\n",
        "67\n",
        "Exceeded maximum number of iterations"
       ]
      },
      {
       "output_type": "stream",
       "stream": "stdout",
       "text": [
        "\n",
        "68\n",
        "Exceeded maximum number of iterations"
       ]
      },
      {
       "output_type": "stream",
       "stream": "stdout",
       "text": [
        "\n",
        "69\n",
        "Exceeded maximum number of iterations"
       ]
      },
      {
       "output_type": "stream",
       "stream": "stdout",
       "text": [
        "\n",
        "70\n",
        "Exceeded maximum number of iterations"
       ]
      },
      {
       "output_type": "stream",
       "stream": "stdout",
       "text": [
        "\n",
        "71\n",
        "Exceeded maximum number of iterations"
       ]
      },
      {
       "output_type": "stream",
       "stream": "stdout",
       "text": [
        "\n",
        "72\n",
        "Exceeded maximum number of iterations"
       ]
      },
      {
       "output_type": "stream",
       "stream": "stdout",
       "text": [
        "\n",
        "73\n",
        "Exceeded maximum number of iterations"
       ]
      },
      {
       "output_type": "stream",
       "stream": "stdout",
       "text": [
        "\n",
        "74\n",
        "Exceeded maximum number of iterations"
       ]
      },
      {
       "output_type": "stream",
       "stream": "stdout",
       "text": [
        "\n",
        "75\n",
        "Exceeded maximum number of iterations"
       ]
      },
      {
       "output_type": "stream",
       "stream": "stdout",
       "text": [
        "\n",
        "76\n",
        "Exceeded maximum number of iterations"
       ]
      },
      {
       "output_type": "stream",
       "stream": "stdout",
       "text": [
        "\n",
        "77\n",
        "Exceeded maximum number of iterations"
       ]
      },
      {
       "output_type": "stream",
       "stream": "stdout",
       "text": [
        "\n",
        "78\n",
        "Exceeded maximum number of iterations"
       ]
      },
      {
       "output_type": "stream",
       "stream": "stdout",
       "text": [
        "\n",
        "79\n",
        "Exceeded maximum number of iterations"
       ]
      },
      {
       "output_type": "stream",
       "stream": "stdout",
       "text": [
        "\n",
        "80\n",
        "Exceeded maximum number of iterations"
       ]
      },
      {
       "output_type": "stream",
       "stream": "stdout",
       "text": [
        "\n",
        "81\n",
        "Exceeded maximum number of iterations"
       ]
      },
      {
       "output_type": "stream",
       "stream": "stdout",
       "text": [
        "\n",
        "82\n",
        "Exceeded maximum number of iterations"
       ]
      },
      {
       "output_type": "stream",
       "stream": "stdout",
       "text": [
        "\n",
        "83\n",
        "Exceeded maximum number of iterations"
       ]
      },
      {
       "output_type": "stream",
       "stream": "stdout",
       "text": [
        "\n",
        "84\n",
        "Exceeded maximum number of iterations"
       ]
      },
      {
       "output_type": "stream",
       "stream": "stdout",
       "text": [
        "\n",
        "85\n",
        "Exceeded maximum number of iterations"
       ]
      },
      {
       "output_type": "stream",
       "stream": "stdout",
       "text": [
        "\n",
        "86\n",
        "Exceeded maximum number of iterations"
       ]
      },
      {
       "output_type": "stream",
       "stream": "stdout",
       "text": [
        "\n",
        "87\n",
        "Exceeded maximum number of iterations"
       ]
      },
      {
       "output_type": "stream",
       "stream": "stdout",
       "text": [
        "\n",
        "88\n",
        "Exceeded maximum number of iterations"
       ]
      },
      {
       "output_type": "stream",
       "stream": "stdout",
       "text": [
        "\n",
        "89\n",
        "Exceeded maximum number of iterations"
       ]
      },
      {
       "output_type": "stream",
       "stream": "stdout",
       "text": [
        "\n",
        "90\n",
        "Exceeded maximum number of iterations"
       ]
      },
      {
       "output_type": "stream",
       "stream": "stdout",
       "text": [
        "\n",
        "91\n",
        "Exceeded maximum number of iterations"
       ]
      },
      {
       "output_type": "stream",
       "stream": "stdout",
       "text": [
        "\n",
        "92\n",
        "Exceeded maximum number of iterations"
       ]
      },
      {
       "output_type": "stream",
       "stream": "stdout",
       "text": [
        "\n",
        "93\n",
        "Exceeded maximum number of iterations"
       ]
      },
      {
       "output_type": "stream",
       "stream": "stdout",
       "text": [
        "\n",
        "94\n",
        "Exceeded maximum number of iterations\n",
        "95\n",
        "Exceeded maximum number of iterations"
       ]
      },
      {
       "output_type": "stream",
       "stream": "stdout",
       "text": [
        "\n",
        "96\n",
        "Exceeded maximum number of iterations"
       ]
      },
      {
       "output_type": "stream",
       "stream": "stdout",
       "text": [
        "\n",
        "97\n",
        "Exceeded maximum number of iterations"
       ]
      },
      {
       "output_type": "stream",
       "stream": "stdout",
       "text": [
        "\n",
        "98\n",
        "Exceeded maximum number of iterations"
       ]
      },
      {
       "output_type": "stream",
       "stream": "stdout",
       "text": [
        "\n",
        "99\n",
        "Exceeded maximum number of iterations"
       ]
      },
      {
       "output_type": "stream",
       "stream": "stdout",
       "text": [
        "\n",
        "100\n",
        "Exceeded maximum number of iterations"
       ]
      },
      {
       "output_type": "stream",
       "stream": "stdout",
       "text": [
        "\n",
        "101\n",
        "Exceeded maximum number of iterations"
       ]
      },
      {
       "output_type": "stream",
       "stream": "stdout",
       "text": [
        "\n",
        "102\n",
        "Exceeded maximum number of iterations"
       ]
      },
      {
       "output_type": "stream",
       "stream": "stdout",
       "text": [
        "\n",
        "103\n",
        "Exceeded maximum number of iterations"
       ]
      },
      {
       "output_type": "stream",
       "stream": "stdout",
       "text": [
        "\n",
        "104\n",
        "Exceeded maximum number of iterations"
       ]
      },
      {
       "output_type": "stream",
       "stream": "stdout",
       "text": [
        "\n",
        "105\n",
        "Exceeded maximum number of iterations"
       ]
      },
      {
       "output_type": "stream",
       "stream": "stdout",
       "text": [
        "\n",
        "106\n",
        "Exceeded maximum number of iterations"
       ]
      },
      {
       "output_type": "stream",
       "stream": "stdout",
       "text": [
        "\n",
        "107\n",
        "Exceeded maximum number of iterations"
       ]
      },
      {
       "output_type": "stream",
       "stream": "stdout",
       "text": [
        "\n",
        "108\n",
        "Exceeded maximum number of iterations"
       ]
      },
      {
       "output_type": "stream",
       "stream": "stdout",
       "text": [
        "\n",
        "109\n",
        "Exceeded maximum number of iterations"
       ]
      },
      {
       "output_type": "stream",
       "stream": "stdout",
       "text": [
        "\n",
        "110\n",
        "Exceeded maximum number of iterations"
       ]
      },
      {
       "output_type": "stream",
       "stream": "stdout",
       "text": [
        "\n",
        "111\n",
        "Exceeded maximum number of iterations"
       ]
      },
      {
       "output_type": "stream",
       "stream": "stdout",
       "text": [
        "\n",
        "112\n",
        "Exceeded maximum number of iterations"
       ]
      },
      {
       "output_type": "stream",
       "stream": "stdout",
       "text": [
        "\n",
        "113\n",
        "Exceeded maximum number of iterations"
       ]
      },
      {
       "output_type": "stream",
       "stream": "stdout",
       "text": [
        "\n",
        "114\n",
        "Exceeded maximum number of iterations"
       ]
      },
      {
       "output_type": "stream",
       "stream": "stdout",
       "text": [
        "\n",
        "115\n",
        "Exceeded maximum number of iterations"
       ]
      },
      {
       "output_type": "stream",
       "stream": "stdout",
       "text": [
        "\n",
        "116\n",
        "Exceeded maximum number of iterations"
       ]
      },
      {
       "output_type": "stream",
       "stream": "stdout",
       "text": [
        "\n",
        "117\n",
        "Exceeded maximum number of iterations"
       ]
      },
      {
       "output_type": "stream",
       "stream": "stdout",
       "text": [
        "\n",
        "118\n",
        "Exceeded maximum number of iterations"
       ]
      },
      {
       "output_type": "stream",
       "stream": "stdout",
       "text": [
        "\n",
        "119\n",
        "Exceeded maximum number of iterations"
       ]
      },
      {
       "output_type": "stream",
       "stream": "stdout",
       "text": [
        "\n",
        "120\n",
        "Exceeded maximum number of iterations"
       ]
      },
      {
       "output_type": "stream",
       "stream": "stdout",
       "text": [
        "\n",
        "121\n",
        "Exceeded maximum number of iterations"
       ]
      },
      {
       "output_type": "stream",
       "stream": "stdout",
       "text": [
        "\n",
        "122\n",
        "Exceeded maximum number of iterations\n",
        "123\n",
        "Exceeded maximum number of iterations"
       ]
      },
      {
       "output_type": "stream",
       "stream": "stdout",
       "text": [
        "\n",
        "124\n",
        "Exceeded maximum number of iterations"
       ]
      },
      {
       "output_type": "stream",
       "stream": "stdout",
       "text": [
        "\n",
        "125\n",
        "Exceeded maximum number of iterations"
       ]
      },
      {
       "output_type": "stream",
       "stream": "stdout",
       "text": [
        "\n",
        "126\n",
        "Exceeded maximum number of iterations"
       ]
      },
      {
       "output_type": "stream",
       "stream": "stdout",
       "text": [
        "\n",
        "127\n",
        "Exceeded maximum number of iterations"
       ]
      },
      {
       "output_type": "stream",
       "stream": "stdout",
       "text": [
        "\n",
        "128\n",
        "Exceeded maximum number of iterations"
       ]
      },
      {
       "output_type": "stream",
       "stream": "stdout",
       "text": [
        "\n",
        "129\n",
        "Exceeded maximum number of iterations"
       ]
      },
      {
       "output_type": "stream",
       "stream": "stdout",
       "text": [
        "\n",
        "130\n",
        "Exceeded maximum number of iterations"
       ]
      },
      {
       "output_type": "stream",
       "stream": "stdout",
       "text": [
        "\n",
        "131\n",
        "Exceeded maximum number of iterations"
       ]
      },
      {
       "output_type": "stream",
       "stream": "stdout",
       "text": [
        "\n",
        "132\n",
        "Exceeded maximum number of iterations"
       ]
      },
      {
       "output_type": "stream",
       "stream": "stdout",
       "text": [
        "\n",
        "133\n",
        "Exceeded maximum number of iterations"
       ]
      },
      {
       "output_type": "stream",
       "stream": "stdout",
       "text": [
        "\n",
        "134\n",
        "Exceeded maximum number of iterations"
       ]
      },
      {
       "output_type": "stream",
       "stream": "stdout",
       "text": [
        "\n",
        "135\n",
        "Exceeded maximum number of iterations"
       ]
      },
      {
       "output_type": "stream",
       "stream": "stdout",
       "text": [
        "\n",
        "136\n",
        "Exceeded maximum number of iterations"
       ]
      },
      {
       "output_type": "stream",
       "stream": "stdout",
       "text": [
        "\n",
        "137\n",
        "Exceeded maximum number of iterations"
       ]
      },
      {
       "output_type": "stream",
       "stream": "stdout",
       "text": [
        "\n",
        "138\n",
        "Exceeded maximum number of iterations"
       ]
      },
      {
       "output_type": "stream",
       "stream": "stdout",
       "text": [
        "\n",
        "139\n",
        "Exceeded maximum number of iterations"
       ]
      },
      {
       "output_type": "stream",
       "stream": "stdout",
       "text": [
        "\n",
        "140\n",
        "Exceeded maximum number of iterations"
       ]
      },
      {
       "output_type": "stream",
       "stream": "stdout",
       "text": [
        "\n",
        "141\n",
        "Exceeded maximum number of iterations"
       ]
      },
      {
       "output_type": "stream",
       "stream": "stdout",
       "text": [
        "\n",
        "142\n",
        "Exceeded maximum number of iterations"
       ]
      },
      {
       "output_type": "stream",
       "stream": "stdout",
       "text": [
        "\n",
        "143\n",
        "Exceeded maximum number of iterations"
       ]
      },
      {
       "output_type": "stream",
       "stream": "stdout",
       "text": [
        "\n",
        "144\n",
        "Exceeded maximum number of iterations"
       ]
      },
      {
       "output_type": "stream",
       "stream": "stdout",
       "text": [
        "\n",
        "145\n",
        "Exceeded maximum number of iterations"
       ]
      },
      {
       "output_type": "stream",
       "stream": "stdout",
       "text": [
        "\n",
        "146\n",
        "Exceeded maximum number of iterations"
       ]
      },
      {
       "output_type": "stream",
       "stream": "stdout",
       "text": [
        "\n",
        "147\n",
        "Exceeded maximum number of iterations"
       ]
      },
      {
       "output_type": "stream",
       "stream": "stdout",
       "text": [
        "\n",
        "148\n",
        "Exceeded maximum number of iterations"
       ]
      },
      {
       "output_type": "stream",
       "stream": "stdout",
       "text": [
        "\n",
        "149\n",
        "Exceeded maximum number of iterations"
       ]
      },
      {
       "output_type": "stream",
       "stream": "stdout",
       "text": [
        "\n",
        "150\n",
        "Exceeded maximum number of iterations\n",
        "151\n",
        "Exceeded maximum number of iterations"
       ]
      },
      {
       "output_type": "stream",
       "stream": "stdout",
       "text": [
        "\n",
        "152\n",
        "Exceeded maximum number of iterations"
       ]
      },
      {
       "output_type": "stream",
       "stream": "stdout",
       "text": [
        "\n",
        "153\n",
        "Exceeded maximum number of iterations"
       ]
      },
      {
       "output_type": "stream",
       "stream": "stdout",
       "text": [
        "\n",
        "154\n",
        "Exceeded maximum number of iterations"
       ]
      },
      {
       "output_type": "stream",
       "stream": "stdout",
       "text": [
        "\n",
        "155\n",
        "Exceeded maximum number of iterations"
       ]
      },
      {
       "output_type": "stream",
       "stream": "stdout",
       "text": [
        "\n",
        "156\n",
        "Exceeded maximum number of iterations"
       ]
      },
      {
       "output_type": "stream",
       "stream": "stdout",
       "text": [
        "\n",
        "157\n",
        "Exceeded maximum number of iterations"
       ]
      },
      {
       "output_type": "stream",
       "stream": "stdout",
       "text": [
        "\n",
        "158\n",
        "Exceeded maximum number of iterations"
       ]
      },
      {
       "output_type": "stream",
       "stream": "stdout",
       "text": [
        "\n",
        "159\n",
        "Exceeded maximum number of iterations"
       ]
      },
      {
       "output_type": "stream",
       "stream": "stdout",
       "text": [
        "\n",
        "160\n",
        "Exceeded maximum number of iterations"
       ]
      },
      {
       "output_type": "stream",
       "stream": "stdout",
       "text": [
        "\n",
        "161\n",
        "Exceeded maximum number of iterations"
       ]
      },
      {
       "output_type": "stream",
       "stream": "stdout",
       "text": [
        "\n",
        "162\n",
        "Exceeded maximum number of iterations"
       ]
      },
      {
       "output_type": "stream",
       "stream": "stdout",
       "text": [
        "\n",
        "163\n",
        "Exceeded maximum number of iterations"
       ]
      },
      {
       "output_type": "stream",
       "stream": "stdout",
       "text": [
        "\n",
        "164\n",
        "Exceeded maximum number of iterations"
       ]
      },
      {
       "output_type": "stream",
       "stream": "stdout",
       "text": [
        "\n",
        "165\n",
        "Exceeded maximum number of iterations"
       ]
      },
      {
       "output_type": "stream",
       "stream": "stdout",
       "text": [
        "\n",
        "166\n",
        "Exceeded maximum number of iterations"
       ]
      },
      {
       "output_type": "stream",
       "stream": "stdout",
       "text": [
        "\n",
        "167\n",
        "Exceeded maximum number of iterations"
       ]
      },
      {
       "output_type": "stream",
       "stream": "stdout",
       "text": [
        "\n",
        "168\n",
        "Exceeded maximum number of iterations"
       ]
      },
      {
       "output_type": "stream",
       "stream": "stdout",
       "text": [
        "\n",
        "169\n",
        "Exceeded maximum number of iterations"
       ]
      },
      {
       "output_type": "stream",
       "stream": "stdout",
       "text": [
        "\n",
        "170\n",
        "Exceeded maximum number of iterations"
       ]
      },
      {
       "output_type": "stream",
       "stream": "stdout",
       "text": [
        "\n",
        "171\n",
        "Exceeded maximum number of iterations"
       ]
      },
      {
       "output_type": "stream",
       "stream": "stdout",
       "text": [
        "\n",
        "172\n",
        "Exceeded maximum number of iterations"
       ]
      },
      {
       "output_type": "stream",
       "stream": "stdout",
       "text": [
        "\n",
        "173\n",
        "Exceeded maximum number of iterations"
       ]
      },
      {
       "output_type": "stream",
       "stream": "stdout",
       "text": [
        "\n",
        "174\n",
        "Exceeded maximum number of iterations"
       ]
      },
      {
       "output_type": "stream",
       "stream": "stdout",
       "text": [
        "\n",
        "175\n",
        "Exceeded maximum number of iterations"
       ]
      },
      {
       "output_type": "stream",
       "stream": "stdout",
       "text": [
        "\n",
        "176\n",
        "Exceeded maximum number of iterations"
       ]
      },
      {
       "output_type": "stream",
       "stream": "stdout",
       "text": [
        "\n",
        "177\n",
        "Exceeded maximum number of iterations"
       ]
      },
      {
       "output_type": "stream",
       "stream": "stdout",
       "text": [
        "\n",
        "178\n",
        "Exceeded maximum number of iterations\n",
        "179\n",
        "Exceeded maximum number of iterations"
       ]
      },
      {
       "output_type": "stream",
       "stream": "stdout",
       "text": [
        "\n",
        "180\n",
        "Exceeded maximum number of iterations"
       ]
      },
      {
       "output_type": "stream",
       "stream": "stdout",
       "text": [
        "\n",
        "181\n",
        "Exceeded maximum number of iterations"
       ]
      },
      {
       "output_type": "stream",
       "stream": "stdout",
       "text": [
        "\n",
        "182\n",
        "Exceeded maximum number of iterations"
       ]
      },
      {
       "output_type": "stream",
       "stream": "stdout",
       "text": [
        "\n",
        "183\n",
        "Exceeded maximum number of iterations"
       ]
      },
      {
       "output_type": "stream",
       "stream": "stdout",
       "text": [
        "\n",
        "184\n",
        "Exceeded maximum number of iterations"
       ]
      },
      {
       "output_type": "stream",
       "stream": "stdout",
       "text": [
        "\n",
        "185\n",
        "Exceeded maximum number of iterations"
       ]
      },
      {
       "output_type": "stream",
       "stream": "stdout",
       "text": [
        "\n",
        "186\n",
        "Exceeded maximum number of iterations"
       ]
      },
      {
       "output_type": "stream",
       "stream": "stdout",
       "text": [
        "\n",
        "187\n",
        "Exceeded maximum number of iterations"
       ]
      },
      {
       "output_type": "stream",
       "stream": "stdout",
       "text": [
        "\n",
        "188\n",
        "Exceeded maximum number of iterations"
       ]
      },
      {
       "output_type": "stream",
       "stream": "stdout",
       "text": [
        "\n",
        "189\n",
        "Exceeded maximum number of iterations"
       ]
      },
      {
       "output_type": "stream",
       "stream": "stdout",
       "text": [
        "\n",
        "190\n",
        "Exceeded maximum number of iterations"
       ]
      },
      {
       "output_type": "stream",
       "stream": "stdout",
       "text": [
        "\n",
        "191\n",
        "Exceeded maximum number of iterations"
       ]
      },
      {
       "output_type": "stream",
       "stream": "stdout",
       "text": [
        "\n",
        "192\n",
        "Exceeded maximum number of iterations"
       ]
      },
      {
       "output_type": "stream",
       "stream": "stdout",
       "text": [
        "\n",
        "193\n",
        "Exceeded maximum number of iterations"
       ]
      },
      {
       "output_type": "stream",
       "stream": "stdout",
       "text": [
        "\n",
        "194\n",
        "Exceeded maximum number of iterations"
       ]
      },
      {
       "output_type": "stream",
       "stream": "stdout",
       "text": [
        "\n",
        "195\n",
        "Exceeded maximum number of iterations"
       ]
      },
      {
       "output_type": "stream",
       "stream": "stdout",
       "text": [
        "\n",
        "196\n",
        "Exceeded maximum number of iterations"
       ]
      },
      {
       "output_type": "stream",
       "stream": "stdout",
       "text": [
        "\n",
        "197\n",
        "Exceeded maximum number of iterations"
       ]
      },
      {
       "output_type": "stream",
       "stream": "stdout",
       "text": [
        "\n",
        "198\n",
        "Exceeded maximum number of iterations"
       ]
      },
      {
       "output_type": "stream",
       "stream": "stdout",
       "text": [
        "\n",
        "199\n",
        "Exceeded maximum number of iterations"
       ]
      },
      {
       "output_type": "stream",
       "stream": "stdout",
       "text": [
        "\n",
        "200\n",
        "Exceeded maximum number of iterations"
       ]
      },
      {
       "output_type": "stream",
       "stream": "stdout",
       "text": [
        "\n",
        "201\n",
        "Exceeded maximum number of iterations"
       ]
      },
      {
       "output_type": "stream",
       "stream": "stdout",
       "text": [
        "\n",
        "202\n",
        "Exceeded maximum number of iterations"
       ]
      },
      {
       "output_type": "stream",
       "stream": "stdout",
       "text": [
        "\n",
        "203\n",
        "Exceeded maximum number of iterations"
       ]
      },
      {
       "output_type": "stream",
       "stream": "stdout",
       "text": [
        "\n",
        "204\n",
        "Exceeded maximum number of iterations"
       ]
      },
      {
       "output_type": "stream",
       "stream": "stdout",
       "text": [
        "\n",
        "205\n",
        "Exceeded maximum number of iterations\n",
        "206"
       ]
      },
      {
       "output_type": "stream",
       "stream": "stdout",
       "text": [
        "\n",
        "Exceeded maximum number of iterations\n",
        "207\n",
        "Exceeded maximum number of iterations"
       ]
      },
      {
       "output_type": "stream",
       "stream": "stdout",
       "text": [
        "\n",
        "208\n",
        "Exceeded maximum number of iterations"
       ]
      },
      {
       "output_type": "stream",
       "stream": "stdout",
       "text": [
        "\n",
        "209\n",
        "Exceeded maximum number of iterations"
       ]
      },
      {
       "output_type": "stream",
       "stream": "stdout",
       "text": [
        "\n",
        "210\n",
        "Exceeded maximum number of iterations"
       ]
      },
      {
       "output_type": "stream",
       "stream": "stdout",
       "text": [
        "\n",
        "211\n",
        "Exceeded maximum number of iterations"
       ]
      },
      {
       "output_type": "stream",
       "stream": "stdout",
       "text": [
        "\n",
        "212\n",
        "Exceeded maximum number of iterations"
       ]
      },
      {
       "output_type": "stream",
       "stream": "stdout",
       "text": [
        "\n",
        "213\n",
        "Exceeded maximum number of iterations"
       ]
      },
      {
       "output_type": "stream",
       "stream": "stdout",
       "text": [
        "\n",
        "214\n",
        "Exceeded maximum number of iterations"
       ]
      },
      {
       "output_type": "stream",
       "stream": "stdout",
       "text": [
        "\n",
        "215\n",
        "Exceeded maximum number of iterations"
       ]
      },
      {
       "output_type": "stream",
       "stream": "stdout",
       "text": [
        "\n",
        "216\n",
        "Exceeded maximum number of iterations"
       ]
      },
      {
       "output_type": "stream",
       "stream": "stdout",
       "text": [
        "\n",
        "217\n",
        "Exceeded maximum number of iterations"
       ]
      },
      {
       "output_type": "stream",
       "stream": "stdout",
       "text": [
        "\n",
        "218\n",
        "Exceeded maximum number of iterations"
       ]
      },
      {
       "output_type": "stream",
       "stream": "stdout",
       "text": [
        "\n",
        "219\n",
        "Exceeded maximum number of iterations"
       ]
      },
      {
       "output_type": "stream",
       "stream": "stdout",
       "text": [
        "\n",
        "220\n",
        "Exceeded maximum number of iterations"
       ]
      },
      {
       "output_type": "stream",
       "stream": "stdout",
       "text": [
        "\n",
        "221\n",
        "Exceeded maximum number of iterations"
       ]
      },
      {
       "output_type": "stream",
       "stream": "stdout",
       "text": [
        "\n",
        "222\n",
        "Exceeded maximum number of iterations"
       ]
      },
      {
       "output_type": "stream",
       "stream": "stdout",
       "text": [
        "\n",
        "223\n",
        "Exceeded maximum number of iterations"
       ]
      },
      {
       "output_type": "stream",
       "stream": "stdout",
       "text": [
        "\n",
        "224\n",
        "Exceeded maximum number of iterations"
       ]
      },
      {
       "output_type": "stream",
       "stream": "stdout",
       "text": [
        "\n",
        "225\n",
        "Exceeded maximum number of iterations"
       ]
      },
      {
       "output_type": "stream",
       "stream": "stdout",
       "text": [
        "\n",
        "226\n",
        "Exceeded maximum number of iterations"
       ]
      },
      {
       "output_type": "stream",
       "stream": "stdout",
       "text": [
        "\n"
       ]
      },
      {
       "ename": "LoadError",
       "evalue": "len not defined\nwhile loading In[1], in expression starting on line 22",
       "output_type": "pyerr",
       "traceback": [
        "len not defined\nwhile loading In[1], in expression starting on line 22"
       ]
      }
     ],
     "prompt_number": 1
    },
    {
     "cell_type": "code",
     "collapsed": false,
     "input": [
      "plot(time,orig_flux,linewidth=2)\n",
      "plot(time,flux,color=\"red\")\n",
      "ylim(0.99,1.01)"
     ],
     "language": "python",
     "metadata": {},
     "outputs": [
      {
       "metadata": {},
       "output_type": "display_data",
       "png": "[encoded data removed]",
       "text": [
        "Figure(PyObject <matplotlib.figure.Figure object at 0xefb77d0>)"
       ]
      },
      {
       "metadata": {},
       "output_type": "pyout",
       "prompt_number": 2,
       "text": [
        "(0.99,1.01)"
       ]
      }
     ],
     "prompt_number": 2
    },
    {
     "cell_type": "markdown",
     "metadata": {},
     "source": [
      "##Description\n",
      "The red curve is the detrended data"
     ]
    },
    {
     "cell_type": "code",
     "collapsed": false,
     "input": [],
     "language": "python",
     "metadata": {},
     "outputs": []
    }
   ],
   "metadata": {}
  }
 ]
}