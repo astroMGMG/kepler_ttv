{
 "metadata": {
  "language": "Julia",
  "name": ""
 },
 "nbformat": 3,
 "nbformat_minor": 0,
 "worksheets": [
  {
   "cells": [
    {
     "cell_type": "code",
     "collapsed": false,
     "input": [
      "#Reads file, creates time and flux vectors\n",
      "function read_file(name)\n",
      "    file=readcsv(name)\n",
      "    time=file[:,1]\n",
      "    flux=file[:,2]\n",
      "    return time,flux\n",
      "end"
     ],
     "language": "python",
     "metadata": {},
     "outputs": [
      {
       "metadata": {},
       "output_type": "pyout",
       "prompt_number": 4,
       "text": [
        "read_file (generic function with 1 method)"
       ]
      }
     ],
     "prompt_number": 4
    },
    {
     "cell_type": "code",
     "collapsed": false,
     "input": [
      "#Use to find the derivative\n",
      "\n",
      "function lagrange_deriv(time::Array,flux::Array)\n",
      "    @assert (length(time)==length(flux))\n",
      "    dy=zeros(length(time))\n",
      "    for i in 2:(length(flux)-1)\n",
      "        y0 =flux[i-1]\n",
      "        y1 =flux[i]\n",
      "        y2 =flux[i+1]\n",
      "        x0 =time[i-1]\n",
      "        x1 =time[i]\n",
      "        x2 =time[i+1]\n",
      "        x01 = x0-x1\n",
      "        x02 = x0-x2\n",
      "        x12 = x1-x2\n",
      "        dy[i] = y0*x12/(x01*x02) + y1*(1/x12-1/x01) - y2*x01/(x02*x12)\n",
      "    end\n",
      "    return dy \n",
      "end"
     ],
     "language": "python",
     "metadata": {},
     "outputs": [
      {
       "metadata": {},
       "output_type": "pyout",
       "prompt_number": 14,
       "text": [
        "lagrange_deriv (generic function with 1 method)"
       ]
      }
     ],
     "prompt_number": 14
    },
    {
     "cell_type": "code",
     "collapsed": false,
     "input": [
      "#Creates marker file. File=0 for no event, -1 for event, -0.5 for ingress/egress\n",
      "function create_marker(df::Array,stddev_f::Float64,stddev_df::Float64,flux::Array)\n",
      "    marker=zeros(length(df))\n",
      "    for i in 1:(length(df)) #Assume f is normalized to 1\n",
      "        if (abs(1-flux[i]) < (1.5*stddev_f)) && (abs(df[i]) < (1.5*stddev_df))\n",
      "            marker[i]=0\n",
      "        end\n",
      "        if abs(1-flux[i]) > 1.5*stddev_f && abs(df[i]) < 1.5*stddev_df\n",
      "            marker[i]=-1\n",
      "        end\n",
      "        if abs(1-flux[i]) > 1.5*stddev_f && abs(df[i]) > 1.5*stddev_df\n",
      "            marker[i]=-0.5\n",
      "        end\n",
      "    end\n",
      "    return marker\n",
      "end"
     ],
     "language": "python",
     "metadata": {},
     "outputs": [
      {
       "metadata": {},
       "output_type": "pyout",
       "prompt_number": 18,
       "text": [
        "create_marker (generic function with 2 methods)"
       ]
      }
     ],
     "prompt_number": 18
    },
    {
     "cell_type": "code",
     "collapsed": false,
     "input": [
      "#Finds width of transit events. Output is a vector\n",
      "function transit_width(marker::Array)\n",
      "    width=[]\n",
      "\n",
      "    l=length(marker)\n",
      "    for i in 2:length(marker)\n",
      "        if marker[i] + marker[i-1] == -0.5\n",
      "            width=[width,i]\n",
      "        end\n",
      "    end\n",
      "    width2=[]\n",
      "    for i in 2:2:length(width)-1\n",
      "        width2=[width2,width[i]-width[i-1]]\n",
      "    end\n",
      "    return width2\n",
      "end"
     ],
     "language": "python",
     "metadata": {},
     "outputs": [
      {
       "metadata": {},
       "output_type": "pyout",
       "prompt_number": 19,
       "text": [
        "transit_width (generic function with 1 method)"
       ]
      }
     ],
     "prompt_number": 19
    },
    {
     "cell_type": "code",
     "collapsed": false,
     "input": [
      "#Finds period of transit events. Output is a vector\n",
      "function transit_period(marker::Array)\n",
      "        width=[]\n",
      "\n",
      "        l=length(marker)\n",
      "        for i in 2:length(marker)\n",
      "            if marker[i] + marker[i-1] == -0.5\n",
      "                width=[width,i]\n",
      "            end\n",
      "        end\n",
      "        period=[]\n",
      "        for i in 2:2:length(width)-1\n",
      "            period=[period,width[i+1]-width[i-1]]\n",
      "        end\n",
      "    return period\n",
      "end"
     ],
     "language": "python",
     "metadata": {},
     "outputs": [
      {
       "metadata": {},
       "output_type": "pyout",
       "prompt_number": 20,
       "text": [
        "transit_period (generic function with 1 method)"
       ]
      }
     ],
     "prompt_number": 20
    },
    {
     "cell_type": "code",
     "collapsed": false,
     "input": [
      "#Finds depth of transit events. Output is a vector\n",
      "function transit_depth(marker::Array,flux::Array)\n",
      "    depth=[];\n",
      "    for i in 1:length(marker)\n",
      "        if marker[i] == -1.0\n",
      "            depth=[depth,flux[i]]\n",
      "        end\n",
      "    end\n",
      "    return depth\n",
      "end"
     ],
     "language": "python",
     "metadata": {},
     "outputs": [
      {
       "metadata": {},
       "output_type": "pyout",
       "prompt_number": 21,
       "text": [
        "transit_depth (generic function with 1 method)"
       ]
      }
     ],
     "prompt_number": 21
    },
    {
     "cell_type": "code",
     "collapsed": false,
     "input": [
      "#Wrapper function that finds transit parameters and plots fitted curve over data.\n",
      "function fit_curve(filename::String)\n",
      "    light_curve=read_file(filename)\n",
      "    time=light_curve[1]\n",
      "    flux=light_curve[2]\n",
      "    df=lagrange_deriv(time,flux)\n",
      "    stddev_f=std(flux)\n",
      "    stddev_df=std(df)\n",
      "    \n",
      "    marker=create_marker(df,stddev_f,stddev_df,flux)\n",
      "    width=mean(transit_width(marker))\n",
      "    period=mean(transit_period(marker))\n",
      "    depth=mean(transit_depth(marker,flux))\n",
      "    \n",
      "    model_curve=zeros(length(marker))\n",
      "    for i in 1:length(marker)\n",
      "        if marker[i] == 0\n",
      "            #Assume flux is normalized to 1\n",
      "            model_curve[i]=1\n",
      "        else \n",
      "            model_curve[i]=depth\n",
      "        end\n",
      "    end\n",
      "  #  period_marker=linspace(1,period,period)\n",
      "  #  period_repeat=period_marker\n",
      "  #  for i in 1:iceil(length(time)/period)-1\n",
      "  #      append!(period_repeat,period_marker)\n",
      "  #  end\n",
      "    \n",
      "    #Plot for 3 transit events\n",
      "    plot(model_curve[1:iceil(3*period)])\n",
      "    plot(flux[1:iceil(3*period)])\n",
      "    return model_curve\n",
      "end"
     ],
     "language": "python",
     "metadata": {},
     "outputs": [
      {
       "metadata": {},
       "output_type": "pyout",
       "prompt_number": 40,
       "text": [
        "fit_curve (generic function with 1 method)"
       ]
      }
     ],
     "prompt_number": 40
    }
   ],
   "metadata": {}
  }
 ]
}